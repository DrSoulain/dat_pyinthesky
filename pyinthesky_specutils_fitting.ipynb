{
 "cells": [
  {
   "cell_type": "markdown",
   "metadata": {},
   "source": [
    "# User Experience Concept for Specutils fitting \n",
    "\n",
    "Created May 2018\n",
    "\n",
    "This is an example user workflow showing the plan for a typical line-fitting operation for a user.\n",
    "\n",
    "Note: this is *not* scoped to be \"all line fitting for everyone\".  Plenty of astronomers have strong opinions about various parts of this process and probably want to do their own thing.  The goal here is to provide pieces that users can use to produce their own workflows in that case."
   ]
  },
  {
   "cell_type": "markdown",
   "metadata": {},
   "source": [
    "##  Preliminaries\n",
    "\n",
    "This illustrates how one might get the data - the first case demonstrates a hypothetical spectrum from NIRSpec/etc from JWST.  The second is a more generic \"I'm loading my data from a file\" case."
   ]
  },
  {
   "cell_type": "code",
   "execution_count": null,
   "metadata": {
    "collapsed": true
   },
   "outputs": [],
   "source": [
    "import specutils"
   ]
  },
  {
   "cell_type": "code",
   "execution_count": null,
   "metadata": {
    "collapsed": true
   },
   "outputs": [],
   "source": [
    "# if you have jwst data\n",
    "\n",
    "import jwsttools #NEEDS IMPLEMENTING\n",
    "\n",
    "program_data = jwsttools.download_program(pid=1234)\n",
    "spectral_collection = program_data.spectra\n",
    "spectra = spectral_collection.as_list()  "
   ]
  },
  {
   "cell_type": "markdown",
   "metadata": {},
   "source": [
    "Note re: the above: `SpectralCollection` doesn't yet exit... it might be it can be treated as a list in the end. But the point is that `spectra` should act like a list of `Spectrum1D` objects in the end to match the below cell."
   ]
  },
  {
   "cell_type": "code",
   "execution_count": null,
   "metadata": {
    "collapsed": true
   },
   "outputs": [],
   "source": [
    "# if you are from some random telescope that gave you any of the formats specutils can read\n",
    "from glob import glob\n",
    "\n",
    "fns = glob('my_awesome_spectra_*.fits')\n",
    "spectra = [specutils.Spectrum1D.read(fn) for fn in fns]"
   ]
  },
  {
   "cell_type": "markdown",
   "metadata": {},
   "source": [
    "## One spectrum vs many\n",
    "\n",
    "In most cases the user will be thinking about one spectrum.  They might do on as an example, and then apply the algorithms repeatedly (that's the case considered at the end of this notebook).  Others may wish to repeat these steps individually or in part for *every* spectrum in their dataset. In principal, `SpectrumCollection` will enable at least some of these steps.  For the sake of clarity, though (and simplicity in initial implementation), here we consider the \"one spectrum\" case, on the theory that the rest is either a for-loop or many copy-and-pasted cells."
   ]
  },
  {
   "cell_type": "code",
   "execution_count": null,
   "metadata": {
    "collapsed": true
   },
   "outputs": [],
   "source": [
    "spectrum = spectra[0]  # spectrum is now a specutils.Spectrum1D object"
   ]
  },
  {
   "cell_type": "markdown",
   "metadata": {},
   "source": [
    "## Viewing the spectrum\n",
    "\n",
    "Some sort of view of the spectrum is critical. Below we consider the \"easy\" and \"fancy\" versions: the rest of the notebook will mostly assume the former, but the idea is that some/all of the steps that require interaction could be automated in the \"fancy\" version."
   ]
  },
  {
   "cell_type": "code",
   "execution_count": 10,
   "metadata": {},
   "outputs": [
    {
     "data": {
      "image/png": "[encoded data removed]",
      "text/plain": [
       "<matplotlib.figure.Figure at 0x11478e898>"
      ]
     },
     "metadata": {},
     "output_type": "display_data"
    }
   ],
   "source": [
    "import specviz\n",
    "\n",
    "\n",
    "# This *might* belong in specutils, possibly even spectrum.plot() although that requires some discussion/decision\n",
    "specviz.plot_spectrum(spectrum)  "
   ]
  },
  {
   "cell_type": "markdown",
   "metadata": {},
   "source": [
    "OR"
   ]
  },
  {
   "cell_type": "code",
   "execution_count": 1,
   "metadata": {},
   "outputs": [
    {
     "name": "stdout",
     "output_type": "stream",
     "text": [
      "A FANCY NOTEBOOK-BASED SPECVIZ GUI GOES HERE!\n"
     ]
    }
   ],
   "source": [
    "specviz.show(spectrum)"
   ]
  },
  {
   "cell_type": "markdown",
   "metadata": {},
   "source": [
    "The GUI above could include most of the Qt specviz features, but in this view would be limited to interactive viewing/rescaling, and selection of ROIs.  "
   ]
  },
  {
   "cell_type": "markdown",
   "metadata": {},
   "source": [
    "## Step \"0\": continuum fitting\n",
    "\n",
    "Some spectra come out of their reduction pipeline continuum-subtracted, or the continuum might be so low that it's effectively missing.  In those cases this step isn't necessary.  In other cases, they come out of the pipeline flux calibrated (e.g., for HST spectra). In that case, for some science cases the user has their own continuum model that they construct and subtract from the spectrum (not addressed here, but allowing this step to be skipped). In yet other cases users want their model to *include* the continuum in some manner or another, leading to skipping the second part of this step.\n",
    "\n",
    "But assuming they *do* need to deal with the continuum, the first step is to create a model.  Specutils should include a \"reasonable\" continuum fitter that \"just works\" for some fairly typical use cases (e.g. optical spectra of stars or emission line galaxies).  The trouble is that the definition of \"typical use cases\" really depends on the setting.  So we will evetnually have a class of `fit_continuum_*` functions that do something sensible. But we can start with something in that vein that seems to work for some cases, along the lines of:"
   ]
  },
  {
   "cell_type": "code",
   "execution_count": null,
   "metadata": {
    "collapsed": true
   },
   "outputs": [],
   "source": [
    "continuum_model = specutils.fit_continuum_generic(spectrum)"
   ]
  },
  {
   "cell_type": "markdown",
   "metadata": {
    "collapsed": true
   },
   "source": [
    "These are by design going to be a bit \"magical\", though.  So the user should also be able to just choose a reasonable continuum model and a fitter.  E.g.,"
   ]
  },
  {
   "cell_type": "code",
   "execution_count": null,
   "metadata": {
    "collapsed": true
   },
   "outputs": [],
   "source": [
    "continuum_model = specutils.fit_continuum(spectrum, model=Chebyshev1D(10), fitter=LinearLSQFitter())"
   ]
  },
  {
   "cell_type": "markdown",
   "metadata": {},
   "source": [
    "This is by design a very limited function that just does the fitting, perhaps some uncertainty-related operations (in the future) and perhaps some unit-related transforms. The expectation is that the `fit_continuum_*` functions typically call `fit_continuum` as their *final* step.  \n",
    "\n",
    "But some users of `fit_continuum` will want to do \"pre-steps\" because they want to have control like what they might expect from the [IRAF continuum task](http://stsdas.stsci.edu/cgi-bin/gethelp.cgi?continuum).  As an example, users might expect also to be able to average points together as part of continuum fitting. We should tell them they can do that as a separate smoothing/decimation step if that's what they want:"
   ]
  },
  {
   "cell_type": "code",
   "execution_count": null,
   "metadata": {
    "collapsed": true
   },
   "outputs": [],
   "source": [
    "averaged_spectrum = specutils.box_smooth(spectrum, 3)[::3]\n",
    "continuum_model = specutils.fit_continuum(averaged_spectrum)"
   ]
  },
  {
   "cell_type": "markdown",
   "metadata": {},
   "source": [
    "As more `fit_continuum_*` functions appear, that may become less necessary, but it should always be possible for a user to \"take full control\" that way if they want."
   ]
  },
  {
   "cell_type": "markdown",
   "metadata": {},
   "source": [
    "Additionally, for some spectra (like the one above), there might be spectral lines that \"infect\" the continuum measurements.  Users will want to be able to specify regions of the spectrum to be either fit or excluded from the fit.\n",
    "\n",
    "The actual selection of ROI's could be done using a specviz-style GUI.  Something like:"
   ]
  },
  {
   "cell_type": "code",
   "execution_count": 12,
   "metadata": {},
   "outputs": [
    {
     "name": "stdout",
     "output_type": "stream",
     "text": [
      "A FANCY NOTEBOOK-BASED SPECVIZ GUI GOES HERE\n",
      "The user uses that GUI to select a few areas they want to exclude from the continuum fit.\n"
     ]
    }
   ],
   "source": [
    "viz = specviz.show(spectrum)"
   ]
  },
  {
   "cell_type": "code",
   "execution_count": 15,
   "metadata": {},
   "outputs": [
    {
     "data": {
      "text/plain": [
       "[<Quantity [ 4900., 5100.] Angstrom>, <Quantity [ 6400., 6600.] Angstrom>]"
      ]
     },
     "execution_count": 15,
     "metadata": {},
     "output_type": "execute_result"
    }
   ],
   "source": [
    "to_exclude = viz.get_selections()\n",
    "to_exclude"
   ]
  },
  {
   "cell_type": "markdown",
   "metadata": {},
   "source": [
    "Or absent a GUI the user can simply specify the ranges manually:"
   ]
  },
  {
   "cell_type": "code",
   "execution_count": null,
   "metadata": {
    "collapsed": true
   },
   "outputs": [],
   "source": [
    "to_exclude = [(4900, 5100)*u.angstrom, (6400, 6600)*u.angstrom]"
   ]
  },
  {
   "cell_type": "markdown",
   "metadata": {},
   "source": [
    "While it should be possible to create a new spectrum using slicing, probably a simple convenience function like this will suffice for the \"remove the lines\" uses case:"
   ]
  },
  {
   "cell_type": "code",
   "execution_count": 18,
   "metadata": {},
   "outputs": [
    {
     "data": {
      "image/png": "[encoded data removed]",
      "text/plain": [
       "<matplotlib.figure.Figure at 0x116525d68>"
      ]
     },
     "metadata": {},
     "output_type": "display_data"
    }
   ],
   "source": [
    "excised_spectrum = specutils.excise_regions(spectrum, to_exclude)\n",
    "specviz.plot_spectrum(excised_spectrum)"
   ]
  },
  {
   "cell_type": "markdown",
   "metadata": {},
   "source": [
    "And the user can then just use that for their continuum fit:"
   ]
  },
  {
   "cell_type": "code",
   "execution_count": null,
   "metadata": {
    "collapsed": true
   },
   "outputs": [],
   "source": [
    "continuum_model = specutils.fit_continuum_generic(excised_spectrum)"
   ]
  },
  {
   "cell_type": "markdown",
   "metadata": {},
   "source": [
    "That then yields the users' continuum model."
   ]
  },
  {
   "cell_type": "code",
   "execution_count": 11,
   "metadata": {},
   "outputs": [
    {
     "data": {
      "image/png": "[encoded data removed]",
      "text/plain": [
       "<matplotlib.figure.Figure at 0x1163f9390>"
      ]
     },
     "metadata": {},
     "output_type": "display_data"
    }
   ],
   "source": [
    "specviz.plot_spectrum(spectrum)\n",
    "plt.plot(spectrum.spectral_axis, continuum_model(spectrumXXX))"
   ]
  },
  {
   "cell_type": "markdown",
   "metadata": {},
   "source": [
    "Now that there's a model, the user can do subtraction, normalization, or just hold onto the model for later."
   ]
  },
  {
   "cell_type": "code",
   "execution_count": null,
   "metadata": {
    "collapsed": true
   },
   "outputs": [],
   "source": [
    "# This `model_to_spectrum` function is pretty straightforward to implement -\n",
    "# - probably just a few lines, which means it's debatable if it's worth writing.\n",
    "# but it's probably worth it because it's probably needed in several places.\n",
    "continuum_spectrum = specutils.model_to_spectrum(continuum_model, spectrum.spectral_axis) \n",
    "\n",
    "# because the continuum_spectrum is Spectrum1D, it's trivial arithmetic operations\n",
    "spectrum_consub = spectrum - continuum_spectrum\n",
    "spectrum_connorm = spectrum/continuum_spectrum"
   ]
  },
  {
   "cell_type": "markdown",
   "metadata": {},
   "source": [
    "The end result is a `Spectrum1D` that has been either:\n",
    "\n",
    "1. Unaltered \n",
    "2. Continuum-subtracted\n",
    "3. Continuum-normalized\n",
    "\n",
    "The steps below should accept all these cases, although not necessarily equally well."
   ]
  },
  {
   "cell_type": "markdown",
   "metadata": {},
   "source": [
    "## Step 1: Identify Lines"
   ]
  },
  {
   "cell_type": "code",
   "execution_count": null,
   "metadata": {
    "collapsed": true
   },
   "outputs": [],
   "source": []
  },
  {
   "cell_type": "markdown",
   "metadata": {},
   "source": [
    "Note that the user might *stop* here, for example if they want to identify "
   ]
  },
  {
   "cell_type": "markdown",
   "metadata": {},
   "source": [
    "## Step 2: Guesses"
   ]
  },
  {
   "cell_type": "code",
   "execution_count": null,
   "metadata": {
    "collapsed": true
   },
   "outputs": [],
   "source": []
  },
  {
   "cell_type": "markdown",
   "metadata": {
    "collapsed": true
   },
   "source": [
    "https://github.com/astropy/specutils/issues/222"
   ]
  },
  {
   "cell_type": "markdown",
   "metadata": {},
   "source": [
    "## Step 3: Fit Lines"
   ]
  },
  {
   "cell_type": "markdown",
   "metadata": {},
   "source": [
    "At this point most of the \"real\" work has been done.  The final step is to actually do the line fitting. For line-fitting, there's actually two broad categories of approaches users are likely to want, which require somewhat different interfaces, so we will address them separately."
   ]
  },
  {
   "cell_type": "markdown",
   "metadata": {},
   "source": [
    "### Approach 1: Separately fit each line"
   ]
  },
  {
   "cell_type": "markdown",
   "metadata": {},
   "source": [
    "The more traditional approach is to fit individual lines (and the region just around them) of a continuum-subtracted image. A single convenience function can do this given that the complexity of defining the models to fit has been dealt with above:"
   ]
  },
  {
   "cell_type": "code",
   "execution_count": null,
   "metadata": {
    "collapsed": true
   },
   "outputs": [],
   "source": [
    "fitted_lines = specutils.fit_lines(spectrum_consub, guess_models)"
   ]
  },
  {
   "cell_type": "markdown",
   "metadata": {},
   "source": [
    "The default parameters should be reasonable enough that this yields a list of line models matching the `guess_models`, but fitted to the spectrum.\n",
    "\n",
    "There are several options that should be available, though:"
   ]
  },
  {
   "cell_type": "code",
   "execution_count": null,
   "metadata": {
    "collapsed": true
   },
   "outputs": [],
   "source": [
    "fitted_lines = specutils.fit_lines(spectrum_consub, guess_models,\n",
    "                                   fitter=LinearLSQFitter(),\n",
    "                                   window='3-std',\n",
    "                                   weights=None)"
   ]
  },
  {
   "cell_type": "markdown",
   "metadata": {},
   "source": [
    "The `fitter` is simply the object that is used to fit the models to the data, a standard astropy fitter.\n",
    "\n",
    "The `window` keyword specifies the region to be cut-out surrounding the lines. This can be either an array or a scalar - in the array case it has to match the models, and is a way to give a specific cut-out for *every* line.  The scalar case is for all-the-same.  In either the array or scalar case, the window should be possible to be specified in 3 different forms.\n",
    "\n",
    "* `'X-std'`: this means use X times the `std` parameter of the initial model (it could be *any* parameter name, but only that one really makes sense for a Gaussian).  That is, use the guesses from Step 2.  Note that this is a bit non-ideal because we would want it to just be something simple like 3sigma, and *not* have to have it be customized for different models.  Solving that could be done in the next round, though."
   ]
  },
  {
   "cell_type": "code",
   "execution_count": null,
   "metadata": {
    "collapsed": true
   },
   "outputs": [],
   "source": [
    "fitted_lines = specutils.fit_lines(spectrum_consub, guess_models,\n",
    "                                   window='3-std')"
   ]
  },
  {
   "cell_type": "markdown",
   "metadata": {},
   "source": [
    "* raw number (or Quantity with units of pixel): this means use a window that many pixels wide. "
   ]
  },
  {
   "cell_type": "code",
   "execution_count": null,
   "metadata": {
    "collapsed": true
   },
   "outputs": [],
   "source": [
    "# assume that the narrow_line/wide_line are taken from the guesses above\n",
    "fitted_lines = specutils.fit_lines(spectrum_consub, [narrow_line, wide_line],\n",
    "                                   fitter=LinearLSQFitter(),\n",
    "                                   window=[10, 30])"
   ]
  },
  {
   "cell_type": "markdown",
   "metadata": {},
   "source": [
    "* Quantity with units that match the `spectral_axis`: this means use a window that covers that range of the line."
   ]
  },
  {
   "cell_type": "code",
   "execution_count": null,
   "metadata": {
    "collapsed": true
   },
   "outputs": [],
   "source": [
    "fitted_lines = specutils.fit_lines(spectrum_consub, guess_models,\n",
    "                                   window=20*u.angstrom)"
   ]
  },
  {
   "cell_type": "markdown",
   "metadata": {},
   "source": [
    "The `weights` keyword is a weighting term to include.  Note also that this is *multiplied by* the mask in the spectrum.  It does *not* override the mask.  This needs to be stated very clearly in the docstring.\n",
    "\n",
    "\n",
    "For the first cut it can either be an None(the examples above), meaning no weighting, or alternatively an array of weights or a special string like `'ivar'`, as per below:"
   ]
  },
  {
   "cell_type": "code",
   "execution_count": null,
   "metadata": {
    "collapsed": true
   },
   "outputs": [],
   "source": [
    "weights = np.ones(len(sspectrum_contsub))\n",
    "weights = sspectrum_contsub.flux < -10*u.adu  # say we know for some reason that extreme-negative values are bad\n",
    "\n",
    "fitted_lines = specutils.fit_lines(spectrum_consub, guess_models,\n",
    "                                   weights=weights)"
   ]
  },
  {
   "cell_type": "code",
   "execution_count": null,
   "metadata": {
    "collapsed": true
   },
   "outputs": [],
   "source": [
    "fitted_lines = specutils.fit_lines(spectrum_consub, guess_models,\n",
    "                                   weights='ivar')"
   ]
  },
  {
   "cell_type": "markdown",
   "metadata": {},
   "source": [
    "In the `ivar` case it uses the inverse-variance (or raises an error if there's no uncertainty).  In the future more uncertaintainty-related options may be included.\n",
    "\n",
    "Note that the `fit_lines` function is expected to use much of the same machinery as `fit_continuum`, since it's essentially the same operation, just inside a for loop for the many-models case.  But that's hidden from the user because of the different \"pre-steps\" required for line-fitting."
   ]
  },
  {
   "cell_type": "markdown",
   "metadata": {},
   "source": [
    "### Approach 2: combined fit of all the components"
   ]
  },
  {
   "cell_type": "markdown",
   "metadata": {},
   "source": [
    "Another approach that has gained popularity of late due to improved computation and stellar models, is the \"full spectrum fitting\" or \"forward-modeling\" approach.  In this case the model is esentially a generative model of the full spectrum, and all of that is fit simultaneously.  Although Step 0-2 are largely the same, the fitting process is implemented quite differently, so it is logical to give it a distinct function, although it looks quite similar to the above approach."
   ]
  },
  {
   "cell_type": "markdown",
   "metadata": {},
   "source": [
    "Here the user has to combine all the above models to get a single model to fit:"
   ]
  },
  {
   "cell_type": "code",
   "execution_count": null,
   "metadata": {
    "collapsed": true
   },
   "outputs": [],
   "source": [
    "combined_model0 = specutils.combine_models([continuum_model] + guess_models)"
   ]
  },
  {
   "cell_type": "markdown",
   "metadata": {},
   "source": [
    "There are many possible keywords for the above function that we might want to add later, but for a first cut, it should *only* do the above, which is to create a composite model that is the sum of all the individual models."
   ]
  },
  {
   "cell_type": "markdown",
   "metadata": {},
   "source": [
    "Then the final fit is actually quite simple, re-using the `fitter` and `weights` arguments from Approach 1. (Note that probably this should use the same *underlying* function to ensure they act the same, but that's an implementation detail)"
   ]
  },
  {
   "cell_type": "code",
   "execution_count": null,
   "metadata": {
    "collapsed": true
   },
   "outputs": [],
   "source": [
    "combined_model, fitted_cont_and_lines = specutils.fit_full_spectrum(spectrum_consub, combined_model0,\n",
    "                                   fitter=LinearLSQFitter(),\n",
    "                                   weights=None)"
   ]
  },
  {
   "cell_type": "markdown",
   "metadata": {},
   "source": [
    "One critical difference from the above though: this returns both a single combined model *and* the individual models.  This is possible with the `astropy.modeling` machinery, but can be rather confusing.  So this provides an easier interface that automatically does it."
   ]
  },
  {
   "cell_type": "markdown",
   "metadata": {},
   "source": [
    "Utilizing either approach, the user should now be able to plot up the combined fits:"
   ]
  },
  {
   "cell_type": "code",
   "execution_count": 6,
   "metadata": {},
   "outputs": [
    {
     "data": {
      "image/png": "[encoded data removed]",
      "text/plain": [
       "<matplotlib.figure.Figure at 0x114fcec88>"
      ]
     },
     "metadata": {},
     "output_type": "display_data"
    }
   ],
   "source": [
    "specviz.plot_spectrum(spectrum, combined_model)"
   ]
  },
  {
   "cell_type": "markdown",
   "metadata": {},
   "source": [
    "## Step n: Wash, Rinse, and Repeat"
   ]
  },
  {
   "cell_type": "code",
   "execution_count": null,
   "metadata": {
    "collapsed": true
   },
   "outputs": [],
   "source": []
  },
  {
   "cell_type": "markdown",
   "metadata": {},
   "source": [
    "## Unanswered Questions\n",
    "\n",
    "* As outlined above, there is no understanding of what *kind* of `spectral_axis` a continuum or line fit model should correspond to.  One option would be to use the modeling unit machinery to force it to only be a specific unit, but that *might* be a lot of work (perhaps someone should try it?).  Alternatively, the models could just get an additional attribute `spectral_axis_type` that the user has to know to look for in their own custom code, but at least the `specutils` operations can catch if something doesn't match."
   ]
  },
  {
   "cell_type": "markdown",
   "metadata": {},
   "source": [
    "# Miscellaneous stuff (not part of the interface document)"
   ]
  },
  {
   "cell_type": "markdown",
   "metadata": {},
   "source": [
    "Below here is code to \"fake\" the plots above, etc.  Not a part of the actual document."
   ]
  },
  {
   "cell_type": "code",
   "execution_count": 1,
   "metadata": {
    "collapsed": true
   },
   "outputs": [],
   "source": [
    "import numpy as np\n",
    "\n",
    "from astropy import units as u\n",
    "from astropy.modeling import models\n",
    "from astropy.modeling.blackbody import FLAM\n",
    "\n",
    "%matplotlib inline\n",
    "from matplotlib import pyplot as plt"
   ]
  },
  {
   "cell_type": "code",
   "execution_count": 5,
   "metadata": {},
   "outputs": [
    {
     "data": {
      "image/png": "[encoded data removed]",
      "text/plain": [
       "<matplotlib.figure.Figure at 0x114ca6b00>"
      ]
     },
     "metadata": {},
     "output_type": "display_data"
    }
   ],
   "source": [
    "fake_spectrum_x = np.logspace(np.log10(3900), np.log10(9000), 512)*u.angstrom\n",
    "continuum_spectrum = 500000*models.BlackBody1D(temperature=4800*u.K)(fake_spectrum_x).to(FLAM, u.spectral_density(fake_spectrum_x)).value\n",
    "fake_spectrum_noiseless = continuum_spectrum + models.Gaussian1D(20,6563, 45)(fake_spectrum_x.value)\n",
    "fake_spectrum_noiseless += models.Gaussian1D(40,5007, 25)(fake_spectrum_x.value)\n",
    "fake_spectrum = fake_spectrum_noiseless + 5*np.random.randn(len(fake_spectrum_x))\n",
    "\n",
    "plt.step(fake_spectrum_x, fake_spectrum)\n",
    "plt.xlabel('$\\lambda \\; [\\AA]$', fontsize=18)\n",
    "plt.ylabel('$Flux \\; [ADU]$', fontsize=18);"
   ]
  },
  {
   "cell_type": "code",
   "execution_count": null,
   "metadata": {
    "collapsed": true
   },
   "outputs": [],
   "source": [
    "plt.step(fake_spectrum_x, fake_spectrum)\n",
    "plt.plot(fake_spectrum_x, continuum_spectrum)\n",
    "plt.xlabel('$\\lambda \\; [\\AA]$', fontsize=18)\n",
    "plt.ylabel('$Flux \\; [ADU]$', fontsize=18);"
   ]
  },
  {
   "cell_type": "code",
   "execution_count": 3,
   "metadata": {},
   "outputs": [
    {
     "data": {
      "image/png": "[encoded data removed]",
      "text/plain": [
       "<matplotlib.figure.Figure at 0x114615da0>"
      ]
     },
     "metadata": {},
     "output_type": "display_data"
    }
   ],
   "source": [
    "to_exclude = [(4900, 5100)*u.angstrom, (6400, 6600)*u.angstrom]\n",
    "\n",
    "msk = (~((4900<fake_spectrum_x.value)&(fake_spectrum_x.value<5100))&\n",
    "       ~((6400<fake_spectrum_x.value)&(fake_spectrum_x.value<6600)))\n",
    "\n",
    "plt.step(fake_spectrum_x[msk], fake_spectrum[msk])\n",
    "plt.xlabel('$\\lambda \\; [\\AA]$', fontsize=18)\n",
    "plt.ylabel('$Flux \\; [ADU]$', fontsize=18);"
   ]
  },
  {
   "cell_type": "code",
   "execution_count": 6,
   "metadata": {},
   "outputs": [
    {
     "data": {
      "image/png": "[encoded data removed]",
      "text/plain": [
       "<matplotlib.figure.Figure at 0x114fcec88>"
      ]
     },
     "metadata": {},
     "output_type": "display_data"
    }
   ],
   "source": [
    "plt.step(fake_spectrum_x, fake_spectrum)\n",
    "plt.plot(fake_spectrum_x, fake_spectrum_noiseless)\n",
    "plt.xlabel('$\\lambda \\; [\\AA]$', fontsize=18)\n",
    "plt.ylabel('$Flux \\; [ADU]$', fontsize=18);"
   ]
  }
 ],
 "metadata": {
  "kernelspec": {
   "display_name": "Python (anaconda root)",
   "language": "python",
   "name": "anaconda-root"
  },
  "language_info": {
   "codemirror_mode": {
    "name": "ipython",
    "version": 3
   },
   "file_extension": ".py",
   "mimetype": "text/x-python",
   "name": "python",
   "nbconvert_exporter": "python",
   "pygments_lexer": "ipython3",
   "version": "3.5.2"
  }
 },
 "nbformat": 4,
 "nbformat_minor": 2
}
