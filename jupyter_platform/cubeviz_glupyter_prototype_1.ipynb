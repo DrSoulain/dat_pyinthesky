{
 "cells": [
  {
   "cell_type": "markdown",
   "metadata": {},
   "source": [
    "# Test Cubeviz Base Functionality with Glupyter\n",
    "\n",
    "This work is to satisfy https://github.com/spacetelescope/dat_pyinthesky/issues/28 . Example adapted from https://mybinder.org/v2/gh/glue-viz/glue-jupyter/master?filepath=notebooks%2FAstronomy%2FL1448%2FL1448%20in%203D.ipynb .\n",
    "\n",
    "1. Load a data cube\n",
    "2. Display 2D and 1D\n",
    "3. Median collapse cube\n",
    "4. Stretch goal: Hover stats with X, Y, value, RA, DEC"
   ]
  },
  {
   "cell_type": "code",
   "execution_count": null,
   "metadata": {},
   "outputs": [],
   "source": [
    "import numpy as np\n",
    "\n",
    "import glue_jupyter as gj\n",
    "from glue_jupyter.data import require_data"
   ]
  },
  {
   "cell_type": "markdown",
   "metadata": {},
   "source": [
    "Load a sample cube."
   ]
  },
  {
   "cell_type": "code",
   "execution_count": null,
   "metadata": {},
   "outputs": [],
   "source": [
    "# Sample data magic.\n",
    "require_data('Astronomy/L1448/l1448_13co.fits')"
   ]
  },
  {
   "cell_type": "code",
   "execution_count": null,
   "metadata": {},
   "outputs": [],
   "source": [
    "# Start the application.\n",
    "app = gj.jglue()"
   ]
  },
  {
   "cell_type": "code",
   "execution_count": null,
   "metadata": {},
   "outputs": [],
   "source": [
    "cube = app.load_data('l1448_13co.fits')\n",
    "print(cube.components)"
   ]
  },
  {
   "cell_type": "markdown",
   "metadata": {},
   "source": [
    "Extract data array."
   ]
  },
  {
   "cell_type": "code",
   "execution_count": null,
   "metadata": {},
   "outputs": [],
   "source": [
    "data_array = cube['PRIMARY']\n",
    "print(data_array.shape)"
   ]
  },
  {
   "cell_type": "markdown",
   "metadata": {},
   "source": [
    "**Hacky hack hack: Bloat the array up to MIRI size.**\n",
    "\n",
    "This hack also renders the RA, DEC, and wavelength space useless."
   ]
  },
  {
   "cell_type": "code",
   "execution_count": null,
   "metadata": {},
   "outputs": [],
   "source": [
    "data_array = np.tile(data_array, (19, 1, 1))\n",
    "print(data_array.shape)"
   ]
  },
  {
   "cell_type": "code",
   "execution_count": null,
   "metadata": {},
   "outputs": [],
   "source": [
    "from glue.core import Data\n",
    "\n",
    "big_cube = Data(PRIMARY=data_array)\n",
    "print(big_cube.components)\n",
    "print(big_cube.shape)"
   ]
  },
  {
   "cell_type": "code",
   "execution_count": null,
   "metadata": {},
   "outputs": [],
   "source": [
    "big_cube = app.add_data(big_cube=big_cube)[0]"
   ]
  },
  {
   "cell_type": "markdown",
   "metadata": {},
   "source": [
    "Compute its median-collapsed cube."
   ]
  },
  {
   "cell_type": "code",
   "execution_count": null,
   "metadata": {},
   "outputs": [],
   "source": [
    "median_collapsed_cube = np.nanmedian(data_array, axis=0)"
   ]
  },
  {
   "cell_type": "code",
   "execution_count": null,
   "metadata": {},
   "outputs": [],
   "source": [
    "mcc_im = app.add_data(mcc=median_collapsed_cube)[0]"
   ]
  },
  {
   "cell_type": "markdown",
   "metadata": {},
   "source": [
    "Display 3D.\n",
    "\n",
    "**TODO: Z display looks weird, does not show all data?**\n",
    "\n",
    "**TODO: Has 2 FutureWarning from ipyvolumes!**"
   ]
  },
  {
   "cell_type": "code",
   "execution_count": null,
   "metadata": {},
   "outputs": [],
   "source": [
    "app.volshow(data=big_cube)"
   ]
  },
  {
   "cell_type": "markdown",
   "metadata": {},
   "source": [
    "Display 2D. This needs https://github.com/glue-viz/glue-jupyter/pull/74 to work.\n",
    "\n",
    "**TODO: This does not show the data, I only see empty viewer. A bug?**\n",
    "\n",
    "**TODO: How do select which 2D slice to display, by sliding the World0 slider?**"
   ]
  },
  {
   "cell_type": "code",
   "execution_count": null,
   "metadata": {
    "scrolled": false
   },
   "outputs": [],
   "source": [
    "app.imshow(data=big_cube)"
   ]
  },
  {
   "cell_type": "markdown",
   "metadata": {},
   "source": [
    "Display 1D.\n",
    "\n",
    "**TODO: How do select location on X and Y to probe through Z?**\n",
    "\n",
    "**TODO: Showed something for cube but nothing for big_cube.**"
   ]
  },
  {
   "cell_type": "code",
   "execution_count": null,
   "metadata": {},
   "outputs": [],
   "source": [
    "app.profile1d('Pixel Axis 0 [z]', data=big_cube)"
   ]
  },
  {
   "cell_type": "markdown",
   "metadata": {},
   "source": [
    "Display median-collapsed cube.\n",
    "\n",
    "**TODO: This does not show the data, I only see empty viewer. A bug?**"
   ]
  },
  {
   "cell_type": "code",
   "execution_count": null,
   "metadata": {},
   "outputs": [],
   "source": [
    "app.imshow(data=mcc_im)"
   ]
  },
  {
   "cell_type": "markdown",
   "metadata": {},
   "source": [
    "Hover stats (stretch goal).\n",
    "\n",
    "**TODO: I am not even going to try this one. Tom R, halp!!!**"
   ]
  }
 ],
 "metadata": {
  "kernelspec": {
   "display_name": "Python 3",
   "language": "python",
   "name": "python3"
  },
  "language_info": {
   "codemirror_mode": {
    "name": "ipython",
    "version": 3
   },
   "file_extension": ".py",
   "mimetype": "text/x-python",
   "name": "python",
   "nbconvert_exporter": "python",
   "pygments_lexer": "ipython3",
   "version": "3.7.1"
  }
 },
 "nbformat": 4,
 "nbformat_minor": 2
}
