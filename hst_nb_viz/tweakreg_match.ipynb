{
 "cells": [
  {
   "cell_type": "markdown",
   "metadata": {},
   "source": [
    "# TweakReg Matching of F606W 47 Tuc Geometric Distortion Images with the GAIA DR2 Catalog"
   ]
  },
  {
   "cell_type": "code",
   "execution_count": null,
   "metadata": {},
   "outputs": [],
   "source": [
    "import matplotlib.pyplot as plt\n",
    "import numpy as np\n",
    "import astropy.units as u\n",
    "from astropy.io import fits\n",
    "from astropy.io import ascii\n",
    "from astropy.table import Table\n",
    "from photutils import CircularAperture, SkyCircularAperture\n",
    "from astropy.coordinates import SkyCoord\n",
    "import astropy.wcs as wcs\n",
    "\n",
    "%matplotlib inline\n",
    "plt.rcParams['figure.figsize'] = (20,20)"
   ]
  },
  {
   "cell_type": "code",
   "execution_count": null,
   "metadata": {},
   "outputs": [],
   "source": [
    "# read in detection catalog\n",
    "\n",
    "coords_tab = Table.read('new_f606w/post/ja9bw2a5q_flc_sci1_xy_catalog.coo', \n",
    "                        format='ascii.no_header', names=['X','Y','Flux', 'ID'])\n",
    "\n",
    "\n",
    "# read in fits file\n",
    "\n",
    "hdulist = fits.open('/grp/hst/acs9/slhoffmann/geodist/idc2019/f606w/images/post/ja9bw2a5q_flc.fits')"
   ]
  },
  {
   "cell_type": "code",
   "execution_count": null,
   "metadata": {},
   "outputs": [],
   "source": [
    "# plot the sources on the image\n",
    "\n",
    "# Make the apertures with photutils. \n",
    "# One pixel offset corrects for differences between (0,0) and (1,1) origin systems. \n",
    "apertures = CircularAperture([coords_tab['X']-1., \n",
    "                              coords_tab['Y']-1.], \n",
    "                              r=10.)\n",
    "\n",
    "# Plot a region of the image with pyplot\n",
    "plt.imshow(hdulist[1].data, cmap='Greys', origin='lower', vmin=0, vmax=400)\n",
    "\n",
    "# Overplot the apertures onto the image\n",
    "apertures.plot(color='blue', lw=1)"
   ]
  },
  {
   "cell_type": "code",
   "execution_count": null,
   "metadata": {},
   "outputs": [],
   "source": [
    "# read in detection catalog\n",
    "\n",
    "coords_tab = Table.read('new_f606w/post/ja9bw2a5q_flc_sci2_xy_catalog.coo', \n",
    "                        format='ascii.no_header', names=['X','Y','Flux', 'ID'])"
   ]
  },
  {
   "cell_type": "code",
   "execution_count": null,
   "metadata": {},
   "outputs": [],
   "source": [
    "# plot the sources on the image\n",
    "\n",
    "# Make the apertures with photutils. \n",
    "# One pixel offset corrects for differences between (0,0) and (1,1) origin systems. \n",
    "apertures = CircularAperture([coords_tab['X']-1., \n",
    "                              coords_tab['Y']-1.], \n",
    "                              r=10.)\n",
    "\n",
    "# Plot a region of the image with pyplot\n",
    "plt.imshow(hdulist[4].data, cmap='Greys', origin='lower', vmin=0, vmax=400)\n",
    "\n",
    "# Overplot the apertures onto the image\n",
    "apertures.plot(color='blue', lw=1)"
   ]
  },
  {
   "cell_type": "code",
   "execution_count": null,
   "metadata": {},
   "outputs": [],
   "source": [
    "# now plot matched sources on image\n",
    "\n",
    "match_tab = ascii.read('new_f606w/post/ja9bw2a5q_flc_catalog_fit.match')\n",
    "x_coord, y_coord = match_tab['col11'], match_tab['col12']\n",
    "\n",
    "match_apertures = CircularAperture([x_coord, y_coord], r=10.)\n",
    "\n",
    "# Plot a region of the image with pyplot\n",
    "plt.imshow(hdulist[4].data, cmap='Greys', origin='lower', vmin=0, vmax=400)\n",
    "\n",
    "# Overplot the apertures onto the image\n",
    "match_apertures.plot(color='red', lw=1)"
   ]
  },
  {
   "cell_type": "code",
   "execution_count": null,
   "metadata": {},
   "outputs": [],
   "source": [
    "# Plot a region of the image with pyplot\n",
    "plt.imshow(hdulist[1].data, cmap='Greys', origin='lower', vmin=0, vmax=400)\n",
    "\n",
    "# Overplot the apertures onto the image\n",
    "match_apertures.plot(color='red', lw=1)"
   ]
  },
  {
   "cell_type": "code",
   "execution_count": null,
   "metadata": {},
   "outputs": [],
   "source": [
    "# read in gaia catalog\n",
    "\n",
    "gaia_tab = Table.read('47tuc_gaia.poss', \n",
    "                        format='ascii.no_header', names=['X','Y','Mag', 'RA', 'DEC', 'ERR1', 'ERR2'])"
   ]
  },
  {
   "cell_type": "code",
   "execution_count": null,
   "metadata": {},
   "outputs": [],
   "source": [
    "# plot\n",
    "gaia_sky_apertures = SkyCircularAperture(SkyCoord(gaia_tab['RA'], gaia_tab['DEC'], unit='deg'), \n",
    "                                         r=0.5*u.arcsec) \n",
    "                    #frame='/grp/hst/acs9/slhoffmann/geodist/idc2019/f606w/images/post/ja9bw2a5q_flc.fits')\n",
    "    \n",
    "gaia_apertures = gaia_sky_apertures.to_pixel(wcs.WCS(hdulist[1].header, hdulist))\n",
    "\n",
    "# Plot a region of the image with pyplot\n",
    "plt.imshow(hdulist[4].data, cmap='Greys', origin='lower', vmin=0, vmax=400)\n",
    "\n",
    "# Overplot the apertures onto the image\n",
    "gaia_apertures.plot(color='purple', lw=1)"
   ]
  },
  {
   "cell_type": "code",
   "execution_count": null,
   "metadata": {},
   "outputs": [],
   "source": []
  }
 ],
 "metadata": {
  "kernelspec": {
   "display_name": "Python 3",
   "language": "python",
   "name": "python3"
  },
  "language_info": {
   "codemirror_mode": {
    "name": "ipython",
    "version": 3
   },
   "file_extension": ".py",
   "mimetype": "text/x-python",
   "name": "python",
   "nbconvert_exporter": "python",
   "pygments_lexer": "ipython3",
   "version": "3.7.1"
  }
 },
 "nbformat": 4,
 "nbformat_minor": 2
}
