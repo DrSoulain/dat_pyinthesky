{
 "cells": [
  {
   "cell_type": "code",
   "execution_count": null,
   "metadata": {
    "scrolled": false
   },
   "outputs": [],
   "source": [
    "%matplotlib widget"
   ]
  },
  {
   "cell_type": "code",
   "execution_count": null,
   "metadata": {
    "scrolled": false
   },
   "outputs": [],
   "source": [
    "from astropy.io import fits\n",
    "import numpy as np\n",
    "from matplotlib import pyplot as plt\n",
    "from ipywidgets import IntSlider, interact, VBox\n",
    "from mpl_toolkits.axes_grid1 import make_axes_locatable\n",
    "from matplotlib import cm"
   ]
  },
  {
   "cell_type": "markdown",
   "metadata": {},
   "source": [
    "## Loading the data"
   ]
  },
  {
   "cell_type": "markdown",
   "metadata": {},
   "source": [
    "(requirement #1)"
   ]
  },
  {
   "cell_type": "code",
   "execution_count": null,
   "metadata": {
    "scrolled": false
   },
   "outputs": [],
   "source": [
    "name = '/eng/ssb/busko/NGC5406.V1200.rscube.fits'\n",
    "hdulist = fits.open(name)\n",
    "if len(hdulist)>1:\n",
    "    hdu=hdulist[1]\n",
    "else:\n",
    "    hdu=hdulist[0]\n",
    "\n",
    "cube = hdu.data.T # remember to always transpose with fits files\n",
    "hdr = hdu.header\n",
    "hdr['CRVAL3'] = 0 # adapt to this data\n",
    "hdr['Cd3_3'] = 1\n",
    "\n",
    "# Data seems to have lots of garbage at the edges. It has also\n",
    "# a lot of bad pixels. These should be handled by a masked array\n",
    "# version of the cube, but for now we resort to clipping and\n",
    "# forcing the plot axis and grayscales to behave.  "
   ]
  },
  {
   "cell_type": "code",
   "execution_count": null,
   "metadata": {},
   "outputs": [],
   "source": [
    "print(cube.shape)"
   ]
  },
  {
   "cell_type": "markdown",
   "metadata": {},
   "source": [
    "## Calculate the median map"
   ]
  },
  {
   "cell_type": "code",
   "execution_count": null,
   "metadata": {
    "scrolled": true
   },
   "outputs": [],
   "source": [
    "median = np.median(cube, axis=2)"
   ]
  },
  {
   "cell_type": "markdown",
   "metadata": {},
   "source": [
    "## Display cube, median map, and spectra"
   ]
  },
  {
   "cell_type": "markdown",
   "metadata": {},
   "source": [
    "(requirements #2 and #3)"
   ]
  },
  {
   "cell_type": "code",
   "execution_count": null,
   "metadata": {
    "scrolled": false
   },
   "outputs": [],
   "source": [
    "# Create figure and axes\n",
    "fig_cube = plt.figure(figsize=(8,5))\n",
    "ax_cube = fig_cube.add_subplot(221)\n",
    "ax_median = fig_cube.add_subplot(222)\n",
    "ax_plot = fig_cube.add_subplot(223)\n",
    "\n",
    "ax_cube.set_xticks([])\n",
    "ax_cube.set_yticks([])\n",
    "ax_median.set_xticks([])\n",
    "ax_median.set_yticks([])\n",
    "ax_cube.set_title('3D Data Cube')\n",
    "ax_median.set_title('Median Map')\n",
    "\n",
    "# Display the raw cube and median maps\n",
    "median_im = ax_median.imshow(median, vmin=0.,vmax=0.02)\n",
    "divider = make_axes_locatable(ax_median)\n",
    "cax = divider.append_axes(\"right\", size=\"5%\", pad=0.05)\n",
    "fig_cube.colorbar(median_im, cax=cax)\n",
    "\n",
    "cube_im = ax_cube.imshow(cube[:,:,0],vmin=0.,vmax=0.02,cmap=cm.get_cmap('Greys'))\n",
    "divider = make_axes_locatable(ax_cube)\n",
    "cax = divider.append_axes(\"right\", size=\"5%\", pad=0.05)\n",
    "fig_cube.colorbar(cube_im, cax=cax)\n",
    "\n",
    "plt.tight_layout()\n",
    "\n",
    "# Create the slider and its callback\n",
    "slider = IntSlider(value=int(cube.shape[2]/2.), min=0, max=cube.shape[2]-1)\n",
    "\n",
    "def plot_test(slice_num):\n",
    "    cube_im.set_data(cube[:,:,slice_num])\n",
    "    fig_cube.canvas.draw_idle()\n",
    "\n",
    "_ = interact(plot_test, slice_num=slider)\n",
    "\n",
    "# Plot spectrum in the center of the cube, and add\n",
    "# the 1D plotting interactivity to the cube image.\n",
    "ax_plot.set_ylim([0.0,0.1])\n",
    "ax_plot.plot(cube[int(cube.shape[0]/2),int(cube.shape[1]/2),:])\n",
    "\n",
    "def onclick(event):\n",
    "    if event.inaxes == ax_cube:\n",
    "        ax_plot.clear()\n",
    "        ax_plot.set_ylim([0.0,0.1])\n",
    "        ax_plot.plot(cube[int(event.xdata),int(event.ydata),:])\n",
    "        \n",
    "cid = fig_cube.canvas.mpl_connect('button_press_event', onclick)\n",
    "\n",
    "VBox([fig_cube.canvas, slider])"
   ]
  },
  {
   "cell_type": "markdown",
   "metadata": {},
   "source": [
    "End of demo."
   ]
  }
 ],
 "metadata": {
  "celltoolbar": "Raw Cell Format",
  "kernelspec": {
   "display_name": "Python 3",
   "language": "python",
   "name": "python3"
  },
  "language_info": {
   "codemirror_mode": {
    "name": "ipython",
    "version": 3
   },
   "file_extension": ".py",
   "mimetype": "text/x-python",
   "name": "python",
   "nbconvert_exporter": "python",
   "pygments_lexer": "ipython3",
   "version": "3.7.1"
  }
 },
 "nbformat": 4,
 "nbformat_minor": 1
}
