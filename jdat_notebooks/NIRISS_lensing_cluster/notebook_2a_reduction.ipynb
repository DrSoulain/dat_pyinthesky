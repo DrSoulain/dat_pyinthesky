{
 "cells": [
  {
   "cell_type": "markdown",
   "metadata": {},
   "source": [
    "# Detector & image2+3 reduction of NIRISS direct images\n",
    "\n",
    "This notebook demonstrates how to reduce JWST data\n",
    "This is the second of series of notebooks that focus on crwoded field photometry (see other notebooks in the directory).\n",
    "\n",
    "This notebook will demonstrate how to reduce NIRISS WFSS and direct image data simulated in the previous step (1a&1b). Raw data (_uncal.fits) should be in the output directory.\n",
    "\n",
    "\n",
    "## To Do:\n",
    "- Run JWST reduction.\n",
    "\n",
    "\n",
    "### Requirement:\n",
    "- JWST pipeline environment. [see here](https://jwst-pipeline.readthedocs.io/en/latest/)\n",
    "\n",
    "\n",
    "### This notebook can also be used for NIRCam images with minimal update. "
   ]
  },
  {
   "cell_type": "code",
   "execution_count": 1,
   "metadata": {},
   "outputs": [],
   "source": [
    "import glob\n",
    "import os\n",
    "import argparse\n",
    "from astropy.io import fits\n",
    "try:\n",
    "    from configobj import ConfigObj\n",
    "except ModuleNotFoundError:\n",
    "    from jwst.extern.configobj.configobj import ConfigObj\n",
    "\n",
    "from jwst.pipeline import collect_pipeline_cfgs\n",
    "from jwst.pipeline import Detector1Pipeline\n",
    "from jwst.pipeline import Image2Pipeline\n",
    "from jwst.pipeline import Image3Pipeline\n",
    "from jwst.pipeline import Spec2Pipeline\n",
    "from jwst.pipeline import Spec3Pipeline\n",
    "\n",
    "import yaml"
   ]
  },
  {
   "cell_type": "code",
   "execution_count": 2,
   "metadata": {},
   "outputs": [],
   "source": [
    "# Some fancy function;\n",
    "TERM = os.get_terminal_size()\n",
    "SYM = \"~\"\n",
    "def printnice(level):\n",
    "    \"\"\"\n",
    "    Print the current pipeline level and make it nice :)\n",
    "    Args:\n",
    "        level (str): The thing you want to print nicely.\n",
    "    \"\"\"\n",
    "\n",
    "    print(\"\\n\", SYM*TERM.columns, \"\\n\", SYM, level.center(TERM.columns-2), SYM, \"\\n\", SYM*TERM.columns, \"\\n\", sep=\"\")"
   ]
  },
  {
   "cell_type": "code",
   "execution_count": 3,
   "metadata": {},
   "outputs": [],
   "source": [
    "### Let's make a reduction directory, to avoid too many items.\n",
    "DIR_RED = './reduction/'\n",
    "if not os.path.exists(DIR_RED):\n",
    "    os.mkdir(DIR_RED)\n"
   ]
  },
  {
   "cell_type": "markdown",
   "metadata": {},
   "source": [
    "#### Collect niriss raw images;\n",
    "You can use real images from JWST or simulated images from Mirage.\n",
    "\n",
    "Here I'm using images simulated in example Notebook a1/a2, which locate in DIR_FILE directory."
   ]
  },
  {
   "cell_type": "code",
   "execution_count": 4,
   "metadata": {},
   "outputs": [
    {
     "data": {
      "text/plain": [
       "['./output/jw00042001001_01101_00010_nis_uncal.fits',\n",
       " './output/jw00042001001_01101_00006_nis_uncal.fits',\n",
       " './output/jw00042001001_01101_00001_nis_uncal.fits',\n",
       " './output/jw00042001001_01101_00003_nis_uncal.fits',\n",
       " './output/jw00042001001_01101_00009_nis_uncal.fits',\n",
       " './output/jw00042001001_01101_00012_nis_uncal.fits',\n",
       " './output/jw00042001001_01101_00011_nis_uncal.fits',\n",
       " './output/jw00042001001_01101_00002_nis_uncal.fits',\n",
       " './output/jw00042001001_01101_00004_nis_uncal.fits',\n",
       " './output/jw00042001001_01101_00007_nis_uncal.fits',\n",
       " './output/jw00042001001_01101_00005_nis_uncal.fits',\n",
       " './output/jw00042001001_01101_00008_nis_uncal.fits']"
      ]
     },
     "execution_count": 4,
     "metadata": {},
     "output_type": "execute_result"
    }
   ],
   "source": [
    "DIR_FILE = './output/'\n",
    "images  = glob.glob('%s*_nis_uncal.fits'%(DIR_FILE))\n",
    "images"
   ]
  },
  {
   "cell_type": "markdown",
   "metadata": {},
   "source": [
    "#### Setup output & Configuration paths;"
   ]
  },
  {
   "cell_type": "code",
   "execution_count": 5,
   "metadata": {},
   "outputs": [],
   "source": [
    "configdir = './%s/conf/'%DIR_RED # Where configuration files for Webb pipeline locate.\n",
    "outdir    = './%s/output_nis/'%DIR_RED # Where your reduced products will locate."
   ]
  },
  {
   "cell_type": "code",
   "execution_count": 6,
   "metadata": {},
   "outputs": [],
   "source": [
    "if configdir is None:\n",
    "    print(\"Downloading config files to current directory\")\n",
    "    collect_pipeline_cfgs.collect_pipeline_cfgs()\n",
    "    configdir = \".\"\n",
    "if outdir is None:\n",
    "    outdir = os.path.dirname(image)\n",
    "if not os.path.exists(outdir):\n",
    "    os.mkdir(outdir)\n",
    "    print(\"Created directory {}\".format(outdir))\n",
    "\n",
    "# Ensure that the source_catalog step has save_results set to True\n",
    "sc = ConfigObj(os.path.join(configdir, \"source_catalog.cfg\"))\n",
    "if \"save_results\" not in sc:\n",
    "    print(\"Modifying {} to add save_results option\".format(os.path.join(configdir, \"source_catalog.cfg\")))\n",
    "    sc[\"save_results\"] = True\n",
    "    sc.write()"
   ]
  },
  {
   "cell_type": "markdown",
   "metadata": {},
   "source": [
    "### Start reduction --- DETECTOR1 and IMAGE2. \n",
    "#### For this part, it does not matter if you provide NIRISS or NIRCam images."
   ]
  },
  {
   "cell_type": "code",
   "execution_count": 14,
   "metadata": {},
   "outputs": [
    {
     "data": {
      "text/plain": [
       "'    image1 = Detector1Pipeline.call(image, save_results=True,\\n                config_file=os.path.join(configdir, \"calwebb_detector1.cfg\"),\\n                output_dir=outdir)\\n    image1_file = os.path.join(outdir, image1.meta.filename)\\n\\n    # Run the image through Image2.\\n    printnice(\"IMAGE2\")\\n    image2 = Image2Pipeline.call(image1_file, save_results=True,\\n                config_file=os.path.join(configdir, \"calwebb_image2.cfg\"),\\n                output_dir=outdir)\\n    image2_file = os.path.join(outdir, image2[0].meta.filename)\\n    image2_files.append(image2_file)'"
      ]
     },
     "execution_count": 14,
     "metadata": {},
     "output_type": "execute_result"
    }
   ],
   "source": [
    "image2_files = []\n",
    "for image in images:\n",
    "    # Run both the direct and dispersed images through Detector11.\n",
    "    #printnice(\"DETECTOR1\")\n",
    "    image1 = Detector1Pipeline.call(image, save_results=True,\n",
    "                config_file=os.path.join(configdir, \"calwebb_detector1.cfg\"),\n",
    "                output_dir=outdir)\n",
    "    image1_file = os.path.join(outdir, image1.meta.filename)\n",
    "\n",
    "    # Run the image through Image2.\n",
    "    printnice(\"IMAGE2\")\n",
    "    image2 = Image2Pipeline.call(image1_file, save_results=True,\n",
    "                config_file=os.path.join(configdir, \"calwebb_image2.cfg\"),\n",
    "                output_dir=outdir)\n",
    "    image2_file = os.path.join(outdir, image2[0].meta.filename)\n",
    "    image2_files.append(image2_file)\n",
    "    "
   ]
  },
  {
   "cell_type": "markdown",
   "metadata": {},
   "source": [
    "### You should find reduced files in outdir, including _nis_cal.fits (calibrated image2 products).\n",
    "These files will be used in IMAGE3 reduction, to get a final stacked image."
   ]
  },
  {
   "cell_type": "code",
   "execution_count": 19,
   "metadata": {},
   "outputs": [],
   "source": [
    "# Example;\n",
    "\n",
    "# 1. Create json file\n",
    "product_name = 'l3_nis_f200w'\n",
    "json_name    = 'l3_asn_nis_f200w.json'\n",
    "line = 'asn_from_list -o %s --product-name %s %s/jw00042001001_01101_000{01,06,07,12}_nis_cal.fits'%(json_name,product_name,outdir)\n",
    "# Execute 'line' in command line tool.\n",
    "os.system(line)"
   ]
  },
  {
   "cell_type": "code",
   "execution_count": 20,
   "metadata": {},
   "outputs": [],
   "source": [
    "# 2. Run image3 reduction with the json file above;\n",
    "line = 'strun %s/calwebb_image3.cfg %s'%(configdir,json_name)\n",
    "os.system(line)"
   ]
  },
  {
   "cell_type": "markdown",
   "metadata": {},
   "source": [
    "### You will get [product_name]_i2d.fits, which is a stacked (and drizzled) image."
   ]
  },
  {
   "cell_type": "code",
   "execution_count": 22,
   "metadata": {},
   "outputs": [
    {
     "data": {
      "text/plain": [
       "<matplotlib.image.AxesImage at 0x12eab6e10>"
      ]
     },
     "execution_count": 22,
     "metadata": {},
     "output_type": "execute_result"
    },
    {
     "data": {
      "image/png": "[encoded data removed]",
      "text/plain": [
       "<Figure size 432x288 with 1 Axes>"
      ]
     },
     "metadata": {
      "needs_background": "light"
     },
     "output_type": "display_data"
    }
   ],
   "source": [
    "from astropy.io import fits\n",
    "import matplotlib.pyplot as plt\n",
    "image3 = '%s_i2d.fits'%(product_name)\n",
    "data   = fits.open(image3)[1].data\n",
    "plt.imshow(data,vmin=0,vmax=1.)"
   ]
  },
  {
   "cell_type": "markdown",
   "metadata": {},
   "source": [
    "### Tips:\n",
    "If your images are not alinged, you may want to change Tweakreg parameters in conf/Tweakreg.cfg for better alignment.\n",
    "\n",
    "Also, other parameters can be tweaked from the configuration files there."
   ]
  }
 ],
 "metadata": {
  "kernelspec": {
   "display_name": "Python 3",
   "language": "python",
   "name": "python3"
  },
  "language_info": {
   "codemirror_mode": {
    "name": "ipython",
    "version": 3
   },
   "file_extension": ".py",
   "mimetype": "text/x-python",
   "name": "python",
   "nbconvert_exporter": "python",
   "pygments_lexer": "ipython3",
   "version": "3.6.7"
  }
 },
 "nbformat": 4,
 "nbformat_minor": 2
}
