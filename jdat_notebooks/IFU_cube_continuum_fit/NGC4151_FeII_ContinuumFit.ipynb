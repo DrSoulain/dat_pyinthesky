{
 "cells": [
  {
   "cell_type": "markdown",
   "metadata": {},
   "source": [
    "# IFU Data Modeling, NGC 4151 Notebook #1 - Isolating Line Emission\n",
    "#### This notebook uses an example 3-D IFU Datacube of the Active Galactic Nucleii NGC 4151 (Storchi-Bergmann et al. 2009,  MNRAS, V 394, pp. 1148-1166).  This is a ground-based AO-fed H-band dataset (1.47-1.87um) from the Near-Infrared Integral Field Spectrograph (NIFS) instrument at the Gemini Observatory.  NIFS is a very similar image slicing IFU to JWST NIRSpec.\n",
    "In this notebook, we do some simple spectral investigations.  Then we fit the continuum in a region near to our emission feature of interest, the 1.644um [Fe II] emission from the AGN outflow.  We subtract the continuum and fit and remove the centrally compact atomic Hydrogen Brackett 12 feature, which is nearby in wavelength and contaminates the [Fe II] outflow emission.  We save data sub-cubes of the continuum model and the isolated and continuum subtracted [Fe II] emission.  These saved data sets serve as starting points for the further notebooks in this series.\n"
   ]
  },
  {
   "cell_type": "code",
   "execution_count": null,
   "metadata": {},
   "outputs": [],
   "source": [
    "# load important packages\n",
    "import time\n",
    "\n",
    "import numpy as np\n",
    "\n",
    "import astropy\n",
    "from astropy.io import fits, ascii\n",
    "from astropy import units as u\n",
    "from astropy.modeling import models\n",
    "from specutils.fitting import fit_lines\n",
    "from astropy.utils.data import download_file\n",
    "\n",
    "from specutils import Spectrum1D\n",
    "\n",
    "from jdaviz.app import Application\n"
   ]
  },
  {
   "cell_type": "code",
   "execution_count": null,
   "metadata": {},
   "outputs": [],
   "source": [
    "%matplotlib notebook\n",
    "import matplotlib.pyplot as plt\n",
    "plt.rcParams.update({'figure.max_open_warning': 0})\n"
   ]
  },
  {
   "cell_type": "code",
   "execution_count": null,
   "metadata": {
    "scrolled": true
   },
   "outputs": [],
   "source": [
    "# Read in a 3-D IFU datacube of interest, and header.\n",
    "cube_file = 'https://data.science.stsci.edu/redirect/JWST/jwst-data_analysis_tools/IFU_cube_continuum_fit/NGC4151_Hband.fits'\n",
    "cube = fits.getdata(cube_file)\n",
    "header_cube = fits.getheader(cube_file)\n",
    "\n",
    "#grab data information and wavelength definitions.\n",
    "nz, ny, nx = cube.shape\n",
    "crdelt3 = header_cube['CDELT3']\n",
    "crval3 = header_cube['CRVAL3']\n",
    "\n",
    "#define the wavelength grid (microns) from the header (Angstroms)\n",
    "# and the AGN redshift, emission lines of interest and their indices.\n",
    "wave =((crdelt3 * (np.arange(0,nz,1))) + crval3)/10000.0\n",
    "redshift = 0.00332\n",
    "emission_line = 1.64400*(1 + redshift)\n",
    "emission_line_index = (np.abs(wave-emission_line)).argmin()\n",
    "\n",
    "# make a simple summed 1d spectrum of the full cube\n",
    "flux1 = np.sum(cube, axis=(1,2))\n",
    "\n",
    "# plot the full 1-D spectrum.\n",
    "plt.figure(0)\n",
    "plt.plot(wave,flux1)\n",
    "plt.show()\n"
   ]
  },
  {
   "cell_type": "markdown",
   "metadata": {},
   "source": [
    "We see that the spectral edges of the summed 1D are 'ratty'.  The 1D spectral array goes beyond the nominal useable data range of the instrument.  We'll ignore the poor spectral regions and focus on the AGN flux.\n",
    "\n",
    "The [Fe II] feature that we are interested in is the bright, strong emission just shortward of 1.65um.  The contaminating H I Br 12 emission is just blueward of the [Fe II]."
   ]
  },
  {
   "cell_type": "code",
   "execution_count": null,
   "metadata": {
    "scrolled": true
   },
   "outputs": [],
   "source": [
    "\n",
    "#define the wavelength region where you want to remove the continuum very accurately.  \n",
    "# Here we select a region that includes the emission line\n",
    "# wavelength plus a range of continuum around it.  \n",
    "# Determine these limits by investigating the flux in the above plot.  Read\n",
    "# the wavelength values off of the plot information at the lower right.\n",
    "\n",
    "wave_emission_limit1 = 1.630\n",
    "wave_emission_limit2 = 1.665\n",
    "\n",
    "# Here we define a spectral range where we will use the\n",
    "# flux to generate a continuum model.  The flux shape in this\n",
    "# AGN is quite linear around the redward emission, so we will use only a \n",
    "# short segment of the spectrum on the red side of the emission \n",
    "# feature.\n",
    "# We again determine these values by investigating the wavelengths in the\n",
    "# above plot window.\n",
    "\n",
    "continuum_limit1 = 1.656\n",
    "continuum_limit2 = 1.673\n",
    "  \n",
    "#Define the wavelength region around the emission - indices\n",
    "wavemin = (np.abs(wave-wave_emission_limit1)).argmin()\n",
    "wavemax = (np.abs(wave-wave_emission_limit2)).argmin()\n",
    "\n",
    "# Define the wavelength region used to fit the continuum flux level  - indices.\n",
    "continuummin = (np.abs(wave-continuum_limit1)).argmin()\n",
    "continuummax = (np.abs(wave-continuum_limit2)).argmin()\n",
    "\n",
    "#show the region used for the emission line and continuum fit.  Alter the wavelengths \n",
    "# above if this doesn't look good.\n",
    "plt.figure(1)\n",
    "plt.plot(wave,flux1)\n",
    "plt.plot(wave[wavemin:wavemax],flux1[wavemin:wavemax])\n",
    "plt.plot(wave[continuummin:continuummax],flux1[continuummin:continuummax],color='r')\n",
    "plt.show()\n",
    "\n"
   ]
  },
  {
   "cell_type": "markdown",
   "metadata": {},
   "source": [
    " For this particular dataset, this continuum region looks very good.\n",
    " if you have a more structured continuum you can define additional\n",
    " regions and append them into a larger set of wave / flux arrays to \n",
    " derive a more accurate fit in the below poly-fit analysis."
   ]
  },
  {
   "cell_type": "code",
   "execution_count": null,
   "metadata": {
    "scrolled": true
   },
   "outputs": [],
   "source": [
    "# Use cubeviz to look at the data in the cube.  Here, we load the app.\n",
    "\n",
    "app = Application(configuration='cubeviz')\n",
    "app\n"
   ]
  },
  {
   "cell_type": "code",
   "execution_count": null,
   "metadata": {
    "scrolled": true
   },
   "outputs": [],
   "source": [
    "\n",
    "# Here, we load the data into the cubeviz app.\n",
    "cube_file= 'NGC4151_Hband.fits'\n",
    "app.load_data(cube_file)\n",
    " "
   ]
  },
  {
   "cell_type": "markdown",
   "metadata": {},
   "source": [
    "\n",
    "### Note: You must do these steps to load and select the data in cubeviz in order\n",
    "### for the next cells to work correctly.\n",
    "\n",
    "Set the cubeviz visualization panel to view our cube by selecting it in the\n",
    "data (gear) icon.\n",
    "\n",
    "In the same way, select the datacube in the spectral viewer at the bottom of the cubeviz pane.\n",
    "This is the same cube-summed 1-D spectrum that we plotted above. \n",
    "\n",
    "In the datacube viewing panel, you can also select the 'layer' tab in the gear (data) icon and change \n",
    "display scaling.  Decreasing the maximum display value by 10x brings out the low level extended emission\n",
    "in this dataset.  Data from slice ~1060 to ~1080 shows the extended [Fe II] emission.  "
   ]
  },
  {
   "cell_type": "code",
   "execution_count": null,
   "metadata": {},
   "outputs": [],
   "source": [
    "# show the 1-D spectrum.\n",
    "app.get_viewer('spectrum-viewer').show()\n"
   ]
  },
  {
   "cell_type": "code",
   "execution_count": null,
   "metadata": {},
   "outputs": [],
   "source": [
    "# grab the collapsed spectrum.\n",
    "spec_input = app.get_data_from_viewer('spectrum-viewer')\n"
   ]
  },
  {
   "cell_type": "markdown",
   "metadata": {},
   "source": [
    "Use the flux viewer in cubeviz to extract a spectrum located at the central AGN position.\n",
    "It should show in the above spectral viewer, too."
   ]
  },
  {
   "cell_type": "code",
   "execution_count": null,
   "metadata": {},
   "outputs": [],
   "source": [
    "# Grab the layer spectrum that corresponds to the central AGN position.\n",
    "\n",
    "spec_agn = app.get_data_from_viewer('spectrum-viewer', 'Subset 1')\n",
    "spec_agn\n",
    "\n",
    "# plot the 1-D spectrum of this smaller sub-region.\n",
    "plt.figure(2)\n",
    "plt.plot(wave[wavemin:wavemax],spec_agn.flux[wavemin:wavemax])\n",
    "plt.show()\n"
   ]
  },
  {
   "cell_type": "markdown",
   "metadata": {},
   "source": [
    "Now, use the flux viewer to make two more spectra at two positions associated with the outflow emission in [Fe II]."
   ]
  },
  {
   "cell_type": "code",
   "execution_count": null,
   "metadata": {},
   "outputs": [],
   "source": [
    "\n",
    "#grab the outflow spectra from the spectral viewer window.\n",
    "\n",
    "spec_feii_red = app.get_data_from_viewer('spectrum-viewer', 'Subset 2')\n",
    "spec_feii_red\n",
    "\n",
    "spec_feii_blue = app.get_data_from_viewer('spectrum-viewer', 'Subset 3')\n",
    "spec_feii_blue\n",
    "\n",
    "#plot a zoomed view of the spectra grabbed from cubeviz\n",
    "\n",
    "# plot the 1-D redshifted outflow spectrum.\n",
    "plt.figure(3)\n",
    "plt.plot(wave[wavemin:wavemax],spec_feii_blue.flux[wavemin:wavemax])\n",
    "plt.show()\n",
    "\n",
    "# plot the 1-D spectrum blueshifted outflow spectrum.\n",
    "plt.figure(3)\n",
    "plt.plot(wave[wavemin:wavemax],spec_feii_red.flux[wavemin:wavemax],color='r')\n",
    "plt.show()\n",
    "\n"
   ]
  },
  {
   "cell_type": "code",
   "execution_count": null,
   "metadata": {},
   "outputs": [],
   "source": [
    "\n",
    "#demonstration of a linear fit to the continuum flux level\n",
    "# this method uses simple functions in numpy to fit the continuum. \n",
    "\n",
    "cont_fit = np.polyfit(wave[continuummin:continuummax], flux1[continuummin:continuummax], 1)\n",
    "fitval = np.poly1d(cont_fit)\n",
    "continuum = fitval(wave)\n",
    "\n",
    "plt.figure(4)\n",
    "plt.plot(wave,flux1)\n",
    "plt.show()\n",
    "\n",
    "plt.figure(4)\n",
    "plt.plot(wave[continuummin:continuummax],flux1[continuummin:continuummax])\n",
    "plt.show()\n",
    "\n",
    "plt.figure(4)\n",
    "plt.plot(wave,continuum)\n",
    "plt.show()\n"
   ]
  },
  {
   "cell_type": "code",
   "execution_count": null,
   "metadata": {},
   "outputs": [],
   "source": [
    "# That looks pretty good.\n",
    "\n",
    "# Continued demonstration of a linear fit to the continuum flux level\n",
    "# This method uses the specutils and modeling packages available\n",
    "# in astropy.  It does the same thing as the prior cell, but in an astropy \n",
    "# spectral format.\n",
    "\n",
    "# Here we use the polynomial routine to do a linear fit - this is so it's easy\n",
    "# to update the fit order, if necessary.\n",
    "\n",
    "full_spectrum=Spectrum1D(\n",
    "    flux=flux1* u.Unit('count'), spectral_axis=wave* u.micron)\n",
    "\n",
    "# Make Spectrum1D specutils version of data for the continuum segment.\n",
    "spectrum = Spectrum1D(\n",
    "    flux=flux1[continuummin:continuummax]*u.Unit('count'),\n",
    "    spectral_axis=wave[continuummin:continuummax]*u.micron)\n",
    "\n",
    "# Make an empty model with no initial guess of the coefficients\n",
    "# If guessing make sure to only pass values (no units)\n",
    "m = models.Polynomial1D(degree=1) # You can place a guess by setting c0 and c1\n",
    "# Fit model and save fitted model containing the fitted params\n",
    "fitted_model = fit_lines(spectrum, m)\n",
    "# Just to showcase how to access the fitted params\n",
    "cont_fit = [fitted_model.c1.value, fitted_model.c0.value]\n",
    "\n",
    "# notice I dont have to use cont_fit to get my continuum\n",
    "# I just call the model with my spectral values\n",
    "continuum = fitted_model(full_spectrum.spectral_axis)\n",
    "\n",
    "#plot the results - identical to above numpy code - looks good.\n",
    "plt.figure(5)\n",
    "plt.plot(wave,flux1)\n",
    "plt.show()\n",
    "\n",
    "plt.figure(5)\n",
    "plt.plot(wave,continuum)\n",
    "plt.show()\n"
   ]
  },
  {
   "cell_type": "code",
   "execution_count": null,
   "metadata": {},
   "outputs": [],
   "source": [
    "#Make a datacube that has the continuum flux level subtracted off.\n",
    "# then make another datacube that is only the continuum flux, to serve\n",
    "# as a PSF model to correct out the bright, central HI features.\n",
    "\n",
    "# Here I'm using the numpy functions for continuum fitting and subtraction.\n",
    "\n",
    "# This is done in nested for loops, looping over the spatial axes in the cube.\n",
    "\n",
    "start_time = time.time()\n",
    "\n",
    "cont_sub_cube=np.zeros((nz,ny,nx))\n",
    "cont_psf_cube=np.zeros((nz,ny,nx))\n",
    "\n",
    "for i in range(1, nx-2):\n",
    "    for j in range(1, ny-2):\n",
    "        flux1 = cube[:,j,i]      \n",
    "        cont_fit = np.polyfit(wave[continuummin:continuummax], flux1[continuummin:continuummax], 1)\n",
    "        fitval = np.poly1d(cont_fit)\n",
    "        continuum = fitval(wave)        \n",
    "        cont_sub_cube[:,j,i]= flux1 - continuum\n",
    "        cont_psf_cube[:,j,i]= continuum \n",
    "\n",
    "# make an appropriate header for the output images\n",
    "header_image = header_cube\n",
    "del header_image['CDELT3']\n",
    "del header_image['CRVAL3']\n",
    "del header_image['CRPIX3']\n",
    "del header_image['MODE']\n",
    "header_image['NAXIS'] = 2\n",
    "\n",
    "fits.writeto('NGC4151_Hband_ContinuumSubtract.fits', cont_sub_cube, header_cube, overwrite=True)\n",
    "fits.writeto('NGC4151_Hband_ContinuumPSF.fits', cont_psf_cube, header_cube, overwrite=True)\n",
    "print('Continuum subtracted cube saved. PSF continuum cube saved.')\n",
    "\n",
    "print('Time count')\n",
    "print(\"--- %s seconds ---\" % (time.time() - start_time))\n"
   ]
  },
  {
   "cell_type": "code",
   "execution_count": null,
   "metadata": {},
   "outputs": [],
   "source": [
    "#use models polyfit instead of numpy to do the continuum fitting.  Use the poly fit options instead\n",
    "# of line fitting so that you can change the order if necessary.\n",
    "\n",
    "# This is done in nested for loops, looping over the RA, Dec axes in the cube.\n",
    "\n",
    "# This is really slow...\n",
    "\n",
    "start_time = time.time()\n",
    "\n",
    "cont_sub_cube_specutils=np.zeros((nz,ny,nx))\n",
    "cont_psf_cube_specutils=np.zeros((nz,ny,nx))\n",
    "\n",
    "for i in range(1, nx-2):\n",
    "    for j in range(1, ny-2):\n",
    "        flux1 = Spectrum1D(flux = cube[:,j,i]* u.Unit('count'), spectral_axis=wave* u.micron)\n",
    "        m = models.Polynomial1D(degree=1)\n",
    "        fitted_model = fit_lines(flux1[continuummin:continuummax], m)\n",
    "        cont_fit = [fitted_model.c1.value, fitted_model.c0.value]\n",
    "        continuum = fitted_model(flux1.spectral_axis)\n",
    "        cont_sub_cube_specutils[:,j,i]= flux1.flux - continuum\n",
    "        cont_psf_cube_specutils[:,j,i]= continuum\n",
    "\n",
    "print('Done')\n",
    "\n",
    "print('Time count')\n",
    "print(\"--- %s seconds ---\" % (time.time() - start_time))\n"
   ]
  },
  {
   "cell_type": "code",
   "execution_count": null,
   "metadata": {},
   "outputs": [],
   "source": [
    "# Now, let's take a look at the emission line in the continuum\n",
    "# subtracted cube.\n",
    "flux1=np.sum(cont_sub_cube, axis=(1,2))\n",
    "\n",
    "# plot the 1-D spectrum of the full continuum subtracted cube\n",
    "plt.figure(6)\n",
    "plt.plot(wave[wavemin:wavemax],flux1[wavemin:wavemax])\n",
    "plt.show()\n",
    "\n",
    "# plot the 1-D spectrum of a single spaxel.\n",
    "plt.figure(7)\n",
    "plt.plot(wave[wavemin:wavemax],cont_sub_cube[wavemin:wavemax,30,30])\n",
    "plt.show()\n"
   ]
  },
  {
   "cell_type": "code",
   "execution_count": null,
   "metadata": {
    "scrolled": true
   },
   "outputs": [],
   "source": [
    "# Turn the spectrum at the central location into a spectrum as\n",
    "# needed for use with specutils.  Investigate an initial fit to the\n",
    "# Br 12 emission feature, which is pesky and nearby in wavelength\n",
    "# to our target [Fe II] emission.\n",
    "\n",
    "#zoom in wavelength into the region of interest, create subcube and subwave arrays.\n",
    "flux=(cont_sub_cube[wavemin:wavemax,30,30])\n",
    "minwave=wave[wavemin:wavemax]\n",
    "\n",
    "# put the flux spectrum into the spec utils expected format.\n",
    "spectrum = Spectrum1D(flux=(flux)*u.Unit('count'),spectral_axis=minwave*u.micron)\n",
    "\n",
    "#define the fit the line for the Brackett emission (position was found by hand @ pix 1023):\n",
    "# the central emission is best fit by two gaussian components: one @ br12, one @ [Fe II].\n",
    "l1 = models.Gaussian1D(amplitude=(flux[1023-wavemin])*u.Unit('count'),mean=minwave[1023-wavemin]*u.micron,stddev=0.0009*u.micron)\n",
    "l2 = models.Gaussian1D(amplitude=(flux[emission_line_index-wavemin])*u.Unit('count'),mean=minwave[emission_line_index-wavemin]*u.micron,stddev=0.005*u.micron)\n",
    "#define and fit the line for the outflow [Fe II] emission:\n",
    "l3 = models.Gaussian1D(amplitude=(flux[emission_line_index-wavemin])*u.Unit('count'),mean=minwave[emission_line_index-wavemin]*u.micron,stddev=0.0008*u.micron)\n",
    "\n",
    "#run the lfit\n",
    "lfit = fit_lines(spectrum,l1+l2+l3)\n",
    "#make the yfit\n",
    "y_fit = lfit(minwave*u.micron)\n",
    "\n",
    "print(lfit)\n",
    "\n",
    "lineflux = (lfit[0](minwave*u.micron))\n",
    "linemodel = Spectrum1D(spectral_axis=minwave*u.micron, flux=lineflux*u.Unit('count'))\n",
    "\n",
    "component1=lfit[0](minwave*u.micron)\n",
    "component2=lfit[1](minwave*u.micron)\n",
    "component3=lfit[2](minwave*u.micron)\n",
    "\n",
    "plt.figure(8)\n",
    "plt.plot(minwave,flux)\n",
    "plt.plot(minwave,component1)\n",
    "plt.plot(minwave,component2)\n",
    "plt.plot(minwave,component3)\n",
    "plt.plot(minwave,component1+component2+component3)\n",
    "plt.show()\n",
    "\n",
    "#we want to isolate just the [Fe II] outflow emission, so subtract off the central compact flux sources\n",
    "central_flux_model_only=component1+component2\n"
   ]
  },
  {
   "cell_type": "code",
   "execution_count": null,
   "metadata": {
    "scrolled": false
   },
   "outputs": [],
   "source": [
    "# Wow, that multi-component fit looks great.  Good deal.\n",
    "\n",
    "#now we're going to use the continuum psf cube saved in a prior cell \n",
    "# with the Brackett model created in the above cell to create a full\n",
    "# 3-D model of the central emission that isn't caused by the outflow [Fe II].\n",
    "\n",
    "continuum_subcube=cont_psf_cube[wavemin:wavemax,:,:]\n",
    "nz, ny, nx = continuum_subcube.shape\n",
    "\n",
    "model_cube=np.zeros([nz,ny,nx])\n",
    "\n",
    "#construct the scaled Brackett flux model\n",
    "model_cube[0,:,:]=continuum_subcube[0,:,:]*(central_flux_model_only[0]/continuum_subcube[0,30,30])\n",
    "for i in range(1, nz-2):\n",
    "    model_image=0.5*continuum_subcube[i,:,:]+0.25*(continuum_subcube[i-1,:,:]+continuum_subcube[i+1,:,:])\n",
    "    model_cube[i,:,:]=model_image*(central_flux_model_only[i]/continuum_subcube[i,30,30])\n",
    "model_cube[nz-1,:,:]=continuum_subcube[nz-1,:,:]*(central_flux_model_only[nz-1]/continuum_subcube[nz-1,30,30])\n",
    "\n",
    "# the full model of the AGN central emission is the continuum plus Brackett line.\n",
    "full_model= continuum_subcube+model_cube\n",
    "\n",
    "# subtract the model to create the final cube where the [Fe II] emission\n",
    "# is isolated.\n",
    "final_sub_cube=cube[wavemin:wavemax,:,:]-full_model\n",
    "\n",
    "# make an appropriate header for the output sub-cube\n",
    "header_cube_small = header_cube\n",
    "header_cube_small['CRVAL3'] = wavemin\n",
    "\n",
    "# Save the .fits data sub-cube that has the continuum and Br model subtracted off of the\n",
    "# [Fe II] emission, and the datacube that is the continuum+Br model.\n",
    "fits.writeto('NGC4151_Hband_FinalSubtract.fits', final_sub_cube, header_cube_small, overwrite=True)\n",
    "fits.writeto('NGC4151_Hband_ContinuumandBrackettModel.fits', full_model, header_cube_small, overwrite=True)\n",
    "print('Continuum and Brackett subtracted cube saved.  Full model cube saved.')\n",
    "\n",
    "#make a plot of the central spectrum, the full model and the continuum.\n",
    "plt.figure(9)\n",
    "plt.plot(minwave,continuum_subcube[:,30,30])\n",
    "plt.plot(minwave,cube[wavemin:wavemax,30,30])\n",
    "plt.plot(minwave,full_model[:,30,30])\n",
    "plt.show()\n"
   ]
  },
  {
   "cell_type": "code",
   "execution_count": null,
   "metadata": {},
   "outputs": [],
   "source": [
    "\n",
    "# Note trying to load a second datacube into cubeviz within the same notebook does bad things to the \n",
    "# data interaction.  Must interact with only one cube at a time in the notebook cubeviz interface.\n"
   ]
  },
  {
   "cell_type": "code",
   "execution_count": null,
   "metadata": {},
   "outputs": [],
   "source": []
  },
  {
   "cell_type": "code",
   "execution_count": null,
   "metadata": {},
   "outputs": [],
   "source": []
  }
 ],
 "metadata": {
  "kernelspec": {
   "display_name": "Python 3",
   "language": "python",
   "name": "python3"
  },
  "language_info": {
   "codemirror_mode": {
    "name": "ipython",
    "version": 3
   },
   "file_extension": ".py",
   "mimetype": "text/x-python",
   "name": "python",
   "nbconvert_exporter": "python",
   "pygments_lexer": "ipython3",
   "version": "3.7.7"
  }
 },
 "nbformat": 4,
 "nbformat_minor": 2
}
