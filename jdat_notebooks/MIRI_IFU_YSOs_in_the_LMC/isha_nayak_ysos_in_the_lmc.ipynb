{
 "cells": [
  {
   "cell_type": "markdown",
   "metadata": {},
   "source": [
    "# JWST Data Analysis\n",
    "# Young Stellar Objects in the Large Magellanic Cloud: Part 1"
   ]
  },
  {
   "cell_type": "markdown",
   "metadata": {},
   "source": [
    "##### For the first part, I use ALMA 13CO data cubes to read in the cube and make figures.\n",
    "\n",
    "##### For the second part, I use Spitzer/IRS spectra of a known early-stage YSO.\n",
    "\n",
    "##### The purpose of this notebook is to use photutils to automatically detect point sources and extract photometry.\n",
    "\n",
    "##### Another purpose is to use specutils to find the important lines to first identify if something is or is not a YSO based on what lines do exist or do not exist.\n",
    "\n",
    "##### Adding %matplotlib notebook to the beginning of the notebook did not fix the issue of the GUI not being interactive."
   ]
  },
  {
   "cell_type": "markdown",
   "metadata": {},
   "source": [
    "### Import things you need"
   ]
  },
  {
   "cell_type": "code",
   "execution_count": null,
   "metadata": {},
   "outputs": [],
   "source": [
    "from astropy import units as u\n",
    "from astropy.wcs import WCS\n",
    "from astropy import constants as const\n",
    "from astropy.io import ascii, fits\n",
    "from astropy.nddata import StdDevUncertainty\n",
    "from astropy.modeling import models\n",
    "from astropy.table import Table, Column, vstack\n",
    "from astropy.stats import sigma_clipped_stats\n",
    "\n",
    "import matplotlib.pyplot as plt\n",
    "import numpy as np\n",
    "import pandas as pd\n",
    "\n",
    "from scipy.optimize import curve_fit\n",
    "from spectral_cube import SpectralCube\n",
    "from photutils import DAOStarFinder, CircularAperture\n",
    "\n",
    "from specutils import Spectrum1D, SpectralRegion\n",
    "from specutils.analysis import snr, line_flux, centroid, equivalent_width\n",
    "from specutils.fitting import fit_generic_continuum, fit_continuum, find_lines_threshold,  find_lines_derivative, estimate_line_parameters, fit_lines\n",
    "from specutils.manipulation import noise_region_uncertainty, box_smooth, extract_region, gaussian_smooth, SplineInterpolatedResampler\n",
    "from specutils.spectra import SpectralRegion\n",
    "\n",
    "from astrodendro import Dendrogram, ppv_catalog"
   ]
  },
  {
   "cell_type": "markdown",
   "metadata": {},
   "source": [
    "### Check versions of imported things"
   ]
  },
  {
   "cell_type": "code",
   "execution_count": null,
   "metadata": {},
   "outputs": [],
   "source": [
    "import aplpy\n",
    "import astrodendro\n",
    "import astropy\n",
    "import jwst\n",
    "import matplotlib\n",
    "import photutils\n",
    "import scipy\n",
    "import specutils\n",
    "import spectral_cube\n",
    "\n",
    "print(\"AplPY: {}\".format(aplpy.__version__))\n",
    "print(\"Astrdendro: {}\".format(astrodendro.__version__))\n",
    "print(\"Astropy: {}\".format(astropy.__version__))\n",
    "print(\"JWST: {}\".format(jwst.__version__))\n",
    "print(\"Matplotlib: {}\".format(matplotlib.__version__))\n",
    "print(\"Numpy: {}\".format(np.__version__))\n",
    "print(\"Pandas: {}\".format(pd.__version__))\n",
    "print(\"Photutils: {}\".format(photutils.__version__))\n",
    "print(\"Scipy: {}\".format(scipy.__version__))\n",
    "print(\"Specutils: {}\".format(specutils.__version__))\n",
    "print(\"SpectralCube: {}\".format(spectral_cube.__version__))"
   ]
  },
  {
   "cell_type": "markdown",
   "metadata": {},
   "source": [
    "### Set plot paramters"
   ]
  },
  {
   "cell_type": "code",
   "execution_count": null,
   "metadata": {},
   "outputs": [],
   "source": [
    "params={'legend.fontsize':'18',\n",
    "        'axes.labelsize':'18',\n",
    "        'axes.titlesize':'18',\n",
    "        'xtick.labelsize':'18',\n",
    "        'ytick.labelsize':'18',\n",
    "        'lines.linewidth':2,\n",
    "        'axes.linewidth':2,\n",
    "        'animation.html': 'html5'}\n",
    "plt.rcParams.update(params)\n",
    "plt.rcParams.update({'figure.max_open_warning': 0})"
   ]
  },
  {
   "cell_type": "markdown",
   "metadata": {},
   "source": [
    "### Set path to data\n",
    "\n",
    "##### I am using ALMA 13CO from a star formation region in the LMC."
   ]
  },
  {
   "cell_type": "code",
   "execution_count": null,
   "metadata": {},
   "outputs": [],
   "source": [
    "#data_cube_file='/Users/inayak/Desktop/Sprint/LMC_13CO.fits'\n",
    "data_cube_file='https://data.science.stsci.edu/redirect/JWST/jwst-data_analysis_tools/MIRI_IFU_YSOs_in_the_LMC/LMC_13CO.fits'"
   ]
  },
  {
   "cell_type": "markdown",
   "metadata": {},
   "source": [
    "### Setup output directory for figures and spectra"
   ]
  },
  {
   "cell_type": "code",
   "execution_count": null,
   "metadata": {},
   "outputs": [],
   "source": [
    "output_images='/Users/inayak/Desktop/Sprint/Images'\n",
    "output_spectra='/Users/inayak/Desktop/Sprint/Spectra'"
   ]
  },
  {
   "cell_type": "markdown",
   "metadata": {},
   "source": [
    "### Load and display data cube"
   ]
  },
  {
   "cell_type": "code",
   "execution_count": null,
   "metadata": {},
   "outputs": [],
   "source": [
    "cube = SpectralCube.read(data_cube_file, hdu=1)  \n",
    "print(cube)"
   ]
  },
  {
   "cell_type": "markdown",
   "metadata": {},
   "source": [
    "### Trim the cube\n",
    "\n",
    "##### Not sure about JWST MRS cube, but in ALMA the beginning and end of cube have poor data quality so you can trim the cube to make it smaller if you want. I used the whole cube in this example."
   ]
  },
  {
   "cell_type": "code",
   "execution_count": null,
   "metadata": {},
   "outputs": [],
   "source": [
    "#subcube = cube.spectral_slab(240 * (u.m/u.s), 265 * (u.m/u.s)) \n",
    "#cube=subcube\n",
    "cmin = cube.minimal_subcube()\n",
    "cube.allow_huge_operations=True"
   ]
  },
  {
   "cell_type": "markdown",
   "metadata": {},
   "source": [
    "### Make a 2D image from the 3D cube either with average, median, or sum\n",
    "\n",
    "##### This is to look for point sources to do aperture photometry with in the next step.\n",
    "\n",
    "##### I chose the sum in order to see low-level emission data that otherwise would have been missed with the ALMA 13CO emission."
   ]
  },
  {
   "cell_type": "code",
   "execution_count": null,
   "metadata": {},
   "outputs": [],
   "source": [
    "#cont_img = cmin.median(axis=0)\n",
    "#cont_img = cmin.mean(axis=0)\n",
    "cont_img = cmin.sum(axis=0)"
   ]
  },
  {
   "cell_type": "markdown",
   "metadata": {},
   "source": [
    "### Plot the image to do a visual check\n",
    "\n",
    "##### Just see if you even see any emission to make sure you have the correct data cube."
   ]
  },
  {
   "cell_type": "code",
   "execution_count": null,
   "metadata": {},
   "outputs": [],
   "source": [
    "fig = plt.figure()\n",
    "plt.imshow(cont_img.value)\n",
    "plt.tight_layout()\n",
    "plt.show()"
   ]
  },
  {
   "cell_type": "markdown",
   "metadata": {},
   "source": [
    "### Plot the summed image with WCS coordinates and save the figure"
   ]
  },
  {
   "cell_type": "code",
   "execution_count": null,
   "metadata": {},
   "outputs": [],
   "source": [
    "name='13CO'\n",
    "F = aplpy.FITSFigure(cont_img.hdu, north=True)\n",
    "F.show_colorscale()\n",
    "F.add_label(0.1, 0.9, name, relative=True, size=22, weight='bold')\n",
    "F.axis_labels.set_font(size=22)\n",
    "F.tick_labels.set_font(size=18, stretch='condensed')\n",
    "F.save(output_images+\"_\"+name+\".pdf\", dpi=300) "
   ]
  },
  {
   "cell_type": "markdown",
   "metadata": {},
   "source": [
    "### Identify all point sources using photutils"
   ]
  },
  {
   "cell_type": "code",
   "execution_count": null,
   "metadata": {},
   "outputs": [],
   "source": [
    "#Empty array to store values\n",
    "name_val = []\n",
    "source_val = []\n",
    "ra_val =[]\n",
    "dec_val =[]\n",
    "\n",
    "#Find mean, meadian, and standard deviation of the summed image\n",
    "mean, median, std = sigma_clipped_stats(cont_img.value, sigma=2.0)"
   ]
  },
  {
   "cell_type": "markdown",
   "metadata": {},
   "source": [
    "### Get a list of all point sources\n",
    "##### Note that usually it is 3*std to find sources above noise level, but there are 247 point sources when I do that. So I made it 6*std to look at 4 point sources and make sure this step works."
   ]
  },
  {
   "cell_type": "code",
   "execution_count": null,
   "metadata": {},
   "outputs": [],
   "source": [
    "daofind = DAOStarFinder(fwhm=2.0, threshold=6*std)\n",
    "sources = daofind(cont_img.value - median) \n",
    "print(\"\\n  Number of sources in field: \", len(sources))"
   ]
  },
  {
   "cell_type": "markdown",
   "metadata": {},
   "source": [
    "### Extract and plot spectrum of all sources"
   ]
  },
  {
   "cell_type": "code",
   "execution_count": null,
   "metadata": {},
   "outputs": [],
   "source": [
    "#Make table be consistent with RA and DEC coordinates\n",
    "if len(sources) > 0:\n",
    "    print()            \n",
    "    for col in sources.colnames:    \n",
    "        sources[col].info.format = '%.8g'\n",
    "\n",
    "    print(sources)  \n",
    "    \n",
    "    #Convert xcentroid and ycentroid to RA and DEC coordiantes\n",
    "    positions = Table([sources['xcentroid'], sources['ycentroid']])                \n",
    "    w = WCS(cont_img.header)                                                       \n",
    "    radec_lst  = w.pixel_to_world(sources['xcentroid'], sources['ycentroid'])\n",
    "\n",
    "    #Aperture extract spectrum of point source Using a cirular aperture            \n",
    "    for countS, _ in enumerate(sources):\n",
    "        print(radec_lst[countS].to_string('hmsdms'))                  #Print the RA and Dec in hms dms values        \n",
    "        name_val.append(name)\n",
    "        source_val.append(countS)\n",
    "        ra_val.append(radec_lst[countS].ra.deg)\n",
    "        dec_val.append(radec_lst[countS].dec.deg)\n",
    "    \n",
    "        #Size of frame \n",
    "        ysize_pix = cmin.shape[1]\n",
    "        xsize_pix = cmin.shape[2]\n",
    "\n",
    "        #Set up some centroid pixel for the source \n",
    "        ycent_pix = sources['ycentroid'][countS]\n",
    "        xcent_pix = sources['xcentroid'][countS]\n",
    "\n",
    "        #Make an aperture radius for source. This can be something the user inputs based on their own experience on their own science expertise.\n",
    "        apertureRad_pix = 2\n",
    "\n",
    "        #Make a masked array for the apeture\n",
    "        yy, xx = np.indices([ysize_pix,xsize_pix], dtype='float')                    #Check ycentpix, xcentpix are in correct order \n",
    "        radius = ((yy-ycent_pix)**2 + (xx-xcent_pix)**2)**0.5                        #Make a circle in the frame\n",
    "\n",
    "        mask = radius <= apertureRad_pix                                             #Select pixels within the aperture radius\n",
    "        maskedcube = cmin.with_mask(mask)                                            #Make a masked cube\n",
    "        pixInAp = np.count_nonzero(mask == 1)                                        #Pixels in apeture\n",
    "\n",
    "        spectrum = maskedcube.sum(axis=(1,2))                                        #Extract the spectrum from only the annulus - use sum\n",
    "        noisespectrum = maskedcube.std(axis=(1, 2))                                  #Extract the noise spectrum for the source \n",
    "\n",
    "        #Measure a spectrum from the background. Use an annulus arround the source.\n",
    "        an_mask = (radius > apertureRad_pix + 1) & (radius <= apertureRad_pix + 2)   #Select pixels within an anulus\n",
    "        an_maskedcube = cmin.with_mask(an_mask)                                      #Make a masked cube\n",
    "    \n",
    "        #Plot the spectrum extracted from cirular aperture via: a sum extraction \n",
    "        \n",
    "        fig = plt.figure(figsize=(10,5))\n",
    "        plt.plot(maskedcube.spectral_axis.value,spectrum.value, label='Source')       #Source spectrum \n",
    "\n",
    "        plt.xlabel('Frequency [Hz]')\n",
    "        plt.ylabel('Kelvin') \n",
    "\n",
    "        plt.gcf().text(0.5, 0.85,name, fontsize=14, ha='center')\n",
    "        plt.gcf().text(0.5, 0.80,radec_lst[countS].to_string('decimal'), ha='center', fontsize=14)\n",
    "\n",
    "        plt.legend(frameon=False, fontsize='medium')\n",
    "        plt.tight_layout()\n",
    "        plt.show()\n",
    "        plt.close()\n",
    "    \n",
    "        #Do a visual check to see if all point sources have been identified. \n",
    "        #Although the end result should be that this is not necessary. \n",
    "        #Visually, the eye can miss sources. \n",
    "        #Also as a science user, I would like the algorithm to tell me what is and isn't a point source mathematically.\n",
    "        #There should be some criteria that differences point and extended sources that the user shouldn't have to visually check.\n",
    "        #Of the four sources, two are noise spectra because it detected noise spikes on the border of the ALMA cube.\n",
    "        positions_pix = (sources['xcentroid'], sources['ycentroid'])\n",
    "    \n",
    "        apertures = CircularAperture(positions_pix, r=2.)\n",
    "        fig = plt.figure()            \n",
    "\n",
    "        plt.subplot(1, 2, 1)\n",
    "        plt.imshow(cont_img.value, cmap='Greys', origin='lower')\n",
    "        apertures.plot(color='blue', lw=1.5, alpha=0.5)\n",
    "\n",
    "        plt.subplot(1, 2, 2)\n",
    "        plt.imshow(cont_img.value, origin='lower')\n",
    "\n",
    "        plt.tight_layout()\n",
    "        plt.show()\n",
    "        plt.close()\n",
    "    "
   ]
  },
  {
   "cell_type": "markdown",
   "metadata": {},
   "source": [
    "### Make a table for the extracted source"
   ]
  },
  {
   "cell_type": "code",
   "execution_count": null,
   "metadata": {},
   "outputs": [],
   "source": [
    "sourceExtSpecTab = Table([name_val, source_val, ra_val, dec_val], \n",
    "                   names=(\"name\", \"source_no\", \"ra\", \"dec\"))\n",
    "print(sourceExtSpecTab)   \n",
    "\n",
    "#Write table of extacted spectra for bookkeeping\n",
    "#ascii.write(sourceExtSpecTab, outdir_spectra+\"YSOsourcesSpec_list.csv\", format='csv', overwrite=True) "
   ]
  },
  {
   "cell_type": "markdown",
   "metadata": {},
   "source": [
    "### Use Spitzer IRS YSO Spectra from Here on Out For Science Test Cases\n",
    "\n",
    "##### (1)Look for lines in Spectra.\n",
    "###### Ice features in the 5-7 micron range from H20, NH3, CH3OH, HCOOH, and H2CO are difficult to identify because confusion with PAH. The 15.2 micron CO2 ice absorbtion is better to identify.\n",
    "###### More evolved YSOs will have PAH and fine-structure features at 6.2 micron, 7.7 micron, 8.6 micron, 11.3 micron, and 12.7 micron. But PAH and fine-sturcture could mean a more evolved HII region rather than an embedded YSO.\n",
    "###### H2 emission is expected from YSOs. Both PDRs and shocks lead to H2 emission near YSO environments. \n",
    "\n",
    "##### (2)Look at ice features, PAH feature, and silicate features in more detail.\n",
    "\n",
    "##### (3)Identify YSOs."
   ]
  },
  {
   "cell_type": "code",
   "execution_count": null,
   "metadata": {},
   "outputs": [],
   "source": [
    "#Set Path to YSO1 Data\n",
    "#YSO1='/Users/inayak/Desktop/Sprint/YSO1.txt'\n",
    "YSO1='https://data.science.stsci.edu/redirect/JWST/jwst-data_analysis_tools/MIRI_IFU_YSOs_in_the_LMC/YSO1.txt'\n",
    "\n",
    "#Set Path to YSO2 Data\n",
    "YSO1='https://data.science.stsci.edu/redirect/JWST/jwst-data_analysis_tools/MIRI_IFU_YSOs_in_the_LMC/YSO2.txt'"
   ]
  },
  {
   "cell_type": "code",
   "execution_count": null,
   "metadata": {},
   "outputs": [],
   "source": [
    "# Read in the spectra and plot it for initial visualization check\n",
    "data = ascii.read(YSO1)\n",
    "\n",
    "if data.colnames[0] == 'col1':\n",
    "    data['col1'].name = 'wave_mum'\n",
    "    data['col2'].name = 'cSpec_Jy'            \n",
    "    data['col3'].name = 'errFl_Jy'         \n",
    "\n",
    "wav = data['wave_mum'] * u.micron                                                  # Wavelength: microns\n",
    "fl  = data['cSpec_Jy'] * u.Jy                                                      # Fnu:  Jy\n",
    "efl  = data['errFl_Jy'] * u.Jy                                                     # Error flux: Jy\n",
    "\n",
    "spec = Spectrum1D(spectral_axis=wav, flux=fl, uncertainty=StdDevUncertainty(efl))  # Make a 1D spectrum object\n",
    "fig = plt.figure(figsize=(8,4))\n",
    "plt.plot(spec.spectral_axis, spec.flux, label='spectrum')                \n",
    "plt.xlabel('Wavelength (microns)')\n",
    "plt.ylabel(\"Flux ({:latex})\".format(spec.flux.unit))\n",
    "\n",
    "plt.legend(frameon=False, fontsize='medium')\n",
    "plt.tight_layout()\n",
    "plt.show()\n",
    "plt.close()"
   ]
  },
  {
   "cell_type": "markdown",
   "metadata": {},
   "source": [
    "### Fit a generic continuum\n",
    "\n",
    "##### The continuum seems to be overestimated 5 micron - 7 micron and then again 17 micron - 25 micron when fitting a generic continuum without excluding any wavelengths. This leads to misidentification of emissiona and abroption lines.\n",
    "\n",
    "##### Rather I fit a continuum to 5-13 micron range and another continuum for the 13-35 micron range. This gives a much better continuum subtracted spectrum.\n",
    "\n",
    "##### It would be better if I can fit one continuum or use the spline fitting function."
   ]
  },
  {
   "cell_type": "code",
   "execution_count": null,
   "metadata": {},
   "outputs": [],
   "source": [
    "#Calculate S/N\n",
    "sig2noise = np.round(snr(spec), 2)\n",
    "\n",
    "#Fit one continuum for wavelengths greater than 13 microns excluding a couple lines\n",
    "to_exclude_1 = [(5.0, 13.0)*u.micron, (14.5, 15.5)*u.micron, (17.0, 18.0)*u.micron]                 #Define lines/regions to exclude\n",
    "exclude_region_1 = SpectralRegion(to_exclude_1)                                                       # Make a specutils region\n",
    "\n",
    "#Another continuum fit for wavelengths under 13 microns excluding the silicate absorption feature\n",
    "to_exclude_2 = [(7.0, 11.0)*u.micron, (13.0, 35.0)*u.micron]\n",
    "exclude_region_2 = SpectralRegion(to_exclude_2)\n",
    "\n",
    "continuum_model1 = fit_generic_continuum(spec, exclude_regions=exclude_region_1)                     # Generate the first contimiumn\n",
    "continuum_model2 = fit_generic_continuum(spec, exclude_regions=exclude_region_2)                     # Generate the second contimiumn\n",
    "y_continuum_1 = continuum_model1(spec.spectral_axis)                                                 # Put the first continiumn into 1d spectra object\n",
    "y_continuum_2 = continuum_model2(spec.spectral_axis)                                                 # Put the second continiumn into 1d spectra object\n",
    "\n",
    "#Generate a continuum subtracted and continuum normalised spectra. Both needed for later analysis. \n",
    "spec_norm2 =  spec / y_continuum_2\n",
    "count_axis=0\n",
    "for i in range(0,len(spec.spectral_axis)):\n",
    "    if spec.spectral_axis[i].value < 13.0:\n",
    "        count_axis=count_axis+1\n",
    "spec_contsub1 = spec[count_axis:len(spec.spectral_axis)] - y_continuum_1[count_axis:len(spec.spectral_axis)]\n",
    "spec_contsub2 = spec[0:count_axis] - y_continuum_2[0:count_axis]\n"
   ]
  },
  {
   "cell_type": "code",
   "execution_count": null,
   "metadata": {},
   "outputs": [],
   "source": [
    "# Plot the continiumn and spectra\n",
    "fig = plt.figure(figsize=(10,6))\n",
    "plt.plot(spec.spectral_axis, spec.flux, label='Source')                                      # Source spectrum \n",
    "plt.plot(spec.spectral_axis, y_continuum_1, label='Continuum Fit to lambda > 13 microns')    # Continuum (lambda > 13 microns)\n",
    "plt.plot(spec.spectral_axis, y_continuum_2, label='Continuum Fit to lambda < 13 microns')    # Continuum (lambda < 13 microns)\n",
    "\n",
    "plt.xlabel(\"Wavelength ({:latex})\".format(spec.spectral_axis.unit))\n",
    "plt.ylabel(\"Flux ({:latex})\".format(spec.flux.unit))\n",
    "\n",
    "plt.legend(frameon=False, fontsize='medium')\n",
    "plt.tight_layout()\n",
    "plt.show()\n",
    "plt.close()"
   ]
  },
  {
   "cell_type": "code",
   "execution_count": null,
   "metadata": {},
   "outputs": [],
   "source": [
    "# Plot the contimum subtracted spectrum\n",
    "\n",
    "fig = plt.figure(figsize=(10,6))\n",
    "plt.plot(spec_contsub1.spectral_axis, spec_contsub1.flux,color='black')\n",
    "plt.plot(spec_contsub2.spectral_axis, spec_contsub2.flux,color='black')\n",
    "plt.axhline(y=0.0, color='r', linestyle='-')\n",
    "\n",
    "plt.xlabel(\"Wavelength ({:latex})\".format(spec.spectral_axis.unit))\n",
    "plt.ylabel(\"Flux ({:latex})\".format(spec.flux.unit))\n",
    "\n",
    "plt.tight_layout()\n",
    "plt.show()\n",
    "plt.close()"
   ]
  },
  {
   "cell_type": "markdown",
   "metadata": {},
   "source": [
    "### Look For Emission and Absorption Lines"
   ]
  },
  {
   "cell_type": "markdown",
   "metadata": {},
   "source": [
    "##### Common YSO lines include PAH emission line, ice absorption lines and silicate absorption lines."
   ]
  },
  {
   "cell_type": "code",
   "execution_count": null,
   "metadata": {},
   "outputs": [],
   "source": [
    "# Find emmsion and absorption lines in the continuum-subtracted spectra.\n",
    "\n",
    "if sig2noise > 5:\n",
    "    lines = find_lines_threshold(spec_contsub1, noise_factor=5) # Selects lines 5 x spectrum uncertainty for wavelengths greater than 13 microns\n",
    "    if len(lines) >0:\n",
    "        emissionlines = lines[lines['line_type'] == 'emission']   # Grab a list of the emission lines\n",
    "        abslines = lines[lines['line_type'] == 'absorption']      # Grab a list of the absorption lines\n",
    "        print(\"Number of emission lines found:\", len(emissionlines))\n",
    "        print(\"Number of absorption lines found:\", len(abslines))\n",
    "    else:\n",
    "        emissionlines = [0]\n",
    "        print(\"No emission lines found!\") \n",
    "        \n",
    "    lines = find_lines_threshold(spec_contsub2, noise_factor=5) # Selects lines 5 x spectrum uncertainty for wavelengths less than 13 microns\n",
    "    if len(lines) >0:\n",
    "        emissionlines2 = lines[lines['line_type'] == 'emission']   # Grab a list of the emission lines\n",
    "        abslines2 = lines[lines['line_type'] == 'absorption']      # Grab a list of the absorption lines\n",
    "        print(\"Number of emission lines found:\", len(emissionlines2))\n",
    "        print(\"Number of absorption lines found:\", len(abslines2))\n",
    "    else:\n",
    "        emissionlines = [0]\n",
    "        print(\"No emission lines found!\")\n",
    "    \n",
    "# This will print out two emission line lists and two absorption line lists because I broke the spectrum up into two parts for the two fitted continuum.   "
   ]
  },
  {
   "cell_type": "code",
   "execution_count": null,
   "metadata": {},
   "outputs": [],
   "source": [
    "#Extract emission lines greater than 13 microns\n",
    "\n",
    "if len(emissionlines) >= 1 and emissionlines[0] != 0:\n",
    "    emissionlines['gauss_line_center'] = 0. *u.micron\n",
    "    emissionlines['gauss_line_amp'] = 0. * u.jansky\n",
    "    emissionlines['gauss_line_stddev'] = 0. *u.micron\n",
    "    emissionlines['gauss_line_FWHM'] = 0. *u.micron\n",
    "    emissionlines['gauss_line_area'] = np.log10(1e-20)  * u.W /u.m**2\n",
    "\n",
    "    emissionlines['no_AltRestWav']  = 0             # Number of possible lines which could be the feature\n",
    "    emissionlines['RestWav']     = 0.               # RestWavelength of closest lab measured line\n",
    "    emissionlines['diff_ft_wav'] = 0.               # Diff. in initial line wav estimate and the fitted gausian\n",
    "    emissionlines['line_suspect'] = 0               # Set == 1 if large diffrence in wavelength possition\n",
    "    emissionlines['line'] = \"                 \"     # For storing the line name\n",
    "    \n",
    "\n",
    "    # Loop through all the found emission lines in the spectra\n",
    "    for idx, emlines in enumerate(emissionlines):\n",
    "\n",
    "        #Look at the region surrounding the found lines from the original smoothed spectrum\n",
    "        sw_line = emissionlines[\"line_center\"][idx].value-0.001\n",
    "        lw_line = emissionlines[\"line_center\"][idx].value+0.001     \n",
    "        line_region =  SpectralRegion(sw_line*u.um, lw_line*u.um)\n",
    "\n",
    "        #Find the S/N ratio of the line region\n",
    "        #line_snr = np.round(snr(spec, line_region), 2)\n",
    "        line_cnr = emissionlines[\"line_center\"][idx]\n",
    "        #print(\"The line center is: \", line_cnr)\n",
    "        #print(\"The S/N of the line region is:  \", line_snr)\n",
    "\n",
    "        #Extract the line from the orginal spectrum and refit a contimiumn (excluding the line itself)\n",
    "        #line_spec =  extract_region(spec, line_region)   # line spectrum\n",
    "print(emissionlines)\n",
    "\n",
    "#Extract emission lines less than 13 microns\n",
    "\n",
    "if len(emissionlines2) >= 1 and emissionlines2[0] != 0:\n",
    "    emissionlines2['gauss_line_center'] = 0. *u.micron\n",
    "    emissionlines2['gauss_line_amp'] = 0. * u.jansky\n",
    "    emissionlines2['gauss_line_stddev'] = 0. *u.micron\n",
    "    emissionlines2['gauss_line_FWHM'] = 0. *u.micron\n",
    "    emissionlines2['gauss_line_area'] = np.log10(1e-20)  * u.W /u.m**2\n",
    "\n",
    "    emissionlines2['no_AltRestWav']  = 0             # Number of possible lines which could be the feature\n",
    "    emissionlines2['RestWav']     = 0.               # RestWavelength of closest lab measured line\n",
    "    emissionlines2['diff_ft_wav'] = 0.               # Diff. in initial line wav estimate and the fitted gausian\n",
    "    emissionlines2['line_suspect'] = 0               # Set == 1 if large diffrence in wavelength possition\n",
    "    emissionlines2['line'] = \"                 \"     # For storing the line name\n",
    "    \n",
    "\n",
    "    #Loop through all the found emission lines in the spectra\n",
    "\n",
    "    for idx, emlines2 in enumerate(emissionlines2):\n",
    "\n",
    "        #Look at the region surrounding the found lines from the original smoothed spectrum\n",
    "        sw_line = emissionlines2[\"line_center\"][idx].value-0.01\n",
    "        lw_line = emissionlines2[\"line_center\"][idx].value+0.01     \n",
    "        line_region =  SpectralRegion(sw_line*u.um, lw_line*u.um)\n",
    "\n",
    "        #Find the S/N ratio of the line region\n",
    "        #line_snr = np.round(snr(spec, line_region), 2)\n",
    "        line_cnr = emissionlines2[\"line_center\"][idx]\n",
    "        #print(\"The line center is: \", line_cnr)\n",
    "        #print(\"The S/N of the line region is:  \", line_snr)\n",
    "\n",
    "        # Extract the line from the orginal spectrum and refit a contimiumn (excluding the line itself)\n",
    "        #line_spec2 =  extract_region(spec, line_region)   # line spectrum        \n",
    "         \n",
    "print(emissionlines2)"
   ]
  },
  {
   "cell_type": "code",
   "execution_count": null,
   "metadata": {},
   "outputs": [],
   "source": [
    "#Extract absorption lines greater than 13 microns\n",
    "\n",
    "if len(abslines) >= 1 and abslines[0] != 0:\n",
    "    abslines['gauss_line_center'] = 0. *u.micron\n",
    "    abslines['gauss_line_amp'] = 0. * u.jansky\n",
    "    abslines['gauss_line_stddev'] = 0. *u.micron\n",
    "    abslines['gauss_line_FWHM'] = 0. *u.micron\n",
    "    abslines['gauss_line_area'] = np.log10(1e-20)  * u.W /u.m**2\n",
    "\n",
    "    abslines['no_AltRestWav']  = 0             # Number of possible lines which could be the feature\n",
    "    abslines['RestWav']     = 0.               # RestWavelength of closest lab measured line\n",
    "    abslines['diff_ft_wav'] = 0.               # Diff. in initial line wav estimate and the fitted gausian\n",
    "    abslines['line_suspect'] = 0               # Set == 1 if large diffrence in wavelength possition\n",
    "    abslines['line'] = \"                 \"     # For storing the line name\n",
    "    \n",
    "\n",
    "    #Loop through all the found absorption lines in the spectra\n",
    "\n",
    "    for idx, absorplines in enumerate(abslines):\n",
    "\n",
    "        #Look at the region surrounding the found lines from the original smoothed spectrum\n",
    "        sw_line = abslines[\"line_center\"][idx].value-0.01\n",
    "        lw_line = abslines[\"line_center\"][idx].value+0.01     \n",
    "        line_region =  SpectralRegion(sw_line*u.um, lw_line*u.um)\n",
    "\n",
    "        #Find the S/N ratio of the line region\n",
    "        #line_snr_abs = np.round(snr(spec, line_region), 2)\n",
    "        line_cnr_abs = abslines[\"line_center\"][idx]\n",
    "        #print(\"The line center is: \", line_cnr_abs)\n",
    "        #print(\"The S/N of the line region is:  \", line_snr_abs)\n",
    "\n",
    "        #Extract the line from the orginal spectrum and refit a contimiumn (excluding the line itself)\n",
    "        #line_spec_abs =  extract_region(spec, line_region)   # line spectrum\n",
    "print(abslines)\n",
    "\n",
    "#Extract absorption lines less than 13 microns\n",
    "\n",
    "if len(abslines2) >= 1 and abslines2[0] != 0:\n",
    "    abslines2['gauss_line_center'] = 0. *u.micron\n",
    "    abslines2['gauss_line_amp'] = 0. * u.jansky\n",
    "    abslines2['gauss_line_stddev'] = 0. *u.micron\n",
    "    abslines2['gauss_line_FWHM'] = 0. *u.micron\n",
    "    abslines2['gauss_line_area'] = np.log10(1e-20)  * u.W /u.m**2\n",
    "\n",
    "    abslines2['no_AltRestWav']  = 0             # Number of possible lines which could be the feature\n",
    "    abslines2['RestWav']     = 0.               # RestWavelength of closest lab measured line\n",
    "    abslines2['diff_ft_wav'] = 0.               # Diff. in initial line wav estimate and the fitted gausian\n",
    "    abslines2['line_suspect'] = 0               # Set == 1 if large diffrence in wavelength possition\n",
    "    abslines2['line'] = \"                 \"     # For storing the line name\n",
    "    \n",
    "\n",
    "    #Loop through all the found absorption lines in the spectra\n",
    "\n",
    "    for idx, absorplines2 in enumerate(abslines2):\n",
    "\n",
    "        #Look at the region surrounding the found lines from the original smoothed spectrum\n",
    "        sw_line = abslines2[\"line_center\"][idx].value-0.01\n",
    "        lw_line = abslines2[\"line_center\"][idx].value+0.01     \n",
    "        line_region =  SpectralRegion(sw_line*u.um, lw_line*u.um)\n",
    "\n",
    "        #Find the S/N ratio of the line region\n",
    "        #line_snr_abs = np.round(snr(spec, line_region), 2)\n",
    "        line_cnr_abs = abslines2[\"line_center\"][idx]\n",
    "        #print(\"The line center is: \", line_cnr_abs)\n",
    "        #print(\"The S/N of the line region is:  \", line_snr_abs)\n",
    "\n",
    "        #Extract the line from the orginal spectrum and refit a contimiumn (excluding the line itself)\n",
    "        #line_spec_abs2 =  extract_region(spec, line_region)   # line spectrum\n",
    "\n",
    "print(abslines2)"
   ]
  },
  {
   "cell_type": "markdown",
   "metadata": {},
   "source": [
    "### Look for emission and absorption lines\n",
    "\n",
    "##### PAH emission feature: 6.2, 7.7, 8.6, 11.3, 12.0, 12.7, 14.2, 16.2\n",
    "##### Silicate absoprtion feature: 10.0, 18.0, 23.0\n",
    "##### CO2 ice absorption feature: 15.3\n",
    "##### Other ice features: CO (4.67 micron), H2O + HCOOH (6 micron),  CH3OH (6.89 micron), CH4 (7.7 micron)\n",
    "##### If none of these 8 emission lines and 8 absorption lines exist, then this is not a YSO."
   ]
  },
  {
   "cell_type": "code",
   "execution_count": null,
   "metadata": {},
   "outputs": [],
   "source": [
    "#First Look for PAH emission features\n",
    "\n",
    "PAH_emission = [6.2, 7.7, 8.6, 11.3, 12.0, 12.7, 14.2, 16.2] * u.micron            #list or known YSO PAH emission lines\n",
    "len_PAH_list = len(PAH_emission)\n",
    "\n",
    "PAH_emission_detected=[]                                                           #empty array to store detected lines\n",
    "line_cnr_list = emissionlines[\"line_center\"]                                       #list of emission lines extracted from first spectrum\n",
    "len_line_list = len(line_cnr_list)\n",
    "line_cnr_list2 = emissionlines2[\"line_center\"]                                     #list of emission lines extracted from second spectrum\n",
    "len_line_list2 = len(line_cnr_list2)\n",
    "\n",
    "count_pah1=0                                                                       #counting how many PAH emission lines exist in first spectrum\n",
    "for i in range(0,len_PAH_list):\n",
    "    for j in range (0,len_line_list):\n",
    "        if line_cnr_list[j].value-0.05 < PAH_emission.value[i] < line_cnr_list[j].value+0.05 :\n",
    "            count_pah1=count_pah1+1\n",
    "count_pah2=0                                                                       #counting how many PAH emission lines exist in second spectrum\n",
    "for i in range(0,len_PAH_list):\n",
    "    for j in range (0,len_line_list2):\n",
    "        if line_cnr_list2[j].value-0.05 < PAH_emission.value[i] < line_cnr_list2[j].value+0.05 :\n",
    "            count_pah2=count_pah2+1\n",
    "\n",
    "PAH_emission_detected=[0.0]*(count_pah1+count_pah2)                                 #empty array to store detected lines\n",
    "count_pah=0 #restart count\n",
    "for i in range(0,len_PAH_list):\n",
    "    for j in range (0,len_line_list):\n",
    "        if line_cnr_list[j].value-0.05 < PAH_emission.value[i] < line_cnr_list[j].value+0.05 :\n",
    "            PAH_emission_detected[count_pah]= line_cnr_list[j]\n",
    "            count_pah=count_pah+1\n",
    "    for j in range (0,len_line_list2):\n",
    "        if line_cnr_list2[j].value-0.05 < PAH_emission.value[i] < line_cnr_list2[j].value+0.05 :\n",
    "            PAH_emission_detected[count_pah]= line_cnr_list2[j]\n",
    "            count_pah=count_pah+1\n",
    "            \n",
    "print(PAH_emission_detected)\n",
    "print(count_pah,\"PAH emission lines detected in spectrum\")\n",
    "if count_pah1==0:\n",
    "    PAH_emission_detected=[0.0]*u.micron"
   ]
  },
  {
   "cell_type": "code",
   "execution_count": null,
   "metadata": {},
   "outputs": [],
   "source": [
    "#Look for Silicate absorption features\n",
    "\n",
    "sil_absorption = [10.0, 18.0, 23.0] * u.micron                                                   #list or known YSO silicate absorption lines\n",
    "len_sil_list = len(sil_absorption)\n",
    "\n",
    "sil_absorption_detected=[]                                                                       #empty array to store detected lines\n",
    "line_cnr_list = abslines[\"line_center\"]                                                          #list of absorption lines extracted from first spectrum\n",
    "len_line_list = len(line_cnr_list)\n",
    "line_cnr_list2 = abslines2[\"line_center\"]                                                        #list of absorption lines extracted from second spectrum\n",
    "len_line_list2 = len(line_cnr_list2)\n",
    "\n",
    "count_sil1=0                                                                                     #counting how many silicate absorption lines exist in first spectrum\n",
    "for i in range(0,len_sil_list):\n",
    "    for j in range (0,len_line_list):\n",
    "        if line_cnr_list[j].value-0.2 < sil_absorption.value[i] < line_cnr_list[j].value+0.2 :   #absorption features are wider than emission features therefore +/-0.2\n",
    "            count_sil1=count_sil1+1\n",
    "count_sil2=0                                                                                     #counting how many silicate absorption lines exist in second spectrum\n",
    "for i in range(0,len_sil_list):\n",
    "    for j in range (0,len_line_list2):\n",
    "        if line_cnr_list2[j].value-0.2 < sil_absorption.value[i] < line_cnr_list2[j].value+0.2 : #absorption features are wider than emission features therefore +/-0.2\n",
    "            count_sil2=count_sil2+1\n",
    "            \n",
    "sil_absorption_detected=[0.0]*(count_sil1+count_sil2)                                            #empty array to store detected lines\n",
    "count_sil=0                                                                                      #restart count\n",
    "for i in range(0,len_sil_list):\n",
    "    for j in range (0,len_line_list):\n",
    "        if line_cnr_list[j].value-0.2 < sil_absorption.value[i] < line_cnr_list[j].value+0.2 :\n",
    "            sil_absorption_detected[count_sil]= sil_absorption[i]\n",
    "            count_sil=count_sil+1\n",
    "    for j in range (0,len_line_list2):\n",
    "        if line_cnr_list2[j].value-0.2 < sil_absorption.value[i] < line_cnr_list2[j].value+0.2 :\n",
    "            sil_absorption_detected[count_sil]= sil_absorption[i]\n",
    "            count_sil=count_sil+1\n",
    "        \n",
    "if count_sil==0:\n",
    "    sil_absorption_detected=[0.0]*u.micron\n",
    "          \n",
    "#Remove multiple detection of same line\n",
    "test_list=[0.0]*count_sil\n",
    "\n",
    "if count_sil > 0:\n",
    "    for i in range(0,count_sil):\n",
    "        test_list[i]=sil_absorption_detected[i].value\n",
    "    drop_dups_sil  = pd.Series(test_list).drop_duplicates().tolist()\n",
    "    print(len(drop_dups_sil),\"silicate absorption lines detected in spectrum\")\n",
    "else:\n",
    "    print(\"0 silicate absorption lines detected in spectrum\")"
   ]
  },
  {
   "cell_type": "code",
   "execution_count": null,
   "metadata": {},
   "outputs": [],
   "source": [
    "#Look for ice absorption features\n",
    "\n",
    "ice_absorption = [4.67, 6.0, 6.9, 7.7, 15.3] * u.micron                                          #list or known YSO ice absorption lines\n",
    "len_ice_list = len(ice_absorption)\n",
    "\n",
    "ice_absorption_detected=[]                                                                       #empty array to store detected lines\n",
    "line_cnr_list = abslines[\"line_center\"]                                                          #list of absorption lines extracted from first spectrum\n",
    "len_line_list = len(line_cnr_list)\n",
    "line_cnr_list2 = abslines2[\"line_center\"]                                                        #list of absorption lines extracted from second spectrum\n",
    "len_line_list2 = len(line_cnr_list2)\n",
    "\n",
    "count_ice1=0                                                                                     #counting how many ice absorption lines exist in first spectrum\n",
    "for i in range(0,len_ice_list):\n",
    "    for j in range (0,len_line_list):\n",
    "        if line_cnr_list[j].value-0.2 < ice_absorption.value[i] < line_cnr_list[j].value+0.2 :   \n",
    "            count_ice1=count_ice1+1\n",
    "count_ice2=0                                                                                     #counting how many ice absorption lines exist in second spectrum\n",
    "for i in range(0,len_ice_list):\n",
    "    for j in range (0,len_line_list2):\n",
    "        if line_cnr_list2[j].value-0.2 < ice_absorption.value[i] < line_cnr_list2[j].value+0.2 : \n",
    "            count_ice2=count_ice2+1\n",
    "            \n",
    "ice_absorption_detected=[0.0]*(count_ice1+count_ice2)                                            #empty array to store detected lines\n",
    "count_ice=0                                                                                      #restart count\n",
    "for i in range(0,len_ice_list):\n",
    "    for j in range (0,len_line_list):\n",
    "        if line_cnr_list[j].value-0.2 < ice_absorption.value[i] < line_cnr_list[j].value+0.2 :\n",
    "            ice_absorption_detected[count_ice]= ice_absorption[i]\n",
    "            count_ice=count_ice+1\n",
    "    for j in range (0,len_line_list2):\n",
    "        if line_cnr_list2[j].value-0.2 < ice_absorption.value[i] < line_cnr_list2[j].value+0.2 :\n",
    "            ice_absorption_detected[count_ice]= ice_absorption[i]\n",
    "            count_ice=count_ice+1\n",
    "\n",
    "if count_ice==0:\n",
    "    ice_absorption_detected=[0.0]*u.micron\n",
    "          \n",
    "#Remove multiple detection of same line\n",
    "test_list=[0.0]*count_ice\n",
    "\n",
    "if count_ice > 0:\n",
    "    for i in range(0,count_ice):\n",
    "        test_list[i]=ice_absorption_detected[i]\n",
    "    drop_dups_ice  = pd.Series(test_list).drop_duplicates().tolist()\n",
    "    print(len(drop_dups_ice),\"ice absorption lines detected in spectrum\")\n",
    "else:\n",
    "    print(\"0 ice absorption lines detected in spectrum\")"
   ]
  },
  {
   "cell_type": "code",
   "execution_count": null,
   "metadata": {},
   "outputs": [],
   "source": [
    "#If no PAH, silicate, and ice lines found then print this is not a YSO\n",
    "if PAH_emission_detected[0].value==0 and sil_absorption_detected[0].value==0 and ice_absorption_detected[0].value:\n",
    "    print(\"This is not a YSO.\")\n",
    "#Else find out if YSO 1 (youngest, most embedded YSO), YSO 2, or YSO 3.\n",
    "else:\n",
    "    print(\"This is a YSO.\")\n",
    "    if len(drop_dups_ice) > 0:\n",
    "        for i in range(0,count_ice):\n",
    "            if ice_absorption_detected[i].value < 15.4 and ice_absorption_detected[i].value > 15.0:\n",
    "                print(\"This is a Class 1 YSO.\")\n",
    "    if (count_ice == 0) and (len(drop_dups_sil) > 0):\n",
    "        print(\"This is a Class 2 YSO.\")\n"
   ]
  },
  {
   "cell_type": "markdown",
   "metadata": {},
   "source": [
    "##### Still left to do:\n",
    "##### Need to search for common atomic emission lines because that is the feature for YSO 3.\n",
    "##### If this is a YSO, but cannot be categorized then maybe print out that user needs to take closer look to determine YSO stage."
   ]
  },
  {
   "cell_type": "markdown",
   "metadata": {},
   "source": [
    "### Plot the spectra and label the emission and absorption features\n",
    "\n",
    "##### Still need to remove multiple detection of same line."
   ]
  },
  {
   "cell_type": "code",
   "execution_count": null,
   "metadata": {},
   "outputs": [],
   "source": [
    "fig = plt.figure(figsize=(10,6))\n",
    "plt.plot(spec_contsub1.spectral_axis, spec_contsub1.flux,color='black')\n",
    "plt.plot(spec_contsub2.spectral_axis, spec_contsub2.flux,color='black')\n",
    "\n",
    "plt.xlabel(\"Wavelength ({:latex})\".format(spec.spectral_axis.unit))\n",
    "plt.ylabel(\"Flux ({:latex})\".format(spec.flux.unit))\n",
    "plt.axhline(y=0.0, color='r', linestyle='-')\n",
    "\n",
    "max_emission=np.max(spec_contsub2.flux.value)\n",
    "\n",
    "if len(PAH_emission_detected) >0 :\n",
    "    for i in range(0,len(PAH_emission_detected)):\n",
    "        x=[PAH_emission_detected[i].value, PAH_emission_detected[i].value]\n",
    "        y=[max_emission*3, max_emission*4]\n",
    "        plt.plot(x,y,'r')\n",
    "    plt.plot(x,y,'r',label='PAH emission')    \n",
    "\n",
    "if len(sil_absorption_detected) >0 :\n",
    "    for i in range(0,len(sil_absorption_detected)):\n",
    "        x=[sil_absorption_detected[i].value, sil_absorption_detected[i].value]\n",
    "        y=[max_emission*3, max_emission*4]\n",
    "        plt.plot(x,y,'blue')\n",
    "    plt.plot(x,y,'blue',label='silicate absorption')\n",
    "    \n",
    "if len(ice_absorption_detected) >0 :\n",
    "    for i in range(0,len(ice_absorption_detected)):\n",
    "        x=[ice_absorption_detected[i].value, ice_absorption_detected[i].value]\n",
    "        y=[max_emission*3, max_emission*4]\n",
    "        plt.plot(x,y,'g')\n",
    "    plt.plot(x,y,'g',label='ice absorption')\n",
    "\n",
    "plt.xlim(5,35)\n",
    "plt.legend(frameon=False, fontsize='medium')\n",
    "plt.tight_layout()\n",
    "plt.show()\n",
    "plt.close()"
   ]
  },
  {
   "cell_type": "markdown",
   "metadata": {},
   "source": [
    "# Young Stellar Objects in the Large Magellanic Cloud: Part 2\n",
    "\n",
    "##### Use ALMA data cube to show how dendrogram can be used to study the heirarchical nature of CO gas clumps and possible extended emission that might be detected using MRS.\n",
    "##### Use list of YSOs and list of dendrogram clumps to correlate properties for YSO (mass, luminosity) to properties of gas clumps (mass, mass density, size).\n",
    "##### Dendrograms can be used to do virial analysis (radius versus linewidth) of gas clumps to determine if clouds have extra energetics that cannot be accounted for.\n",
    "##### This can be a test case for anyone interested in using dendrograms for their own personal science, even if it is not related to YSOs in the LMC>"
   ]
  },
  {
   "cell_type": "code",
   "execution_count": null,
   "metadata": {},
   "outputs": [],
   "source": [
    "#Compute the dendrogram.\n",
    "image = fits.getdata('/Users/inayak/Desktop/Sprint/LMC_13CO.fits')\n",
    "d = Dendrogram.compute(image, min_value=12, min_delta=1., min_npix=10,verbose=True)"
   ]
  },
  {
   "cell_type": "code",
   "execution_count": null,
   "metadata": {},
   "outputs": [],
   "source": [
    "#Plot the dendrogram\n",
    "v = d.viewer()\n",
    "v.show()"
   ]
  },
  {
   "cell_type": "markdown",
   "metadata": {},
   "source": [
    "### Make a catalog\n",
    "\n",
    "##### This catalog already calculates sizes, total fluxes, and linewidths of the clumps."
   ]
  },
  {
   "cell_type": "code",
   "execution_count": null,
   "metadata": {},
   "outputs": [],
   "source": [
    "metadata = {}\n",
    "metadata['data_unit'] = u.K\n",
    "metadata['spatial_scale'] =  0.2 * u.arcsec    #need to confirm spatial scale, it might not be 0.2 arcsec\n",
    "metadata['beam_major'] =  1.6387 * u.arcsec\n",
    "metadata['beam_minor'] =  1.4163 * u.arcsec\n",
    "metadata['wavelength'] = 0.00136 * u.m"
   ]
  },
  {
   "cell_type": "code",
   "execution_count": null,
   "metadata": {},
   "outputs": [],
   "source": [
    "cat = ppv_catalog(d, metadata)"
   ]
  },
  {
   "cell_type": "code",
   "execution_count": null,
   "metadata": {},
   "outputs": [],
   "source": [
    "#Use the catalog to make Radius versus RMS Velocity Plot\n",
    "fig = plt.figure(figsize=(10,6))\n",
    "plt.plot(cat['radius'], cat['v_rms'],'*')\n",
    "\n",
    "plt.xlabel(\"Radius [arcsec]\")\n",
    "plt.ylabel(\"RMS Velocity [pixel]\")\n",
    "\n",
    "plt.tight_layout()\n",
    "plt.show()\n",
    "plt.close()"
   ]
  },
  {
   "cell_type": "code",
   "execution_count": null,
   "metadata": {},
   "outputs": [],
   "source": [
    "#Use the catalog to make Radius versus RMS Velocity Plot of Just the Leaves (i.e. the small high density cores in which star formation takes place)\n",
    "\n",
    "trunk=d.trunk\n",
    "leaves=d.leaves"
   ]
  },
  {
   "cell_type": "markdown",
   "metadata": {},
   "source": [
    "##### Still left to do:\n",
    "\n",
    "##### Plot just the leaves and just the branches\n",
    "##### Check units and plot the Larson r-sigma relation to show expectation. The difference will allow you to see how much turbulence exists in the local ISM.\n",
    "##### Relate YSO properties to clump properties"
   ]
  },
  {
   "cell_type": "code",
   "execution_count": null,
   "metadata": {},
   "outputs": [],
   "source": []
  }
 ],
 "metadata": {
  "kernelspec": {
   "display_name": "Python 3",
   "language": "python",
   "name": "python3"
  },
  "language_info": {
   "codemirror_mode": {
    "name": "ipython",
    "version": 3
   },
   "file_extension": ".py",
   "mimetype": "text/x-python",
   "name": "python",
   "nbconvert_exporter": "python",
   "pygments_lexer": "ipython3",
   "version": "3.8.3"
  }
 },
 "nbformat": 4,
 "nbformat_minor": 4
}
