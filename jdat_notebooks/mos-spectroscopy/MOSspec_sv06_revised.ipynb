{
 "cells": [
  {
   "cell_type": "markdown",
   "metadata": {},
   "source": [
    "# JWST Data Analysis Use Case: MOS Spectroscopy of Typical Extragalactic Fields\n",
    "\n",
    "### This should work with the JWST pipeline final products (1D and 2D spectra). These are not available yet, so I will use LEGA-C data (van der Wel et al. 2016, Straatmann et al. 2018) for now."
   ]
  },
  {
   "cell_type": "markdown",
   "metadata": {},
   "source": [
    "First, set the environment with astroconda and specutils.\n",
    "\n",
    "`conda create -n astroutils stsci`\n",
    "\n",
    "`source activate astroutils`"
   ]
  },
  {
   "cell_type": "markdown",
   "metadata": {},
   "source": [
    "## Imports"
   ]
  },
  {
   "cell_type": "code",
   "execution_count": null,
   "metadata": {},
   "outputs": [],
   "source": [
    "#general os\n",
    "import os\n",
    "import zipfile\n",
    "import urllib.request\n",
    "\n",
    "#general plotting\n",
    "from matplotlib import pyplot as plt\n",
    "\n",
    "params={'legend.fontsize':'18','axes.labelsize':'18',\n",
    "        'axes.titlesize':'18','xtick.labelsize':'18',\n",
    "        'ytick.labelsize':'18','lines.linewidth':2,'axes.linewidth':2,'animation.html': 'html5'}\n",
    "plt.rcParams.update(params)\n",
    "plt.rcParams.update({'figure.max_open_warning': 0})\n",
    "\n",
    "#table/math handling\n",
    "import pandas as pd\n",
    "import numpy as np\n",
    "np.seterr(all='ignore')  # hides irrelevant warnings about divide-by-zero, etc\n",
    "\n",
    "#astropy\n",
    "import astropy\n",
    "import astropy.units as u\n",
    "from astropy.table import QTable\n",
    "from astropy.io import fits,ascii\n",
    "from astropy.nddata import StdDevUncertainty\n",
    "from astropy.modeling import models\n",
    "from astropy.visualization import quantity_support\n",
    "from astropy import constants as const\n",
    "\n",
    "#specutils\n",
    "import specutils\n",
    "from specutils import Spectrum1D, SpectralRegion\n",
    "from specutils.manipulation import gaussian_smooth\n",
    "from specutils.fitting import fit_generic_continuum\n",
    "from specutils.fitting import find_lines_derivative\n",
    "from specutils.fitting import find_lines_threshold\n",
    "from specutils.fitting import fit_lines\n",
    "from specutils.manipulation import noise_region_uncertainty\n",
    "from specutils.analysis import centroid\n",
    "from specutils.analysis import line_flux\n",
    "from specutils.analysis import equivalent_width\n",
    "from specutils.analysis import template_comparison\n",
    "\n",
    "quantity_support();  # auto-recognizes units on matplotlib plots"
   ]
  },
  {
   "cell_type": "markdown",
   "metadata": {},
   "source": [
    "## Check versions. Should be:\n",
    "\n",
    "Pandas:  0.25.2\n",
    "\n",
    "Numpy:  1.17.2\n",
    "\n",
    "Astropy:  3.2.2\n",
    "\n",
    "Specutils:  0.6"
   ]
  },
  {
   "cell_type": "code",
   "execution_count": null,
   "metadata": {},
   "outputs": [],
   "source": [
    "print(\"Pandas: \",pd.__version__)\n",
    "print(\"Numpy: \",np.__version__)\n",
    "print(\"Astropy: \",astropy.__version__)\n",
    "print(\"Specutils: \",specutils.__version__)"
   ]
  },
  {
   "cell_type": "markdown",
   "metadata": {},
   "source": [
    "## Set path to data and download from box link"
   ]
  },
  {
   "cell_type": "code",
   "execution_count": null,
   "metadata": {},
   "outputs": [],
   "source": [
    "boxlink = 'https://data.science.stsci.edu/redirect/JWST/jwst-data_analysis_tools/mos_spectroscopy/mos_spectroscopy.zip'\n",
    "boxfile = './mos_spectroscopy.zip'\n",
    "urllib.request.urlretrieve(boxlink, boxfile)\n",
    "\n",
    "zf = zipfile.ZipFile(boxfile, 'r')\n",
    "zf.extractall()\n",
    "\n",
    "observedfiles = './mos_spectroscopy/observed/'"
   ]
  },
  {
   "cell_type": "markdown",
   "metadata": {},
   "source": [
    "## Choose one galaxy"
   ]
  },
  {
   "cell_type": "code",
   "execution_count": null,
   "metadata": {},
   "outputs": [],
   "source": [
    "file1d = observedfiles + 'legac_M1_v3.7_spec1d_130902.fits'\n",
    "file1dwht = observedfiles + 'legac_M1_v3.7_wht1d_130902.fits'\n",
    "file2d = observedfiles + 'legac_M1_v3.7_spec2d_130902.fits'"
   ]
  },
  {
   "cell_type": "markdown",
   "metadata": {},
   "source": [
    "## Inspect its 2D spectrum"
   ]
  },
  {
   "cell_type": "code",
   "execution_count": null,
   "metadata": {},
   "outputs": [],
   "source": [
    "hdu2d = fits.open(file2d)\n",
    "hdu2d.info()"
   ]
  },
  {
   "cell_type": "code",
   "execution_count": null,
   "metadata": {},
   "outputs": [],
   "source": [
    "hdu2d[0].header"
   ]
  },
  {
   "cell_type": "code",
   "execution_count": null,
   "metadata": {},
   "outputs": [],
   "source": [
    "plt.figure(figsize=[20,20])\n",
    "plt.imshow(hdu2d[0].data)\n",
    "plt.xlim(2000,3000) #spec is very big, plot just a bit"
   ]
  },
  {
   "cell_type": "markdown",
   "metadata": {},
   "source": [
    "## Now work with 1D spectrum\n",
    "## Calibrate (in wavelength), inspect, and write in Spectrum1D object"
   ]
  },
  {
   "cell_type": "code",
   "execution_count": null,
   "metadata": {},
   "outputs": [],
   "source": [
    "hdu1d = fits.open(file1d)\n",
    "hdu1dwht = fits.open(file1dwht)\n",
    "hdu1d.info()"
   ]
  },
  {
   "cell_type": "code",
   "execution_count": null,
   "metadata": {},
   "outputs": [],
   "source": [
    "hdu1d[0].header"
   ]
  },
  {
   "cell_type": "markdown",
   "metadata": {},
   "source": [
    "If i want to do it in Pandas."
   ]
  },
  {
   "cell_type": "code",
   "execution_count": null,
   "metadata": {},
   "outputs": [],
   "source": [
    "flux = hdu1d[0].data.byteswap().newbyteorder()\n",
    "wht = hdu1dwht[0].data.byteswap().newbyteorder()\n",
    "unc = 1./ np.sqrt(wht)\n",
    "wave = np.arange(flux.shape[0])*hdu1d[0].header['CD1_1'] + hdu1d[0].header['CRVAL1']\n",
    "\n",
    "##for certain functions, I need to cut the spectrum where the weight is 0.\n",
    "d = {'wavelength':wave, 'flux':flux, 'weight':wht, 'uncertainty':unc}\n",
    "dataspec = pd.DataFrame(data=d)\n",
    "\n",
    "##define subset where wht>0\n",
    "dataspec_sub = dataspec[dataspec['weight'] > 0.].reset_index(drop=True)\n",
    "dataspec_sub.head()"
   ]
  },
  {
   "cell_type": "markdown",
   "metadata": {},
   "source": [
    "If I want to do it in astropy Tables."
   ]
  },
  {
   "cell_type": "code",
   "execution_count": null,
   "metadata": {},
   "outputs": [],
   "source": [
    "flux = hdu1d[0].data\n",
    "wht = hdu1dwht[0].data\n",
    "unc = 1./ np.sqrt(wht)\n",
    "wave = np.arange(flux.shape[0])*hdu1d[0].header['CD1_1'] + hdu1d[0].header['CRVAL1']\n",
    "\n",
    "spec_unit = u.Unit('10^-19 erg s^-1 cm^-2 angstrom^-1')\n",
    "dataspec = QTable([wave*u.angstrom, flux*spec_unit, wht, unc*spec_unit], \n",
    "                   names=('wavelength','flux','weight','uncertainty'))\n",
    "dataspec_sub = dataspec[dataspec['weight']>0.]\n",
    "dataspec_sub"
   ]
  },
  {
   "cell_type": "code",
   "execution_count": null,
   "metadata": {},
   "outputs": [],
   "source": [
    "plt.figure(figsize=[10,6])\n",
    "plt.fill_between(dataspec_sub['wavelength'],\n",
    "                 dataspec_sub['flux']+dataspec_sub['uncertainty'],\n",
    "                 dataspec_sub['flux']-dataspec_sub['uncertainty'],\n",
    "                 color='gray')\n",
    "plt.plot(dataspec_sub['wavelength'],dataspec_sub['flux'])\n",
    "plt.xlabel(\"wavelength ({:latex})\".format(dataspec_sub['wavelength'].unit))\n",
    "plt.ylabel(\"flux ({:latex})\".format(dataspec_sub['flux'].unit))\n",
    "plt.show()"
   ]
  },
  {
   "cell_type": "markdown",
   "metadata": {},
   "source": [
    "## Go with specutils"
   ]
  },
  {
   "cell_type": "code",
   "execution_count": null,
   "metadata": {},
   "outputs": [],
   "source": [
    "#write Spectrum1D object\n",
    "spec1d = Spectrum1D(spectral_axis=dataspec_sub['wavelength'], \n",
    "                    flux=dataspec_sub['flux'], \n",
    "                    uncertainty=StdDevUncertainty(dataspec_sub['uncertainty']))"
   ]
  },
  {
   "cell_type": "markdown",
   "metadata": {},
   "source": [
    "For supported datasets (like final JWST data products), this will be as simple as:\n",
    "```\n",
    "spec1d = Spectrum1d.read('datafile.fits')\n",
    "```"
   ]
  },
  {
   "cell_type": "markdown",
   "metadata": {},
   "source": [
    "Implemented but not yet released: `snr_threshold`, which will allow cutting the spectrum using that function."
   ]
  },
  {
   "cell_type": "markdown",
   "metadata": {},
   "source": [
    "## Smooth to better inspect the features\n",
    "### The uncertainty is not carried over"
   ]
  },
  {
   "cell_type": "code",
   "execution_count": null,
   "metadata": {},
   "outputs": [],
   "source": [
    "spec1d_gsmooth = gaussian_smooth(spec1d, stddev=5)\n",
    "plt.figure(figsize=[10,6])\n",
    "plt.plot(spec1d_gsmooth.spectral_axis,spec1d_gsmooth.flux)\n",
    "plt.xlabel(\"wavelength ({:latex})\".format(spec1d_gsmooth.spectral_axis.unit))\n",
    "plt.ylabel(\"flux ({:latex})\".format(spec1d_gsmooth.flux.unit))\n",
    "plt.show()"
   ]
  },
  {
   "cell_type": "markdown",
   "metadata": {},
   "source": [
    "## Back to the non-smoothed spectrum to find lines\n",
    "\n",
    "Documentation says I need a continuum subtracted spectrum.\n",
    "\n",
    "## So fit continuum first"
   ]
  },
  {
   "cell_type": "code",
   "execution_count": null,
   "metadata": {},
   "outputs": [],
   "source": [
    "cont_spec1d = fit_generic_continuum(spec1d)\n",
    "cont_fit = cont_spec1d(spec1d.spectral_axis)"
   ]
  },
  {
   "cell_type": "code",
   "execution_count": null,
   "metadata": {},
   "outputs": [],
   "source": [
    "plt.figure(figsize=[10,6])\n",
    "plt.plot(spec1d.spectral_axis, spec1d.flux)\n",
    "plt.plot(spec1d.spectral_axis, cont_fit)\n",
    "plt.xlabel(\"wavelength ({:latex})\".format(spec1d.spectral_axis.unit))\n",
    "plt.ylabel(\"flux ({:latex})\".format(spec1d.flux.unit))\n",
    "plt.show()\n",
    "\n",
    "plt.figure(figsize=[10,6])\n",
    "plt.plot(spec1d.spectral_axis, spec1d.uncertainty.array)\n",
    "plt.xlabel(\"wavelength ({:latex})\".format(spec1d.spectral_axis.unit))\n",
    "plt.ylabel(\"uncertainty ({:latex})\".format(spec1d.uncertainty.unit))\n",
    "plt.show()"
   ]
  },
  {
   "cell_type": "markdown",
   "metadata": {},
   "source": [
    "### Creating the new normalized spectrum\n",
    "It should figure out what to do with the uncertainty"
   ]
  },
  {
   "cell_type": "code",
   "execution_count": null,
   "metadata": {},
   "outputs": [],
   "source": [
    "spec1d_sub = spec1d - cont_fit\n",
    "spec1d_sub"
   ]
  },
  {
   "cell_type": "code",
   "execution_count": null,
   "metadata": {},
   "outputs": [],
   "source": [
    "plt.figure(figsize=[10,6])\n",
    "plt.plot(spec1d_sub.spectral_axis, spec1d_sub.flux)\n",
    "plt.xlabel(\"wavelength ({:latex})\".format(spec1d_sub.spectral_axis.unit))\n",
    "plt.ylabel(\"flux ({:latex})\".format(spec1d_sub.flux.unit))\n",
    "plt.show()\n",
    "\n",
    "plt.figure(figsize=[10,6])\n",
    "plt.plot(spec1d_sub.spectral_axis,spec1d_sub.uncertainty.array)\n",
    "plt.xlabel(\"wavelength ({:latex})\".format(spec1d_sub.spectral_axis.unit))\n",
    "plt.ylabel(\"uncertainty ({:latex})\".format(spec1d_sub.uncertainty.unit))\n",
    "plt.show()"
   ]
  },
  {
   "cell_type": "markdown",
   "metadata": {},
   "source": [
    "## Now look for the lines"
   ]
  },
  {
   "cell_type": "code",
   "execution_count": null,
   "metadata": {},
   "outputs": [],
   "source": [
    "lines = find_lines_derivative(spec1d_sub, flux_threshold=50)\n",
    "lines"
   ]
  },
  {
   "cell_type": "code",
   "execution_count": null,
   "metadata": {},
   "outputs": [],
   "source": [
    "plt.figure(figsize=[10,6])\n",
    "plt.plot(spec1d_sub.spectral_axis,spec1d_sub.flux)\n",
    "for line in lines:\n",
    "    plt.axvline(line['line_center'].value, color='red')\n",
    "plt.xlabel(\"wavelength ({:latex})\".format(spec1d_sub.spectral_axis.unit))\n",
    "plt.ylabel(\"flux ({:latex})\".format(spec1d.flux.unit))\n",
    "plt.show()"
   ]
  },
  {
   "cell_type": "markdown",
   "metadata": {},
   "source": [
    "This works for cases where you understand the thresholds well, but doesn't automate as well with noisy spectra."
   ]
  },
  {
   "cell_type": "markdown",
   "metadata": {},
   "source": [
    "### Works better with find_lines_threshold"
   ]
  },
  {
   "cell_type": "code",
   "execution_count": null,
   "metadata": {},
   "outputs": [],
   "source": [
    "lines = find_lines_threshold(spec1d_sub, noise_factor=6)\n",
    "lines"
   ]
  },
  {
   "cell_type": "markdown",
   "metadata": {},
   "source": [
    "Plot lines on the spectrum."
   ]
  },
  {
   "cell_type": "code",
   "execution_count": null,
   "metadata": {},
   "outputs": [],
   "source": [
    "plt.figure(figsize=[10,6])\n",
    "plt.plot(spec1d_sub.spectral_axis,spec1d_sub.flux)\n",
    "for line in lines:\n",
    "    plt.axvline(line['line_center'].value, color='red')\n",
    "plt.xlabel(\"wavelength ({:latex})\".format(spec1d_sub.spectral_axis.unit))\n",
    "plt.ylabel(\"flux ({:latex})\".format(spec1d_sub.flux.unit))\n",
    "plt.show()"
   ]
  },
  {
   "cell_type": "markdown",
   "metadata": {},
   "source": [
    "Zoom in to see how well it does on [OII]"
   ]
  },
  {
   "cell_type": "code",
   "execution_count": null,
   "metadata": {},
   "outputs": [],
   "source": [
    "plt.figure(figsize=[10,6])\n",
    "plt.plot(spec1d_sub.spectral_axis,spec1d_sub.flux)\n",
    "plt.scatter(spec1d_sub.spectral_axis,spec1d_sub.flux)\n",
    "for line in lines:\n",
    "    plt.axvline(line['line_center'].value, color='red')\n",
    "plt.xlim(6500,6600)\n",
    "plt.xlabel(\"wavelength ({:latex})\".format(spec1d_sub.spectral_axis.unit))\n",
    "plt.ylabel(\"flux ({:latex})\".format(spec1d_sub.flux.unit))\n",
    "plt.show()"
   ]
  },
  {
   "cell_type": "markdown",
   "metadata": {},
   "source": [
    "## Measure line centroids and fluxes\n",
    "These too need spectra continuum subtracted."
   ]
  },
  {
   "cell_type": "code",
   "execution_count": null,
   "metadata": {},
   "outputs": [],
   "source": [
    "#example with just one line\n",
    "centroid(spec1d_sub, SpectralRegion(6540*u.AA, 6580*u.AA))"
   ]
  },
  {
   "cell_type": "code",
   "execution_count": null,
   "metadata": {},
   "outputs": [],
   "source": [
    "sline = centroid(spec1d_sub, SpectralRegion(6540*u.AA, 6580*u.AA))\n",
    "\n",
    "plt.figure(figsize=[10,6])\n",
    "plt.plot(spec1d_sub.spectral_axis,spec1d_sub.flux)\n",
    "plt.scatter(spec1d_sub.spectral_axis,spec1d_sub.flux)\n",
    "plt.axvline(sline.value, color='red')\n",
    "plt.axhline(0,color='black')\n",
    "plt.xlim(6500,6600)\n",
    "plt.xlabel(\"wavelength ({:latex})\".format(spec1d_sub.spectral_axis.unit))\n",
    "plt.ylabel(\"flux ({:latex})\".format(spec1d_sub.flux.unit))\n",
    "plt.show()"
   ]
  },
  {
   "cell_type": "code",
   "execution_count": null,
   "metadata": {},
   "outputs": [],
   "source": [
    "line_flux(spec1d_sub, SpectralRegion(6540*u.AA, 6570*u.AA))  "
   ]
  },
  {
   "cell_type": "markdown",
   "metadata": {},
   "source": [
    "## Fit the line with a Gaussian"
   ]
  },
  {
   "cell_type": "code",
   "execution_count": null,
   "metadata": {},
   "outputs": [],
   "source": [
    "spec1d_sub.flux"
   ]
  },
  {
   "cell_type": "code",
   "execution_count": null,
   "metadata": {},
   "outputs": [],
   "source": [
    "g_init = models.Gaussian1D(amplitude= 3 * 1e-19 * u.erg / u.s / u.cm**2 / u.AA, mean=6554*u.AA, stddev=2.*u.AA)\n",
    "g_fit = fit_lines(spec1d_sub, g_init)\n",
    "spec1d_fit = g_fit(spec1d_sub.wavelength)\n",
    "g_fit"
   ]
  },
  {
   "cell_type": "code",
   "execution_count": null,
   "metadata": {},
   "outputs": [],
   "source": [
    "vel = ((3.71890256/6554.415) * const.c.to('km/s').value)*u.km/u.s\n",
    "print(vel)"
   ]
  },
  {
   "cell_type": "code",
   "execution_count": null,
   "metadata": {},
   "outputs": [],
   "source": [
    "plt.figure(figsize=[10,6])\n",
    "plt.plot(spec1d_sub.wavelength,spec1d_sub.flux,color='b')\n",
    "plt.plot(spec1d_sub.wavelength,spec1d_fit,color='darkorange')\n",
    "plt.xlim(6500,6600)\n",
    "plt.xlabel(\"wavelength ({:latex})\".format(spec1d_sub.spectral_axis.unit))\n",
    "plt.xlabel(\"flux ({:latex})\".format(spec1d_sub.flux.unit))\n",
    "plt.show()"
   ]
  },
  {
   "cell_type": "markdown",
   "metadata": {},
   "source": [
    "## Measure the equivalent width of the lines\n",
    "This needs the spectrum continuum normalized."
   ]
  },
  {
   "cell_type": "code",
   "execution_count": null,
   "metadata": {},
   "outputs": [],
   "source": [
    "spec1d_norm = spec1d / cont_fit"
   ]
  },
  {
   "cell_type": "code",
   "execution_count": null,
   "metadata": {},
   "outputs": [],
   "source": [
    "plt.figure(figsize=[10,6])\n",
    "plt.plot(spec1d_norm.spectral_axis, spec1d_norm.flux)\n",
    "plt.axhline(1,color='black')\n",
    "plt.xlabel(\"wavelength ({:latex})\".format(spec1d_norm.spectral_axis.unit))\n",
    "plt.ylabel(\"flux (normalized)\")\n",
    "plt.xlim(6500,6600)\n",
    "plt.show()\n",
    "\n",
    "plt.figure(figsize=[10,6])\n",
    "plt.plot(spec1d_norm.spectral_axis, spec1d_norm.uncertainty.array)\n",
    "plt.xlabel(\"wavelength ({:latex})\".format(spec1d_norm.spectral_axis.unit))\n",
    "plt.ylabel(\"flux (normalized)\")\n",
    "plt.xlim(6500,6600)\n",
    "plt.show()"
   ]
  },
  {
   "cell_type": "code",
   "execution_count": null,
   "metadata": {},
   "outputs": [],
   "source": [
    "equivalent_width(spec1d_norm, regions=SpectralRegion(6540*u.AA, 6570*u.AA))"
   ]
  },
  {
   "cell_type": "markdown",
   "metadata": {},
   "source": [
    "## Find the best-fitting template\n",
    "It needs a list of templates."
   ]
  },
  {
   "cell_type": "code",
   "execution_count": null,
   "metadata": {},
   "outputs": [],
   "source": [
    "templatedir = './mos_spectroscopy/templates/'"
   ]
  },
  {
   "cell_type": "code",
   "execution_count": null,
   "metadata": {},
   "outputs": [],
   "source": [
    "zz = (1. + 0.758)\n",
    "\n",
    "templatelist = []\n",
    "for i in range (1, 101):\n",
    "    template_file = \"{0}{1:05d}.dat\".format(templatedir,i)\n",
    "    template = ascii.read(template_file)\n",
    "    temp1d = Spectrum1D(spectral_axis=template['col1']*zz*u.AA,flux=template['col2']/zz*u.erg/u.s/u.AA)\n",
    "    templatelist.append(temp1d)\n",
    "    \n",
    "    \n",
    "tempnorm, chi2, index = template_comparison.template_match(spec1d, templatelist)\n",
    "print(chi2, index)"
   ]
  },
  {
   "cell_type": "code",
   "execution_count": null,
   "metadata": {},
   "outputs": [],
   "source": [
    "tempnorm"
   ]
  },
  {
   "cell_type": "code",
   "execution_count": null,
   "metadata": {},
   "outputs": [],
   "source": [
    "plt.figure(figsize=[10, 6])\n",
    "plt.plot(spec1d.wavelength, spec1d.flux,color='b')\n",
    "plt.plot(tempnorm.wavelength, tempnorm.flux,color='r')\n",
    "plt.xlim(6000, 9000)\n",
    "plt.xlabel(\"wavelength ({:latex})\".format(spec1d_norm.spectral_axis.unit))\n",
    "plt.ylabel(\"flux (normalized)\")\n",
    "plt.show()"
   ]
  },
  {
   "cell_type": "markdown",
   "metadata": {},
   "source": [
    "Implemented but not yet released: automatic template *fitting* to get the redshift."
   ]
  },
  {
   "cell_type": "markdown",
   "metadata": {},
   "source": [
    "## Potential next steps:\n",
    "    - measure if emission-line profile is consistent with PSF\n",
    "    - measure line intensities in 2D\n",
    "    - convert distances from pixels to kpc"
   ]
  },
  {
   "cell_type": "code",
   "execution_count": null,
   "metadata": {},
   "outputs": [],
   "source": []
  }
 ],
 "metadata": {
  "kernelspec": {
   "display_name": "Python 3",
   "language": "python",
   "name": "python3"
  },
  "language_info": {
   "codemirror_mode": {
    "name": "ipython",
    "version": 3
   },
   "file_extension": ".py",
   "mimetype": "text/x-python",
   "name": "python",
   "nbconvert_exporter": "python",
   "pygments_lexer": "ipython3",
   "version": "3.6.7"
  }
 },
 "nbformat": 4,
 "nbformat_minor": 2
}
