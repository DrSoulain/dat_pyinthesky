{
 "cells": [
  {
   "cell_type": "code",
   "execution_count": 1,
   "metadata": {},
   "outputs": [],
   "source": [
    "# requirements.txt\n",
    "#\n",
    "# git+https://github.com/glue-viz/glue-jupyter\n",
    "# git+https://github.com/glue-viz/glue-astronomy\n",
    "# regions\n",
    "# specutils\n",
    "# photutils\n",
    "# astropy\n",
    "# numpy\n",
    "# matplotlib\n",
    "\n",
    "from specutils import Spectrum1D\n",
    "from regions import read_ds9, CircleSkyRegion\n",
    "from photutils import SkyCircularAperture, aperture_photometry\n",
    "from astropy.io import fits\n",
    "from astropy import wcs\n",
    "from astropy import units as u\n",
    "from astropy.nddata import StdDevUncertainty\n",
    "from astropy.visualization import SqrtStretch\n",
    "from astropy.visualization.mpl_normalize import ImageNormalize\n",
    "import numpy as np\n",
    "\n",
    "import matplotlib\n",
    "from matplotlib import pyplot as plt\n",
    "%matplotlib inline"
   ]
  },
  {
   "cell_type": "markdown",
   "metadata": {},
   "source": [
    "### Read in files"
   ]
  },
  {
   "cell_type": "code",
   "execution_count": 2,
   "metadata": {
    "scrolled": false
   },
   "outputs": [
    {
     "name": "stderr",
     "output_type": "stream",
     "text": [
      "/Users/jdavies/miniconda3/envs/notebook/lib/python3.8/site-packages/glue/external/echo/__init__.py:3: UserWarning: glue.external.echo is deprecated, import from echo directly instead\n",
      "  warnings.warn('glue.external.echo is deprecated, import from echo directly instead')\n",
      "/Users/jdavies/miniconda3/envs/notebook/lib/python3.8/site-packages/glue/core/data_factories/fits.py:152: UserWarning: Dropping column 'ASDF_METADATA' since it is not 1-dimensional\n",
      "  warnings.warn(\"Dropping column '{0}' since it is not 1-dimensional\".format(column_name))\n"
     ]
    },
    {
     "data": {
      "application/vnd.jupyter.widget-view+json": {
       "model_id": "4047dc7bfcd541f2b3ff58f42a0a210b",
       "version_major": 2,
       "version_minor": 0
      },
      "text/plain": [
       "Html(children=[Toolbar(children=[ToolbarItems(children=[BasicJupyterToolbar(children=[Tooltip(bottom=True, chi…"
      ]
     },
     "metadata": {},
     "output_type": "display_data"
    }
   ],
   "source": [
    "filename = '/user/pogle/q3dsim/NRS00001-G-F100LP-G140H-01_1_1020_JW1_IPS_20200114T120000.000_20200115T120000.000/NRS00001-G-F100LP-G140H-01_1_SE_2020-01-14T12h15m00_s3d.fits'\n",
    "\n",
    "import glue_jupyter as gj\n",
    "app = gj.jglue()\n",
    "app.load_data(filename)\n",
    "image_viewer = app.imshow(data='NRS00001-G-F100LP-G140H-01_1_SE_2020-01-14T12h15m00_s3d[SCI]')"
   ]
  },
  {
   "cell_type": "code",
   "execution_count": 3,
   "metadata": {},
   "outputs": [
    {
     "data": {
      "text/plain": [
       "<CirclePixelRegion(PixCoord(x=25.212804794311523, y=24.68719482421875), radius=8.381162643432617)>"
      ]
     },
     "execution_count": 3,
     "metadata": {},
     "output_type": "execute_result"
    }
   ],
   "source": [
    "data = app.data_collection[0]\n",
    "pix_region = data.get_selection_definition(format='astropy-regions')\n",
    "pix_region"
   ]
  },
  {
   "cell_type": "code",
   "execution_count": 4,
   "metadata": {},
   "outputs": [
    {
     "name": "stderr",
     "output_type": "stream",
     "text": [
      "/Users/jdavies/miniconda3/envs/notebook/lib/python3.8/site-packages/asdf/asdf.py:189: UserWarning: File '/user/pogle/q3dsim/NRS00001-G-F100LP-G140H-01_1_1020_JW1_IPS_20200114T120000.000_20200115T120000.000/NRS00001-G-F100LP-G140H-01_1_SE_2020-01-14T12h15m00_s3d.fits' was created with extension 'jwst.transforms.jwextension.JWSTExtension', which is not currently installed (from package jwst-0.14.3a1.dev86+g38403faa)\n",
      "  warnings.warn(fmt_msg)\n"
     ]
    }
   ],
   "source": [
    "with fits.open(filename, memmap=False) as hdulist:\n",
    "    sci = hdulist[\"SCI\"].data\n",
    "    err = hdulist[\"ERR\"].data\n",
    "    w = wcs.WCS(hdulist[1].header)\n",
    "spec1d = Spectrum1D.read(filename)"
   ]
  },
  {
   "cell_type": "markdown",
   "metadata": {},
   "source": [
    "### Create a `SkyCircularAperture`"
   ]
  },
  {
   "cell_type": "code",
   "execution_count": 5,
   "metadata": {},
   "outputs": [
    {
     "data": {
      "text/plain": [
       "<SkyCircularAperture(<SkyCoord (ICRS): (ra, dec) in deg\n",
       "    (156.1778049, -45.6869575)>, r=0.8381162768321666 arcsec)>"
      ]
     },
     "execution_count": 5,
     "metadata": {},
     "output_type": "execute_result"
    }
   ],
   "source": [
    "# Read in a ds9 region file\n",
    "# region = read_ds9('/user/pogle/q3dsim/NRS00001-G-F100LP-G140H-01_1_1020_JW1_IPS_20200114T120000.000_20200115T120000.000/q3d_circle.reg')[0]\n",
    "# aperture = SkyCircularAperture(region.center, region.radius)\n",
    "\n",
    "# or\n",
    "\n",
    "# Use region selection from glue-jupyter viewer above to make an aperture\n",
    "pixel_scale = np.sqrt(np.abs(np.prod(w.celestial.wcs.cdelt)))\n",
    "center = w.celestial.pixel_to_world(pix_region.center.x, pix_region.center.y)\n",
    "radius = pix_region.radius * pixel_scale * 3600 * u.arcsec\n",
    "# Convert CirclePixelRegion to CircleSkyRegion\n",
    "region = CircleSkyRegion(center, radius)\n",
    "aperture = SkyCircularAperture(region.center, region.radius)\n",
    "aperture"
   ]
  },
  {
   "cell_type": "code",
   "execution_count": 6,
   "metadata": {},
   "outputs": [
    {
     "data": {
      "text/plain": [
       "<matplotlib.axes._subplots.AxesSubplot at 0x11a484220>"
      ]
     },
     "execution_count": 6,
     "metadata": {},
     "output_type": "execute_result"
    },
    {
     "data": {
      "image/png": "[encoded data removed]",
      "text/plain": [
       "<Figure size 432x288 with 1 Axes>"
      ]
     },
     "metadata": {
      "needs_background": "light"
     },
     "output_type": "display_data"
    }
   ],
   "source": [
    "pixel_region = region.to_pixel(w.celestial)\n",
    "ax = plt.subplots()[1]\n",
    "norm = ImageNormalize(stretch=SqrtStretch())\n",
    "ax.imshow(np.mean(sci, axis=0), cmap='gray', origin='lower', norm=norm)\n",
    "pixel_region.plot(axes=ax)"
   ]
  },
  {
   "cell_type": "markdown",
   "metadata": {},
   "source": [
    "### Now for each spatial slice, compute the sum in the aperture"
   ]
  },
  {
   "cell_type": "code",
   "execution_count": 7,
   "metadata": {},
   "outputs": [],
   "source": [
    "sums = []\n",
    "errs = []\n",
    "reference_wavelength = spec1d.spectral_axis[0]\n",
    "\n",
    "for wavelength, scislice, error in zip(spec1d.spectral_axis, sci, err):\n",
    "    aperture_radius = aperture.r * wavelength / reference_wavelength\n",
    "    aperture_cone = SkyCircularAperture(region.center, aperture_radius)\n",
    "    phot_table = aperture_photometry(scislice, aperture_cone, wcs=w.celestial,\n",
    "                                     method=\"exact\", error=error)\n",
    "    sums.append(phot_table[\"aperture_sum\"][0])\n",
    "    errs.append(phot_table[\"aperture_sum_err\"][0])\n",
    "\n",
    "flux = np.array(sums) * spec1d.flux.unit\n",
    "uncertainty = StdDevUncertainty(np.array(errs))"
   ]
  },
  {
   "cell_type": "code",
   "execution_count": 8,
   "metadata": {},
   "outputs": [],
   "source": [
    "extracted_spec = Spectrum1D(flux=flux, spectral_axis=spec1d.spectral_axis,\n",
    "                            uncertainty=uncertainty)"
   ]
  },
  {
   "cell_type": "code",
   "execution_count": 9,
   "metadata": {},
   "outputs": [
    {
     "data": {
      "text/plain": [
       "[]"
      ]
     },
     "execution_count": 9,
     "metadata": {},
     "output_type": "execute_result"
    },
    {
     "data": {
      "image/png": "[encoded data removed]",
      "text/plain": [
       "<Figure size 432x288 with 1 Axes>"
      ]
     },
     "metadata": {
      "needs_background": "light"
     },
     "output_type": "display_data"
    }
   ],
   "source": [
    "ax = plt.subplots()[1]\n",
    "ax.plot(extracted_spec.spectral_axis, extracted_spec.flux)\n",
    "ax.set_xlim(0.95,1.45)\n",
    "ax.set_ylim(0,50000)\n",
    "ax.set_xlabel(f\"Dispersion ({extracted_spec.spectral_axis.unit.to_string()})\")\n",
    "ax.set_ylabel(f\"Flux ({extracted_spec.flux.unit.to_string()})\")\n",
    "plt.plot()"
   ]
  },
  {
   "cell_type": "code",
   "execution_count": null,
   "metadata": {},
   "outputs": [],
   "source": []
  }
 ],
 "metadata": {
  "kernelspec": {
   "display_name": "Python 3",
   "language": "python",
   "name": "python3"
  },
  "language_info": {
   "codemirror_mode": {
    "name": "ipython",
    "version": 3
   },
   "file_extension": ".py",
   "mimetype": "text/x-python",
   "name": "python",
   "nbconvert_exporter": "python",
   "pygments_lexer": "ipython3",
   "version": "3.8.2"
  }
 },
 "nbformat": 4,
 "nbformat_minor": 4
}
