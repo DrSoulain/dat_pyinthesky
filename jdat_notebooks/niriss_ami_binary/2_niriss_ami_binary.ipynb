{
 "cells": [
  {
   "cell_type": "markdown",
   "metadata": {
    "slideshow": {
     "slide_type": "slide"
    }
   },
   "source": [
    "<a id=\"top\"></a>\n",
    "# NIRISS AMI calibration of binary point source AB-Dor and calibrator HD37093"
   ]
  },
  {
   "cell_type": "markdown",
   "metadata": {
    "slideshow": {
     "slide_type": "skip"
    }
   },
   "source": [
    "***"
   ]
  },
  {
   "cell_type": "markdown",
   "metadata": {
    "slideshow": {
     "slide_type": "slide"
    }
   },
   "source": [
    "## Imports\n",
    "Describe the libraries we're using here. If there's something unusual, explain what the library is, and why we need it.\n",
    "- *numpy* to handle array functions\n",
    "- *astropy.io fits* for accessing FITS files\n",
    "- *matplotlib.pyplot* for plotting data\n",
    "- *zipfile* for accessing zip file\n",
    "- *urllib.request* to access URL\n",
    "- *jwst.pipeline Detector1Pipeline, Image2Pipeline* for calibrating raw data"
   ]
  },
  {
   "cell_type": "code",
   "execution_count": 27,
   "metadata": {
    "slideshow": {
     "slide_type": "fragment"
    }
   },
   "outputs": [],
   "source": [
    "%matplotlib inline\n",
    "import os\n",
    "import sys\n",
    "import glob\n",
    "import time\n",
    "\n",
    "import numpy as np\n",
    "from astropy.io import fits\n",
    "import matplotlib.pyplot as plt\n",
    "\n",
    "from jwst.pipeline.collect_pipeline_cfgs import collect_pipeline_cfgs\n",
    "from jwst.pipeline import Detector1Pipeline, Image2Pipeline"
   ]
  },
  {
   "cell_type": "markdown",
   "metadata": {
    "slideshow": {
     "slide_type": "slide"
    }
   },
   "source": [
    "## Introduction\n",
    "This script runs JWST pipeline on AMI data simulated with Mirage.\n",
    "\n",
    "Steps:\n",
    "\n",
    "[1] Run Detector1 pipeline on all _uncal.fits files to create _rate.fits and _rateints.fits files.\n",
    "\n",
    "[2] Run Image2 pipeline on all _rate.fits files to create _cal.fits and on _rateints.fits files to\n",
    "   create _calints.fits files.\n",
    "\n",
    " \n",
    "[3] Run ImPlaneIA to extract observables in oifits format     "
   ]
  },
  {
   "cell_type": "markdown",
   "metadata": {
    "slideshow": {
     "slide_type": "slide"
    }
   },
   "source": [
    "## Loading data\n",
    "Upload simulated data created by 1_niriss_ami_binary.ipynb and required reference files to calibrate data without bad pixels."
   ]
  },
  {
   "cell_type": "code",
   "execution_count": 28,
   "metadata": {
    "slideshow": {
     "slide_type": "fragment"
    }
   },
   "outputs": [],
   "source": [
    "boxlink = 'https://data.science.stsci.edu/redirect/JWST/jwst-data_analysis_tools/niriss_ami_binary/niriss_ami_binary2.zip'\n",
    "boxfile = './niriss_ami_binary2.zip'\n",
    "\n",
    "# Download zip file\n",
    "if not os.path.exists(boxfile):\n",
    "    urllib.request.urlretrieve(boxlink, boxfile)\n",
    "    \n",
    "    zf = zipfile.ZipFile(boxfile, 'r')\n",
    "    zf.extractall()"
   ]
  },
  {
   "cell_type": "code",
   "execution_count": 29,
   "metadata": {},
   "outputs": [
    {
     "name": "stdout",
     "output_type": "stream",
     "text": [
      "/Users/thatte/niriss/dat_pyinthesky/jdat_notebooks/niriss_ami_binary/mirage_sim_data/\n",
      "['/Users/thatte/niriss/dat_pyinthesky/jdat_notebooks/niriss_ami_binary/mirage_sim_data/jw01093001001_01101_00001_nis_uncal.fits', '/Users/thatte/niriss/dat_pyinthesky/jdat_notebooks/niriss_ami_binary/mirage_sim_data/jw01093002001_01101_00001_nis_uncal.fits']\n"
     ]
    }
   ],
   "source": [
    "#Define directory that has existing Mirage simulations\n",
    "currentdir = os.getcwd()\n",
    "mirage_sim_dir = os.path.join(currentdir, 'mirage_sim_data/')\n",
    "print(mirage_sim_dir)\n",
    "datafiles = sorted(glob.glob(mirage_sim_dir + 'jw*uncal.fits'))\n",
    "print(datafiles)"
   ]
  },
  {
   "cell_type": "markdown",
   "metadata": {},
   "source": [
    "## Examine the input raw files"
   ]
  },
  {
   "cell_type": "code",
   "execution_count": 30,
   "metadata": {},
   "outputs": [
    {
     "name": "stderr",
     "output_type": "stream",
     "text": [
      "2020-09-17 15:44:05,241 - stpipe - WARNING - /Users/thatte/anaconda3/envs/mirage_08052020/lib/python3.6/site-packages/ipykernel_launcher.py:3: ResourceWarning: unclosed file <_io.FileIO name='/Users/thatte/niriss/dat_pyinthesky/jdat_notebooks/niriss_ami_binary/mirage_sim_data/jw01093002001_01101_00001_nis_uncal.fits' mode='rb' closefd=True>\n",
      "  This is separate from the ipykernel package so we can avoid doing imports until\n",
      "\n"
     ]
    },
    {
     "name": "stdout",
     "output_type": "stream",
     "text": [
      "Filename: /Users/thatte/niriss/dat_pyinthesky/jdat_notebooks/niriss_ami_binary/mirage_sim_data/jw01093001001_01101_00001_nis_uncal.fits\n",
      "No.    Name      Ver    Type      Cards   Dimensions   Format\n",
      "  0  PRIMARY       1 PrimaryHDU     125   ()      \n",
      "  1  SCI           1 ImageHDU        50   (80, 80, 5, 65)   int16 (rescales to uint16)   \n",
      "  2  ZEROFRAME     1 ImageHDU        12   (80, 80, 65)   int16 (rescales to uint16)   \n",
      "  3  GROUP         1 BinTableHDU     36   325R x 13C   [I, I, I, J, I, 26A, I, I, I, I, 36A, D, D]   \n",
      "  4  INT_TIMES     1 BinTableHDU     24   65R x 7C   [J, D, D, D, D, D, D]   \n",
      "  5  ASDF          1 BinTableHDU     11   1R x 1C   [4455B]   \n"
     ]
    },
    {
     "name": "stderr",
     "output_type": "stream",
     "text": [
      "2020-09-17 15:44:05,267 - stpipe - WARNING - /Users/thatte/anaconda3/envs/mirage_08052020/lib/python3.6/site-packages/ipykernel_launcher.py:3: ResourceWarning: unclosed file <_io.FileIO name='/Users/thatte/niriss/dat_pyinthesky/jdat_notebooks/niriss_ami_binary/mirage_sim_data/jw01093001001_01101_00001_nis_uncal.fits' mode='rb' closefd=True>\n",
      "  This is separate from the ipykernel package so we can avoid doing imports until\n",
      "\n"
     ]
    },
    {
     "name": "stdout",
     "output_type": "stream",
     "text": [
      "(5, 80, 80)\n",
      "Filename: /Users/thatte/niriss/dat_pyinthesky/jdat_notebooks/niriss_ami_binary/mirage_sim_data/jw01093002001_01101_00001_nis_uncal.fits\n",
      "No.    Name      Ver    Type      Cards   Dimensions   Format\n",
      "  0  PRIMARY       1 PrimaryHDU     125   ()      \n",
      "  1  SCI           1 ImageHDU        50   (80, 80, 12, 60)   int16 (rescales to uint16)   \n",
      "  2  ZEROFRAME     1 ImageHDU        12   (80, 80, 60)   int16 (rescales to uint16)   \n",
      "  3  GROUP         1 BinTableHDU     36   720R x 13C   [I, I, I, J, I, 26A, I, I, I, I, 36A, D, D]   \n",
      "  4  INT_TIMES     1 BinTableHDU     24   60R x 7C   [J, D, D, D, D, D, D]   \n",
      "  5  ASDF          1 BinTableHDU     11   1R x 1C   [4476B]   \n",
      "(12, 80, 80)\n",
      "(5, 80, 80) (12, 80, 80)\n"
     ]
    },
    {
     "data": {
      "text/plain": [
       "<matplotlib.image.AxesImage at 0x12d11d630>"
      ]
     },
     "execution_count": 30,
     "metadata": {},
     "output_type": "execute_result"
    },
    {
     "data": {
      "image/png": "[encoded data removed]",
      "text/plain": [
       "<Figure size 864x432 with 2 Axes>"
      ]
     },
     "metadata": {
      "needs_background": "light"
     },
     "output_type": "display_data"
    }
   ],
   "source": [
    "data = []\n",
    "for i, df in enumerate(datafiles):\n",
    "    file = fits.open(df)\n",
    "    file.info()\n",
    "    im = file[1].data    \n",
    "    print(im[0].shape)\n",
    "    data.append(im[0])\n",
    "print(data[0].shape, data[1].shape)\n",
    "f = plt.figure(figsize = (12, 6))\n",
    "plt.subplot(1, 2, 1)\n",
    "plt.title(\"AB-Dor\")\n",
    "plt.imshow(data[0][4], origin='lower')\n",
    "plt.subplot(1, 2, 2)\n",
    "plt.title(\"HD37093\")\n",
    "plt.imshow(data[1][11], origin='lower')"
   ]
  },
  {
   "cell_type": "markdown",
   "metadata": {},
   "source": [
    "## Define output directory and non-default reference files directory"
   ]
  },
  {
   "cell_type": "markdown",
   "metadata": {},
   "source": [
    "Note that we will not use the cfgfiles but update the steps and override reference files using the .run() method."
   ]
  },
  {
   "cell_type": "code",
   "execution_count": 34,
   "metadata": {},
   "outputs": [],
   "source": [
    "#Define output directory to save pipeline output products and default configuration files.\n",
    "odir = './pipeline_calibrated_data/'\n",
    "if not os.path.exists(odir):\n",
    "    os.mkdir(odir)\n",
    "\n",
    "# Define path to non-default referencde file.\n",
    "# We are using these files to calibrate data that is simukated without bad pixels.\n",
    "refdir = './ref_files_non_default/'\n",
    "\n",
    "#os.environ['CRDS_PATH']='$HOME/crds_cache'\n",
    "os.environ['CRDS_SERVER_URL'] = 'https://jwst-crds.stsci.edu'\n",
    "os.environ['CRDS_CONTEXT'] ='jwst_0616.pmap'"
   ]
  },
  {
   "cell_type": "markdown",
   "metadata": {},
   "source": [
    "## Run Detector1 and Image2 pipelines"
   ]
  },
  {
   "cell_type": "code",
   "execution_count": 35,
   "metadata": {},
   "outputs": [
    {
     "name": "stderr",
     "output_type": "stream",
     "text": [
      "2020-09-17 16:07:44,725 - stpipe.Detector1Pipeline - INFO - Detector1Pipeline instance created.\n",
      "2020-09-17 16:07:44,727 - stpipe.Detector1Pipeline.group_scale - INFO - GroupScaleStep instance created.\n",
      "2020-09-17 16:07:44,728 - stpipe.Detector1Pipeline.dq_init - INFO - DQInitStep instance created.\n",
      "2020-09-17 16:07:44,731 - stpipe.Detector1Pipeline.saturation - INFO - SaturationStep instance created.\n",
      "2020-09-17 16:07:44,732 - stpipe.Detector1Pipeline.ipc - INFO - IPCStep instance created.\n",
      "2020-09-17 16:07:44,734 - stpipe.Detector1Pipeline.superbias - INFO - SuperBiasStep instance created.\n",
      "2020-09-17 16:07:44,736 - stpipe.Detector1Pipeline.refpix - INFO - RefPixStep instance created.\n",
      "2020-09-17 16:07:44,738 - stpipe.Detector1Pipeline.rscd - INFO - RSCD_Step instance created.\n",
      "2020-09-17 16:07:44,740 - stpipe.Detector1Pipeline.firstframe - INFO - FirstFrameStep instance created.\n",
      "2020-09-17 16:07:44,741 - stpipe.Detector1Pipeline.lastframe - INFO - LastFrameStep instance created.\n",
      "2020-09-17 16:07:44,743 - stpipe.Detector1Pipeline.linearity - INFO - LinearityStep instance created.\n",
      "2020-09-17 16:07:44,745 - stpipe.Detector1Pipeline.dark_current - INFO - DarkCurrentStep instance created.\n",
      "2020-09-17 16:07:44,748 - stpipe.Detector1Pipeline.persistence - INFO - PersistenceStep instance created.\n",
      "2020-09-17 16:07:44,750 - stpipe.Detector1Pipeline.jump - INFO - JumpStep instance created.\n",
      "2020-09-17 16:07:44,752 - stpipe.Detector1Pipeline.ramp_fit - INFO - RampFitStep instance created.\n",
      "2020-09-17 16:07:44,753 - stpipe.Detector1Pipeline.gain_scale - INFO - GainScaleStep instance created.\n",
      "2020-09-17 16:07:44,828 - stpipe.Detector1Pipeline - INFO - Step Detector1Pipeline running with args ('/Users/thatte/niriss/dat_pyinthesky/jdat_notebooks/niriss_ami_binary/mirage_sim_data/jw01093001001_01101_00001_nis_uncal.fits',).\n",
      "2020-09-17 16:07:44,845 - stpipe.Detector1Pipeline - INFO - Step Detector1Pipeline parameters are: {'pre_hooks': [], 'post_hooks': [], 'output_file': None, 'output_dir': './pipeline_calibrated_data/', 'output_ext': '.fits', 'output_use_model': False, 'output_use_index': True, 'save_results': True, 'skip': False, 'suffix': None, 'search_output_file': True, 'input_dir': '', 'save_calibrated_ramp': False, 'steps': {'group_scale': {'pre_hooks': [], 'post_hooks': [], 'output_file': None, 'output_dir': None, 'output_ext': '.fits', 'output_use_model': False, 'output_use_index': True, 'save_results': False, 'skip': False, 'suffix': None, 'search_output_file': True, 'input_dir': ''}, 'dq_init': {'pre_hooks': [], 'post_hooks': [], 'output_file': None, 'output_dir': None, 'output_ext': '.fits', 'output_use_model': False, 'output_use_index': True, 'save_results': False, 'skip': False, 'suffix': None, 'search_output_file': True, 'input_dir': ''}, 'saturation': {'pre_hooks': [], 'post_hooks': [], 'output_file': None, 'output_dir': None, 'output_ext': '.fits', 'output_use_model': False, 'output_use_index': True, 'save_results': False, 'skip': False, 'suffix': None, 'search_output_file': True, 'input_dir': ''}, 'ipc': {'pre_hooks': [], 'post_hooks': [], 'output_file': None, 'output_dir': None, 'output_ext': '.fits', 'output_use_model': False, 'output_use_index': True, 'save_results': False, 'skip': True, 'suffix': None, 'search_output_file': True, 'input_dir': ''}, 'superbias': {'pre_hooks': [], 'post_hooks': [], 'output_file': None, 'output_dir': None, 'output_ext': '.fits', 'output_use_model': False, 'output_use_index': True, 'save_results': False, 'skip': False, 'suffix': None, 'search_output_file': True, 'input_dir': ''}, 'refpix': {'pre_hooks': [], 'post_hooks': [], 'output_file': None, 'output_dir': None, 'output_ext': '.fits', 'output_use_model': False, 'output_use_index': True, 'save_results': False, 'skip': False, 'suffix': None, 'search_output_file': True, 'input_dir': '', 'odd_even_columns': True, 'use_side_ref_pixels': True, 'side_smoothing_length': 11, 'side_gain': 1.0, 'odd_even_rows': True}, 'rscd': {'pre_hooks': [], 'post_hooks': [], 'output_file': None, 'output_dir': None, 'output_ext': '.fits', 'output_use_model': False, 'output_use_index': True, 'save_results': False, 'skip': False, 'suffix': None, 'search_output_file': True, 'input_dir': '', 'type': 'baseline'}, 'firstframe': {'pre_hooks': [], 'post_hooks': [], 'output_file': None, 'output_dir': None, 'output_ext': '.fits', 'output_use_model': False, 'output_use_index': True, 'save_results': False, 'skip': False, 'suffix': None, 'search_output_file': True, 'input_dir': ''}, 'lastframe': {'pre_hooks': [], 'post_hooks': [], 'output_file': None, 'output_dir': None, 'output_ext': '.fits', 'output_use_model': False, 'output_use_index': True, 'save_results': False, 'skip': False, 'suffix': None, 'search_output_file': True, 'input_dir': ''}, 'linearity': {'pre_hooks': [], 'post_hooks': [], 'output_file': None, 'output_dir': None, 'output_ext': '.fits', 'output_use_model': False, 'output_use_index': True, 'save_results': False, 'skip': False, 'suffix': None, 'search_output_file': True, 'input_dir': ''}, 'dark_current': {'pre_hooks': [], 'post_hooks': [], 'output_file': None, 'output_dir': None, 'output_ext': '.fits', 'output_use_model': False, 'output_use_index': True, 'save_results': False, 'skip': False, 'suffix': None, 'search_output_file': True, 'input_dir': '', 'dark_output': None}, 'persistence': {'pre_hooks': [], 'post_hooks': [], 'output_file': None, 'output_dir': None, 'output_ext': '.fits', 'output_use_model': False, 'output_use_index': True, 'save_results': False, 'skip': False, 'suffix': None, 'search_output_file': True, 'input_dir': '', 'input_trapsfilled': '', 'flag_pers_cutoff': 40.0, 'save_persistence': False, 'save_trapsfilled': True}, 'jump': {'pre_hooks': [], 'post_hooks': [], 'output_file': None, 'output_dir': None, 'output_ext': '.fits', 'output_use_model': False, 'output_use_index': True, 'save_results': False, 'skip': False, 'suffix': None, 'search_output_file': True, 'input_dir': '', 'rejection_threshold': 4.0, 'maximum_cores': None, 'flag_4_neighbors': True, 'max_jump_to_flag_neighbors': 200.0, 'min_jump_to_flag_neighbors': 10.0}, 'ramp_fit': {'pre_hooks': [], 'post_hooks': [], 'output_file': None, 'output_dir': None, 'output_ext': '.fits', 'output_use_model': False, 'output_use_index': True, 'save_results': False, 'skip': False, 'suffix': None, 'search_output_file': True, 'input_dir': '', 'int_name': '', 'save_opt': False, 'opt_name': ''}, 'gain_scale': {'pre_hooks': [], 'post_hooks': [], 'output_file': None, 'output_dir': None, 'output_ext': '.fits', 'output_use_model': False, 'output_use_index': True, 'save_results': False, 'skip': False, 'suffix': None, 'search_output_file': True, 'input_dir': ''}}}\n"
     ]
    },
    {
     "name": "stdout",
     "output_type": "stream",
     "text": [
      "['/Users/thatte/niriss/dat_pyinthesky/jdat_notebooks/niriss_ami_binary/mirage_sim_data/jw01093001001_01101_00001_nis_uncal.fits', '/Users/thatte/niriss/dat_pyinthesky/jdat_notebooks/niriss_ami_binary/mirage_sim_data/jw01093002001_01101_00001_nis_uncal.fits']\n"
     ]
    },
    {
     "name": "stderr",
     "output_type": "stream",
     "text": [
      "2020-09-17 16:07:44,975 - stpipe.Detector1Pipeline - INFO - Prefetching reference files for dataset: 'jw01093001001_01101_00001_nis_uncal.fits' reftypes = ['gain', 'linearity', 'mask', 'persat', 'readnoise', 'refpix', 'rscd', 'saturation', 'trapdensity', 'trappars']\n",
      "2020-09-17 16:07:45,340 - stpipe.Detector1Pipeline - INFO - Override for DARK reference file is '/Users/thatte/niriss/dat_pyinthesky/jdat_notebooks/niriss_ami_binary/ref_files_non_default/jwst_niriss_dark_sub80_sim.fits'.\n",
      "2020-09-17 16:07:45,342 - stpipe.Detector1Pipeline - INFO - Prefetch for GAIN reference file is '/grp/crds/cache/references/jwst/jwst_niriss_gain_0005.fits'.\n",
      "2020-09-17 16:07:45,389 - stpipe.Detector1Pipeline - INFO - Prefetch for LINEARITY reference file is '/grp/crds/cache/references/jwst/jwst_niriss_linearity_0011.fits'.\n",
      "2020-09-17 16:07:45,431 - stpipe.Detector1Pipeline - INFO - Prefetch for MASK reference file is '/grp/crds/cache/references/jwst/jwst_niriss_mask_0013.fits'.\n",
      "2020-09-17 16:07:45,478 - stpipe.Detector1Pipeline - INFO - Prefetch for PERSAT reference file is '/grp/crds/cache/references/jwst/jwst_niriss_persat_0003.fits'.\n",
      "2020-09-17 16:07:45,527 - stpipe.Detector1Pipeline - INFO - Prefetch for READNOISE reference file is '/grp/crds/cache/references/jwst/jwst_niriss_readnoise_0004.fits'.\n",
      "2020-09-17 16:07:45,576 - stpipe.Detector1Pipeline - INFO - Prefetch for REFPIX reference file is 'N/A'.\n",
      "2020-09-17 16:07:45,578 - stpipe.Detector1Pipeline - INFO - Prefetch for RSCD reference file is 'N/A'.\n",
      "2020-09-17 16:07:45,579 - stpipe.Detector1Pipeline - INFO - Prefetch for SATURATION reference file is '/grp/crds/cache/references/jwst/jwst_niriss_saturation_0010.fits'.\n",
      "2020-09-17 16:07:45,625 - stpipe.Detector1Pipeline - INFO - Override for SUPERBIAS reference file is '/Users/thatte/niriss/dat_pyinthesky/jdat_notebooks/niriss_ami_binary/ref_files_non_default/jwst_niriss_superbias_sim.fits'.\n",
      "2020-09-17 16:07:45,626 - stpipe.Detector1Pipeline - INFO - Prefetch for TRAPDENSITY reference file is '/grp/crds/cache/references/jwst/jwst_niriss_trapdensity_0002.fits'.\n",
      "2020-09-17 16:07:45,665 - stpipe.Detector1Pipeline - INFO - Prefetch for TRAPPARS reference file is '/grp/crds/cache/references/jwst/jwst_niriss_trappars_0002.fits'.\n",
      "2020-09-17 16:07:45,706 - stpipe.Detector1Pipeline - INFO - Starting calwebb_detector1 ...\n",
      "2020-09-17 16:07:45,905 - stpipe.Detector1Pipeline.group_scale - INFO - Step group_scale running with args (<RampModel(65, 5, 80, 80) from jw01093001001_01101_00001_nis_uncal.fits>,).\n",
      "2020-09-17 16:07:45,908 - stpipe.Detector1Pipeline.group_scale - INFO - Step group_scale parameters are: {'pre_hooks': [], 'post_hooks': [], 'output_file': None, 'output_dir': None, 'output_ext': '.fits', 'output_use_model': False, 'output_use_index': True, 'save_results': False, 'skip': False, 'suffix': None, 'search_output_file': True, 'input_dir': '/Users/thatte/niriss/dat_pyinthesky/jdat_notebooks/niriss_ami_binary/mirage_sim_data'}\n",
      "2020-09-17 16:07:45,924 - stpipe.Detector1Pipeline.group_scale - INFO - NFRAMES=1 is a power of 2; correction not needed\n",
      "2020-09-17 16:07:45,925 - stpipe.Detector1Pipeline.group_scale - INFO - Step will be skipped\n",
      "2020-09-17 16:07:45,926 - stpipe.Detector1Pipeline.group_scale - INFO - Step group_scale done\n",
      "2020-09-17 16:07:46,067 - stpipe.Detector1Pipeline.dq_init - INFO - Step dq_init running with args (<RampModel(65, 5, 80, 80) from jw01093001001_01101_00001_nis_uncal.fits>,).\n",
      "2020-09-17 16:07:46,071 - stpipe.Detector1Pipeline.dq_init - INFO - Step dq_init parameters are: {'pre_hooks': [], 'post_hooks': [], 'output_file': None, 'output_dir': None, 'output_ext': '.fits', 'output_use_model': False, 'output_use_index': True, 'save_results': False, 'skip': False, 'suffix': None, 'search_output_file': True, 'input_dir': '/Users/thatte/niriss/dat_pyinthesky/jdat_notebooks/niriss_ami_binary/mirage_sim_data'}\n",
      "2020-09-17 16:07:46,118 - stpipe.Detector1Pipeline.dq_init - INFO - Using MASK reference file /grp/crds/cache/references/jwst/jwst_niriss_mask_0013.fits\n",
      "2020-09-17 16:07:46,422 - stpipe.Detector1Pipeline.dq_init - WARNING - Keyword CDP_WARM does not correspond to an existing DQ mnemonic, so will be ignored\n",
      "2020-09-17 16:07:46,424 - stpipe.Detector1Pipeline.dq_init - WARNING - Keyword CDP_NOISY does not correspond to an existing DQ mnemonic, so will be ignored\n",
      "2020-09-17 16:07:46,483 - stpipe.Detector1Pipeline.dq_init - INFO - Extracting mask subarray to match science data\n",
      "2020-09-17 16:07:46,490 - stpipe.Detector1Pipeline.dq_init - INFO - Step dq_init done\n",
      "2020-09-17 16:07:46,632 - stpipe.Detector1Pipeline.saturation - INFO - Step saturation running with args (<RampModel(65, 5, 80, 80) from jw01093001001_01101_00001_nis_uncal.fits>,).\n",
      "2020-09-17 16:07:46,634 - stpipe.Detector1Pipeline.saturation - INFO - Step saturation parameters are: {'pre_hooks': [], 'post_hooks': [], 'output_file': None, 'output_dir': None, 'output_ext': '.fits', 'output_use_model': False, 'output_use_index': True, 'save_results': False, 'skip': False, 'suffix': None, 'search_output_file': True, 'input_dir': '/Users/thatte/niriss/dat_pyinthesky/jdat_notebooks/niriss_ami_binary/mirage_sim_data'}\n",
      "2020-09-17 16:07:46,680 - stpipe.Detector1Pipeline.saturation - INFO - Using SATURATION reference file /grp/crds/cache/references/jwst/jwst_niriss_saturation_0010.fits\n",
      "2020-09-17 16:07:46,889 - stpipe.Detector1Pipeline.saturation - INFO - Extracting reference file subarray to match science data\n",
      "2020-09-17 16:07:46,907 - stpipe.Detector1Pipeline.saturation - INFO - Step saturation done\n",
      "2020-09-17 16:07:47,058 - stpipe.Detector1Pipeline.ipc - INFO - Step ipc running with args (<RampModel(65, 5, 80, 80) from jw01093001001_01101_00001_nis_uncal.fits>,).\n",
      "2020-09-17 16:07:47,061 - stpipe.Detector1Pipeline.ipc - INFO - Step ipc parameters are: {'pre_hooks': [], 'post_hooks': [], 'output_file': None, 'output_dir': None, 'output_ext': '.fits', 'output_use_model': False, 'output_use_index': True, 'save_results': False, 'skip': True, 'suffix': None, 'search_output_file': True, 'input_dir': '/Users/thatte/niriss/dat_pyinthesky/jdat_notebooks/niriss_ami_binary/mirage_sim_data'}\n",
      "2020-09-17 16:07:47,062 - stpipe.Detector1Pipeline.ipc - INFO - Step skipped.\n",
      "2020-09-17 16:07:47,064 - stpipe.Detector1Pipeline.ipc - INFO - Step ipc done\n",
      "2020-09-17 16:07:47,202 - stpipe.Detector1Pipeline.superbias - INFO - Step superbias running with args (<RampModel(65, 5, 80, 80) from jw01093001001_01101_00001_nis_uncal.fits>,).\n",
      "2020-09-17 16:07:47,205 - stpipe.Detector1Pipeline.superbias - INFO - Step superbias parameters are: {'pre_hooks': [], 'post_hooks': [], 'output_file': None, 'output_dir': None, 'output_ext': '.fits', 'output_use_model': False, 'output_use_index': True, 'save_results': False, 'skip': False, 'suffix': None, 'search_output_file': True, 'input_dir': '/Users/thatte/niriss/dat_pyinthesky/jdat_notebooks/niriss_ami_binary/mirage_sim_data'}\n",
      "2020-09-17 16:07:47,223 - stpipe.Detector1Pipeline.superbias - INFO - Using SUPERBIAS reference file /Users/thatte/niriss/dat_pyinthesky/jdat_notebooks/niriss_ami_binary/ref_files_non_default/jwst_niriss_superbias_sim.fits\n",
      "2020-09-17 16:07:47,373 - stpipe.Detector1Pipeline.superbias - INFO - Step superbias done\n",
      "2020-09-17 16:07:47,512 - stpipe.Detector1Pipeline.refpix - INFO - Step refpix running with args (<RampModel(65, 5, 80, 80) from jw01093001001_01101_00001_nis_uncal.fits>,).\n",
      "2020-09-17 16:07:47,515 - stpipe.Detector1Pipeline.refpix - INFO - Step refpix parameters are: {'pre_hooks': [], 'post_hooks': [], 'output_file': None, 'output_dir': None, 'output_ext': '.fits', 'output_use_model': False, 'output_use_index': True, 'save_results': False, 'skip': False, 'suffix': None, 'search_output_file': True, 'input_dir': '/Users/thatte/niriss/dat_pyinthesky/jdat_notebooks/niriss_ami_binary/mirage_sim_data', 'odd_even_columns': True, 'use_side_ref_pixels': True, 'side_smoothing_length': 11, 'side_gain': 1.0, 'odd_even_rows': True}\n",
      "2020-09-17 16:07:47,531 - stpipe.Detector1Pipeline.refpix - INFO - use_side_ref_pixels = True\n",
      "2020-09-17 16:07:47,532 - stpipe.Detector1Pipeline.refpix - INFO - odd_even_columns = True\n",
      "2020-09-17 16:07:47,533 - stpipe.Detector1Pipeline.refpix - INFO - side_smoothing_length = 11\n"
     ]
    },
    {
     "name": "stderr",
     "output_type": "stream",
     "text": [
      "2020-09-17 16:07:47,534 - stpipe.Detector1Pipeline.refpix - INFO - side_gain = 1.000000\n",
      "2020-09-17 16:07:47,534 - stpipe.Detector1Pipeline.refpix - INFO - odd_even_rows = True\n",
      "2020-09-17 16:07:48,840 - stpipe.Detector1Pipeline.refpix - INFO - Step refpix done\n",
      "2020-09-17 16:07:48,976 - stpipe.Detector1Pipeline.linearity - INFO - Step linearity running with args (<RampModel(65, 5, 80, 80) from jw01093001001_01101_00001_nis_uncal.fits>,).\n",
      "2020-09-17 16:07:48,980 - stpipe.Detector1Pipeline.linearity - INFO - Step linearity parameters are: {'pre_hooks': [], 'post_hooks': [], 'output_file': None, 'output_dir': None, 'output_ext': '.fits', 'output_use_model': False, 'output_use_index': True, 'save_results': False, 'skip': False, 'suffix': None, 'search_output_file': True, 'input_dir': '/Users/thatte/niriss/dat_pyinthesky/jdat_notebooks/niriss_ami_binary/mirage_sim_data'}\n",
      "2020-09-17 16:07:49,022 - stpipe.Detector1Pipeline.linearity - INFO - Using Linearity reference file /grp/crds/cache/references/jwst/jwst_niriss_linearity_0011.fits\n",
      "2020-09-17 16:07:53,017 - stpipe.Detector1Pipeline.linearity - WARNING - Keyword CDP_AVERAGED_COEFFICIENTS does not correspond to an existing DQ mnemonic, so will be ignored\n",
      "2020-09-17 16:07:53,052 - stpipe.Detector1Pipeline.linearity - INFO - Extracting linearity subarray to match science data\n",
      "2020-09-17 16:07:53,104 - stpipe.Detector1Pipeline.linearity - INFO - Step linearity done\n",
      "2020-09-17 16:07:53,248 - stpipe.Detector1Pipeline.persistence - INFO - Step persistence running with args (<RampModel(65, 5, 80, 80) from jw01093001001_01101_00001_nis_uncal.fits>,).\n",
      "2020-09-17 16:07:53,252 - stpipe.Detector1Pipeline.persistence - INFO - Step persistence parameters are: {'pre_hooks': [], 'post_hooks': [], 'output_file': None, 'output_dir': None, 'output_ext': '.fits', 'output_use_model': False, 'output_use_index': True, 'save_results': False, 'skip': False, 'suffix': None, 'search_output_file': True, 'input_dir': '/Users/thatte/niriss/dat_pyinthesky/jdat_notebooks/niriss_ami_binary/mirage_sim_data', 'input_trapsfilled': '', 'flag_pers_cutoff': 40.0, 'save_persistence': False, 'save_trapsfilled': True}\n",
      "2020-09-17 16:08:08,709 - stpipe.Detector1Pipeline.persistence - INFO - Saved model in ./pipeline_calibrated_data/jw01093001001_01101_00001_nis_trapsfilled.fits\n",
      "2020-09-17 16:08:08,711 - stpipe.Detector1Pipeline.persistence - INFO - Step persistence done\n",
      "2020-09-17 16:08:08,894 - stpipe.Detector1Pipeline.dark_current - INFO - Step dark_current running with args (<RampModel(65, 5, 80, 80) from jw01093001001_01101_00001_nis_uncal.fits>,).\n",
      "2020-09-17 16:08:08,896 - stpipe.Detector1Pipeline.dark_current - INFO - Step dark_current parameters are: {'pre_hooks': [], 'post_hooks': [], 'output_file': None, 'output_dir': './pipeline_calibrated_data/', 'output_ext': '.fits', 'output_use_model': False, 'output_use_index': True, 'save_results': False, 'skip': False, 'suffix': None, 'search_output_file': True, 'input_dir': '/Users/thatte/niriss/dat_pyinthesky/jdat_notebooks/niriss_ami_binary/mirage_sim_data', 'dark_output': None}\n",
      "2020-09-17 16:08:08,912 - stpipe.Detector1Pipeline.dark_current - INFO - Using DARK reference file /Users/thatte/niriss/dat_pyinthesky/jdat_notebooks/niriss_ami_binary/ref_files_non_default/jwst_niriss_dark_sub80_sim.fits\n",
      "2020-09-17 16:08:08,984 - stpipe.Detector1Pipeline.dark_current - INFO - Science data nints=65, ngroups=5, nframes=1, groupgap=0\n",
      "2020-09-17 16:08:08,985 - stpipe.Detector1Pipeline.dark_current - INFO - Dark data nints=1, ngroups=800, nframes=1, groupgap=0\n",
      "2020-09-17 16:08:09,027 - stpipe.Detector1Pipeline.dark_current - INFO - Step dark_current done\n",
      "2020-09-17 16:08:09,175 - stpipe.Detector1Pipeline.jump - INFO - Step jump running with args (<RampModel(65, 5, 80, 80) from jw01093001001_01101_00001_nis_uncal.fits>,).\n",
      "2020-09-17 16:08:09,178 - stpipe.Detector1Pipeline.jump - INFO - Step jump parameters are: {'pre_hooks': [], 'post_hooks': [], 'output_file': None, 'output_dir': None, 'output_ext': '.fits', 'output_use_model': False, 'output_use_index': True, 'save_results': False, 'skip': False, 'suffix': None, 'search_output_file': True, 'input_dir': '/Users/thatte/niriss/dat_pyinthesky/jdat_notebooks/niriss_ami_binary/mirage_sim_data', 'rejection_threshold': 4.0, 'maximum_cores': None, 'flag_4_neighbors': True, 'max_jump_to_flag_neighbors': 200.0, 'min_jump_to_flag_neighbors': 10.0}\n",
      "2020-09-17 16:08:09,194 - stpipe.Detector1Pipeline.jump - INFO - CR rejection threshold = 4 sigma\n",
      "2020-09-17 16:08:09,218 - stpipe.Detector1Pipeline.jump - INFO - Using GAIN reference file: /grp/crds/cache/references/jwst/jwst_niriss_gain_0005.fits\n",
      "2020-09-17 16:08:09,325 - stpipe.Detector1Pipeline.jump - INFO - Using READNOISE reference file: /grp/crds/cache/references/jwst/jwst_niriss_readnoise_0004.fits\n",
      "2020-09-17 16:08:09,409 - stpipe.Detector1Pipeline.jump - INFO - Extracting gain subarray to match science data\n",
      "2020-09-17 16:08:09,411 - stpipe.Detector1Pipeline.jump - INFO - Extracting readnoise subarray to match science data\n",
      "2020-09-17 16:08:09,415 - stpipe.Detector1Pipeline.jump - INFO - Executing two-point difference method\n",
      "2020-09-17 16:08:09,442 - stpipe.Detector1Pipeline.jump - INFO -  working on integration 1\n",
      "2020-09-17 16:08:09,444 - stpipe.Detector1Pipeline.jump - INFO - From highest outlier Two point found 411 pixels with at least one CR\n",
      "2020-09-17 16:08:09,460 - stpipe.Detector1Pipeline.jump - INFO -  working on integration 2\n",
      "2020-09-17 16:08:09,463 - stpipe.Detector1Pipeline.jump - INFO - From highest outlier Two point found 400 pixels with at least one CR\n",
      "2020-09-17 16:08:09,486 - stpipe.Detector1Pipeline.jump - INFO -  working on integration 3\n",
      "2020-09-17 16:08:09,489 - stpipe.Detector1Pipeline.jump - INFO - From highest outlier Two point found 413 pixels with at least one CR\n",
      "2020-09-17 16:08:09,512 - stpipe.Detector1Pipeline.jump - INFO -  working on integration 4\n",
      "2020-09-17 16:08:09,515 - stpipe.Detector1Pipeline.jump - INFO - From highest outlier Two point found 416 pixels with at least one CR\n",
      "2020-09-17 16:08:09,532 - stpipe.Detector1Pipeline.jump - INFO -  working on integration 5\n",
      "2020-09-17 16:08:09,534 - stpipe.Detector1Pipeline.jump - INFO - From highest outlier Two point found 415 pixels with at least one CR\n",
      "2020-09-17 16:08:09,550 - stpipe.Detector1Pipeline.jump - INFO -  working on integration 6\n",
      "2020-09-17 16:08:09,553 - stpipe.Detector1Pipeline.jump - INFO - From highest outlier Two point found 414 pixels with at least one CR\n",
      "2020-09-17 16:08:09,568 - stpipe.Detector1Pipeline.jump - INFO -  working on integration 7\n",
      "2020-09-17 16:08:09,571 - stpipe.Detector1Pipeline.jump - INFO - From highest outlier Two point found 401 pixels with at least one CR\n",
      "2020-09-17 16:08:09,586 - stpipe.Detector1Pipeline.jump - INFO -  working on integration 8\n",
      "2020-09-17 16:08:09,589 - stpipe.Detector1Pipeline.jump - INFO - From highest outlier Two point found 388 pixels with at least one CR\n",
      "2020-09-17 16:08:09,604 - stpipe.Detector1Pipeline.jump - INFO -  working on integration 9\n",
      "2020-09-17 16:08:09,607 - stpipe.Detector1Pipeline.jump - INFO - From highest outlier Two point found 396 pixels with at least one CR\n",
      "2020-09-17 16:08:09,623 - stpipe.Detector1Pipeline.jump - INFO -  working on integration 10\n",
      "2020-09-17 16:08:09,626 - stpipe.Detector1Pipeline.jump - INFO - From highest outlier Two point found 411 pixels with at least one CR\n",
      "2020-09-17 16:08:09,646 - stpipe.Detector1Pipeline.jump - INFO -  working on integration 11\n",
      "2020-09-17 16:08:09,648 - stpipe.Detector1Pipeline.jump - INFO - From highest outlier Two point found 405 pixels with at least one CR\n",
      "2020-09-17 16:08:09,668 - stpipe.Detector1Pipeline.jump - INFO -  working on integration 12\n",
      "2020-09-17 16:08:09,670 - stpipe.Detector1Pipeline.jump - INFO - From highest outlier Two point found 385 pixels with at least one CR\n",
      "2020-09-17 16:08:09,687 - stpipe.Detector1Pipeline.jump - INFO -  working on integration 13\n",
      "2020-09-17 16:08:09,690 - stpipe.Detector1Pipeline.jump - INFO - From highest outlier Two point found 394 pixels with at least one CR\n",
      "2020-09-17 16:08:09,711 - stpipe.Detector1Pipeline.jump - INFO -  working on integration 14\n",
      "2020-09-17 16:08:09,714 - stpipe.Detector1Pipeline.jump - INFO - From highest outlier Two point found 410 pixels with at least one CR\n"
     ]
    },
    {
     "name": "stderr",
     "output_type": "stream",
     "text": [
      "2020-09-17 16:08:09,738 - stpipe.Detector1Pipeline.jump - INFO -  working on integration 15\n",
      "2020-09-17 16:08:09,741 - stpipe.Detector1Pipeline.jump - INFO - From highest outlier Two point found 420 pixels with at least one CR\n",
      "2020-09-17 16:08:09,758 - stpipe.Detector1Pipeline.jump - INFO -  working on integration 16\n",
      "2020-09-17 16:08:09,760 - stpipe.Detector1Pipeline.jump - INFO - From highest outlier Two point found 410 pixels with at least one CR\n",
      "2020-09-17 16:08:09,784 - stpipe.Detector1Pipeline.jump - INFO -  working on integration 17\n",
      "2020-09-17 16:08:09,787 - stpipe.Detector1Pipeline.jump - INFO - From highest outlier Two point found 404 pixels with at least one CR\n",
      "2020-09-17 16:08:09,810 - stpipe.Detector1Pipeline.jump - INFO -  working on integration 18\n",
      "2020-09-17 16:08:09,813 - stpipe.Detector1Pipeline.jump - INFO - From highest outlier Two point found 402 pixels with at least one CR\n",
      "2020-09-17 16:08:09,836 - stpipe.Detector1Pipeline.jump - INFO -  working on integration 19\n",
      "2020-09-17 16:08:09,839 - stpipe.Detector1Pipeline.jump - INFO - From highest outlier Two point found 392 pixels with at least one CR\n",
      "2020-09-17 16:08:09,856 - stpipe.Detector1Pipeline.jump - INFO -  working on integration 20\n",
      "2020-09-17 16:08:09,858 - stpipe.Detector1Pipeline.jump - INFO - From highest outlier Two point found 401 pixels with at least one CR\n",
      "2020-09-17 16:08:09,874 - stpipe.Detector1Pipeline.jump - INFO -  working on integration 21\n",
      "2020-09-17 16:08:09,877 - stpipe.Detector1Pipeline.jump - INFO - From highest outlier Two point found 398 pixels with at least one CR\n",
      "2020-09-17 16:08:09,896 - stpipe.Detector1Pipeline.jump - INFO -  working on integration 22\n",
      "2020-09-17 16:08:09,899 - stpipe.Detector1Pipeline.jump - INFO - From highest outlier Two point found 401 pixels with at least one CR\n",
      "2020-09-17 16:08:09,916 - stpipe.Detector1Pipeline.jump - INFO -  working on integration 23\n",
      "2020-09-17 16:08:09,919 - stpipe.Detector1Pipeline.jump - INFO - From highest outlier Two point found 402 pixels with at least one CR\n",
      "2020-09-17 16:08:09,933 - stpipe.Detector1Pipeline.jump - INFO -  working on integration 24\n",
      "2020-09-17 16:08:09,936 - stpipe.Detector1Pipeline.jump - INFO - From highest outlier Two point found 399 pixels with at least one CR\n",
      "2020-09-17 16:08:09,952 - stpipe.Detector1Pipeline.jump - INFO -  working on integration 25\n",
      "2020-09-17 16:08:09,955 - stpipe.Detector1Pipeline.jump - INFO - From highest outlier Two point found 429 pixels with at least one CR\n",
      "2020-09-17 16:08:09,977 - stpipe.Detector1Pipeline.jump - INFO -  working on integration 26\n",
      "2020-09-17 16:08:09,980 - stpipe.Detector1Pipeline.jump - INFO - From highest outlier Two point found 406 pixels with at least one CR\n",
      "2020-09-17 16:08:09,998 - stpipe.Detector1Pipeline.jump - INFO -  working on integration 27\n",
      "2020-09-17 16:08:10,001 - stpipe.Detector1Pipeline.jump - INFO - From highest outlier Two point found 402 pixels with at least one CR\n",
      "2020-09-17 16:08:10,022 - stpipe.Detector1Pipeline.jump - INFO -  working on integration 28\n",
      "2020-09-17 16:08:10,025 - stpipe.Detector1Pipeline.jump - INFO - From highest outlier Two point found 392 pixels with at least one CR\n",
      "2020-09-17 16:08:10,040 - stpipe.Detector1Pipeline.jump - INFO -  working on integration 29\n",
      "2020-09-17 16:08:10,042 - stpipe.Detector1Pipeline.jump - INFO - From highest outlier Two point found 404 pixels with at least one CR\n",
      "2020-09-17 16:08:10,065 - stpipe.Detector1Pipeline.jump - INFO -  working on integration 30\n",
      "2020-09-17 16:08:10,068 - stpipe.Detector1Pipeline.jump - INFO - From highest outlier Two point found 411 pixels with at least one CR\n",
      "2020-09-17 16:08:10,089 - stpipe.Detector1Pipeline.jump - INFO -  working on integration 31\n",
      "2020-09-17 16:08:10,091 - stpipe.Detector1Pipeline.jump - INFO - From highest outlier Two point found 403 pixels with at least one CR\n",
      "2020-09-17 16:08:10,108 - stpipe.Detector1Pipeline.jump - INFO -  working on integration 32\n",
      "2020-09-17 16:08:10,111 - stpipe.Detector1Pipeline.jump - INFO - From highest outlier Two point found 398 pixels with at least one CR\n",
      "2020-09-17 16:08:10,125 - stpipe.Detector1Pipeline.jump - INFO -  working on integration 33\n",
      "2020-09-17 16:08:10,128 - stpipe.Detector1Pipeline.jump - INFO - From highest outlier Two point found 412 pixels with at least one CR\n",
      "2020-09-17 16:08:10,144 - stpipe.Detector1Pipeline.jump - INFO -  working on integration 34\n",
      "2020-09-17 16:08:10,146 - stpipe.Detector1Pipeline.jump - INFO - From highest outlier Two point found 413 pixels with at least one CR\n",
      "2020-09-17 16:08:10,169 - stpipe.Detector1Pipeline.jump - INFO -  working on integration 35\n",
      "2020-09-17 16:08:10,171 - stpipe.Detector1Pipeline.jump - INFO - From highest outlier Two point found 391 pixels with at least one CR\n",
      "2020-09-17 16:08:10,194 - stpipe.Detector1Pipeline.jump - INFO -  working on integration 36\n",
      "2020-09-17 16:08:10,196 - stpipe.Detector1Pipeline.jump - INFO - From highest outlier Two point found 401 pixels with at least one CR\n",
      "2020-09-17 16:08:10,217 - stpipe.Detector1Pipeline.jump - INFO -  working on integration 37\n",
      "2020-09-17 16:08:10,219 - stpipe.Detector1Pipeline.jump - INFO - From highest outlier Two point found 402 pixels with at least one CR\n",
      "2020-09-17 16:08:10,235 - stpipe.Detector1Pipeline.jump - INFO -  working on integration 38\n",
      "2020-09-17 16:08:10,237 - stpipe.Detector1Pipeline.jump - INFO - From highest outlier Two point found 411 pixels with at least one CR\n",
      "2020-09-17 16:08:10,253 - stpipe.Detector1Pipeline.jump - INFO -  working on integration 39\n",
      "2020-09-17 16:08:10,255 - stpipe.Detector1Pipeline.jump - INFO - From highest outlier Two point found 395 pixels with at least one CR\n",
      "2020-09-17 16:08:10,273 - stpipe.Detector1Pipeline.jump - INFO -  working on integration 40\n",
      "2020-09-17 16:08:10,276 - stpipe.Detector1Pipeline.jump - INFO - From highest outlier Two point found 412 pixels with at least one CR\n",
      "2020-09-17 16:08:10,293 - stpipe.Detector1Pipeline.jump - INFO -  working on integration 41\n",
      "2020-09-17 16:08:10,295 - stpipe.Detector1Pipeline.jump - INFO - From highest outlier Two point found 396 pixels with at least one CR\n",
      "2020-09-17 16:08:10,318 - stpipe.Detector1Pipeline.jump - INFO -  working on integration 42\n",
      "2020-09-17 16:08:10,321 - stpipe.Detector1Pipeline.jump - INFO - From highest outlier Two point found 397 pixels with at least one CR\n",
      "2020-09-17 16:08:10,344 - stpipe.Detector1Pipeline.jump - INFO -  working on integration 43\n",
      "2020-09-17 16:08:10,347 - stpipe.Detector1Pipeline.jump - INFO - From highest outlier Two point found 408 pixels with at least one CR\n",
      "2020-09-17 16:08:10,370 - stpipe.Detector1Pipeline.jump - INFO -  working on integration 44\n",
      "2020-09-17 16:08:10,373 - stpipe.Detector1Pipeline.jump - INFO - From highest outlier Two point found 410 pixels with at least one CR\n",
      "2020-09-17 16:08:10,396 - stpipe.Detector1Pipeline.jump - INFO -  working on integration 45\n",
      "2020-09-17 16:08:10,398 - stpipe.Detector1Pipeline.jump - INFO - From highest outlier Two point found 415 pixels with at least one CR\n",
      "2020-09-17 16:08:10,414 - stpipe.Detector1Pipeline.jump - INFO -  working on integration 46\n",
      "2020-09-17 16:08:10,416 - stpipe.Detector1Pipeline.jump - INFO - From highest outlier Two point found 403 pixels with at least one CR\n",
      "2020-09-17 16:08:10,431 - stpipe.Detector1Pipeline.jump - INFO -  working on integration 47\n",
      "2020-09-17 16:08:10,434 - stpipe.Detector1Pipeline.jump - INFO - From highest outlier Two point found 409 pixels with at least one CR\n",
      "2020-09-17 16:08:10,450 - stpipe.Detector1Pipeline.jump - INFO -  working on integration 48\n",
      "2020-09-17 16:08:10,452 - stpipe.Detector1Pipeline.jump - INFO - From highest outlier Two point found 389 pixels with at least one CR\n",
      "2020-09-17 16:08:10,470 - stpipe.Detector1Pipeline.jump - INFO -  working on integration 49\n",
      "2020-09-17 16:08:10,472 - stpipe.Detector1Pipeline.jump - INFO - From highest outlier Two point found 400 pixels with at least one CR\n",
      "2020-09-17 16:08:10,492 - stpipe.Detector1Pipeline.jump - INFO -  working on integration 50\n",
      "2020-09-17 16:08:10,495 - stpipe.Detector1Pipeline.jump - INFO - From highest outlier Two point found 398 pixels with at least one CR\n",
      "2020-09-17 16:08:10,512 - stpipe.Detector1Pipeline.jump - INFO -  working on integration 51\n"
     ]
    },
    {
     "name": "stderr",
     "output_type": "stream",
     "text": [
      "2020-09-17 16:08:10,514 - stpipe.Detector1Pipeline.jump - INFO - From highest outlier Two point found 400 pixels with at least one CR\n",
      "2020-09-17 16:08:10,532 - stpipe.Detector1Pipeline.jump - INFO -  working on integration 52\n",
      "2020-09-17 16:08:10,534 - stpipe.Detector1Pipeline.jump - INFO - From highest outlier Two point found 404 pixels with at least one CR\n",
      "2020-09-17 16:08:10,549 - stpipe.Detector1Pipeline.jump - INFO -  working on integration 53\n",
      "2020-09-17 16:08:10,552 - stpipe.Detector1Pipeline.jump - INFO - From highest outlier Two point found 413 pixels with at least one CR\n",
      "2020-09-17 16:08:10,574 - stpipe.Detector1Pipeline.jump - INFO -  working on integration 54\n",
      "2020-09-17 16:08:10,576 - stpipe.Detector1Pipeline.jump - INFO - From highest outlier Two point found 409 pixels with at least one CR\n",
      "2020-09-17 16:08:10,599 - stpipe.Detector1Pipeline.jump - INFO -  working on integration 55\n",
      "2020-09-17 16:08:10,602 - stpipe.Detector1Pipeline.jump - INFO - From highest outlier Two point found 420 pixels with at least one CR\n",
      "2020-09-17 16:08:10,621 - stpipe.Detector1Pipeline.jump - INFO -  working on integration 56\n",
      "2020-09-17 16:08:10,623 - stpipe.Detector1Pipeline.jump - INFO - From highest outlier Two point found 401 pixels with at least one CR\n",
      "2020-09-17 16:08:10,639 - stpipe.Detector1Pipeline.jump - INFO -  working on integration 57\n",
      "2020-09-17 16:08:10,642 - stpipe.Detector1Pipeline.jump - INFO - From highest outlier Two point found 407 pixels with at least one CR\n",
      "2020-09-17 16:08:10,660 - stpipe.Detector1Pipeline.jump - INFO -  working on integration 58\n",
      "2020-09-17 16:08:10,663 - stpipe.Detector1Pipeline.jump - INFO - From highest outlier Two point found 381 pixels with at least one CR\n",
      "2020-09-17 16:08:10,681 - stpipe.Detector1Pipeline.jump - INFO -  working on integration 59\n",
      "2020-09-17 16:08:10,684 - stpipe.Detector1Pipeline.jump - INFO - From highest outlier Two point found 404 pixels with at least one CR\n",
      "2020-09-17 16:08:10,701 - stpipe.Detector1Pipeline.jump - INFO -  working on integration 60\n",
      "2020-09-17 16:08:10,703 - stpipe.Detector1Pipeline.jump - INFO - From highest outlier Two point found 391 pixels with at least one CR\n",
      "2020-09-17 16:08:10,718 - stpipe.Detector1Pipeline.jump - INFO -  working on integration 61\n",
      "2020-09-17 16:08:10,720 - stpipe.Detector1Pipeline.jump - INFO - From highest outlier Two point found 402 pixels with at least one CR\n",
      "2020-09-17 16:08:10,737 - stpipe.Detector1Pipeline.jump - INFO -  working on integration 62\n",
      "2020-09-17 16:08:10,740 - stpipe.Detector1Pipeline.jump - INFO - From highest outlier Two point found 407 pixels with at least one CR\n",
      "2020-09-17 16:08:10,757 - stpipe.Detector1Pipeline.jump - INFO -  working on integration 63\n",
      "2020-09-17 16:08:10,760 - stpipe.Detector1Pipeline.jump - INFO - From highest outlier Two point found 401 pixels with at least one CR\n",
      "2020-09-17 16:08:10,774 - stpipe.Detector1Pipeline.jump - INFO -  working on integration 64\n",
      "2020-09-17 16:08:10,777 - stpipe.Detector1Pipeline.jump - INFO - From highest outlier Two point found 402 pixels with at least one CR\n",
      "2020-09-17 16:08:10,792 - stpipe.Detector1Pipeline.jump - INFO -  working on integration 65\n",
      "2020-09-17 16:08:10,794 - stpipe.Detector1Pipeline.jump - INFO - From highest outlier Two point found 392 pixels with at least one CR\n",
      "2020-09-17 16:08:10,955 - stpipe.Detector1Pipeline.jump - INFO - Total elapsed time = 1.5398 sec\n",
      "2020-09-17 16:08:10,957 - stpipe.Detector1Pipeline.jump - INFO - The execution time in seconds: 1.763086\n",
      "2020-09-17 16:08:10,959 - stpipe.Detector1Pipeline.jump - INFO - Step jump done\n",
      "2020-09-17 16:08:11,114 - stpipe.Detector1Pipeline.ramp_fit - INFO - Step ramp_fit running with args (<RampModel(65, 5, 80, 80) from jw01093001001_01101_00001_nis_uncal.fits>,).\n",
      "2020-09-17 16:08:11,116 - stpipe.Detector1Pipeline.ramp_fit - INFO - Step ramp_fit parameters are: {'pre_hooks': [], 'post_hooks': [], 'output_file': None, 'output_dir': './pipeline_calibrated_data/', 'output_ext': '.fits', 'output_use_model': False, 'output_use_index': True, 'save_results': False, 'skip': False, 'suffix': None, 'search_output_file': True, 'input_dir': '/Users/thatte/niriss/dat_pyinthesky/jdat_notebooks/niriss_ami_binary/mirage_sim_data', 'int_name': '', 'save_opt': False, 'opt_name': ''}\n",
      "2020-09-17 16:08:11,186 - stpipe.Detector1Pipeline.ramp_fit - INFO - Using READNOISE reference file: /grp/crds/cache/references/jwst/jwst_niriss_readnoise_0004.fits\n",
      "2020-09-17 16:08:11,256 - stpipe.Detector1Pipeline.ramp_fit - INFO - Using GAIN reference file: /grp/crds/cache/references/jwst/jwst_niriss_gain_0005.fits\n",
      "2020-09-17 16:08:11,324 - stpipe.Detector1Pipeline.ramp_fit - INFO - Using algorithm = ols\n",
      "2020-09-17 16:08:11,325 - stpipe.Detector1Pipeline.ramp_fit - INFO - Using weighting = optimal\n",
      "2020-09-17 16:08:11,326 - stpipe.Detector1Pipeline.ramp_fit - INFO - Effective integration time per group: 0.07544000000000001\n",
      "2020-09-17 16:08:11,333 - stpipe.Detector1Pipeline.ramp_fit - INFO - Extracting gain subarray to match science data\n",
      "2020-09-17 16:08:11,334 - stpipe.Detector1Pipeline.ramp_fit - INFO - Extracting readnoise subarray to match science data\n",
      "2020-09-17 16:08:13,154 - stpipe.Detector1Pipeline.ramp_fit - INFO - Number of groups per integration: 5\n",
      "2020-09-17 16:08:13,154 - stpipe.Detector1Pipeline.ramp_fit - INFO - Number of integrations: 65\n",
      "2020-09-17 16:08:13,177 - stpipe.Detector1Pipeline.ramp_fit - INFO - Step ramp_fit done\n",
      "2020-09-17 16:08:13,323 - stpipe.Detector1Pipeline.gain_scale - INFO - Step gain_scale running with args (<ImageModel(80, 80) from jw01093001001_01101_00001_nis_uncal.fits>,).\n",
      "2020-09-17 16:08:13,325 - stpipe.Detector1Pipeline.gain_scale - INFO - Step gain_scale parameters are: {'pre_hooks': [], 'post_hooks': [], 'output_file': None, 'output_dir': None, 'output_ext': '.fits', 'output_use_model': False, 'output_use_index': True, 'save_results': False, 'skip': False, 'suffix': 'gain_scale', 'search_output_file': True, 'input_dir': '/Users/thatte/niriss/dat_pyinthesky/jdat_notebooks/niriss_ami_binary/mirage_sim_data'}\n",
      "2020-09-17 16:08:13,429 - stpipe.Detector1Pipeline.gain_scale - INFO - GAINFACT not found in gain reference file\n",
      "2020-09-17 16:08:13,431 - stpipe.Detector1Pipeline.gain_scale - INFO - Step will be skipped\n",
      "2020-09-17 16:08:13,433 - stpipe.Detector1Pipeline.gain_scale - INFO - Step gain_scale done\n",
      "2020-09-17 16:08:13,575 - stpipe.Detector1Pipeline.gain_scale - INFO - Step gain_scale running with args (<CubeModel(65, 80, 80) from jw01093001001_01101_00001_nis_uncal.fits>,).\n",
      "2020-09-17 16:08:13,578 - stpipe.Detector1Pipeline.gain_scale - INFO - Step gain_scale parameters are: {'pre_hooks': [], 'post_hooks': [], 'output_file': None, 'output_dir': None, 'output_ext': '.fits', 'output_use_model': False, 'output_use_index': True, 'save_results': False, 'skip': False, 'suffix': 'gain_scaleints', 'search_output_file': True, 'input_dir': '/Users/thatte/niriss/dat_pyinthesky/jdat_notebooks/niriss_ami_binary/mirage_sim_data'}\n",
      "2020-09-17 16:08:13,696 - stpipe.Detector1Pipeline.gain_scale - INFO - GAINFACT not found in gain reference file\n",
      "2020-09-17 16:08:13,697 - stpipe.Detector1Pipeline.gain_scale - INFO - Step will be skipped\n",
      "2020-09-17 16:08:13,699 - stpipe.Detector1Pipeline.gain_scale - INFO - Step gain_scale done\n",
      "2020-09-17 16:08:13,894 - stpipe.Detector1Pipeline - INFO - Saved model in ./pipeline_calibrated_data/jw01093001001_01101_00001_nis_rateints.fits\n",
      "2020-09-17 16:08:13,895 - stpipe.Detector1Pipeline - INFO - ... ending calwebb_detector1\n",
      "2020-09-17 16:08:13,964 - stpipe.Detector1Pipeline - INFO - Saved model in ./pipeline_calibrated_data/jw01093001001_01101_00001_nis_rate.fits\n",
      "2020-09-17 16:08:13,965 - stpipe.Detector1Pipeline - INFO - Step Detector1Pipeline done\n",
      "2020-09-17 16:08:14,044 - stpipe.Image2Pipeline - INFO - Image2Pipeline instance created.\n",
      "2020-09-17 16:08:14,046 - stpipe.Image2Pipeline.bkg_subtract - INFO - BackgroundStep instance created.\n",
      "2020-09-17 16:08:14,048 - stpipe.Image2Pipeline.assign_wcs - INFO - AssignWcsStep instance created.\n",
      "2020-09-17 16:08:14,051 - stpipe.Image2Pipeline.flat_field - INFO - FlatFieldStep instance created.\n",
      "2020-09-17 16:08:14,053 - stpipe.Image2Pipeline.photom - INFO - PhotomStep instance created.\n"
     ]
    },
    {
     "name": "stderr",
     "output_type": "stream",
     "text": [
      "2020-09-17 16:08:14,056 - stpipe.Image2Pipeline.resample - INFO - ResampleStep instance created.\n",
      "2020-09-17 16:08:14,122 - stpipe.Image2Pipeline - INFO - Step Image2Pipeline running with args ('./pipeline_calibrated_data/jw01093001001_01101_00001_nis_rate.fits',).\n",
      "2020-09-17 16:08:14,131 - stpipe.Image2Pipeline - INFO - Step Image2Pipeline parameters are: {'pre_hooks': [], 'post_hooks': [], 'output_file': None, 'output_dir': './pipeline_calibrated_data/', 'output_ext': '.fits', 'output_use_model': False, 'output_use_index': True, 'save_results': True, 'skip': False, 'suffix': None, 'search_output_file': True, 'input_dir': '', 'save_bsub': False, 'steps': {'bkg_subtract': {'pre_hooks': [], 'post_hooks': [], 'output_file': None, 'output_dir': None, 'output_ext': '.fits', 'output_use_model': False, 'output_use_index': True, 'save_results': False, 'skip': False, 'suffix': None, 'search_output_file': True, 'input_dir': '', 'sigma': 3.0, 'maxiters': None}, 'assign_wcs': {'pre_hooks': [], 'post_hooks': [], 'output_file': None, 'output_dir': None, 'output_ext': '.fits', 'output_use_model': False, 'output_use_index': True, 'save_results': False, 'skip': False, 'suffix': None, 'search_output_file': True, 'input_dir': '', 'slit_y_low': -0.55, 'slit_y_high': 0.55}, 'flat_field': {'pre_hooks': [], 'post_hooks': [], 'output_file': None, 'output_dir': None, 'output_ext': '.fits', 'output_use_model': False, 'output_use_index': True, 'save_results': False, 'skip': False, 'suffix': None, 'search_output_file': True, 'input_dir': '', 'save_interpolated_flat': False}, 'photom': {'pre_hooks': [], 'post_hooks': [], 'output_file': None, 'output_dir': None, 'output_ext': '.fits', 'output_use_model': False, 'output_use_index': True, 'save_results': False, 'skip': True, 'suffix': None, 'search_output_file': True, 'input_dir': ''}, 'resample': {'pre_hooks': [], 'post_hooks': [], 'output_file': None, 'output_dir': None, 'output_ext': '.fits', 'output_use_model': False, 'output_use_index': True, 'save_results': False, 'skip': True, 'suffix': None, 'search_output_file': True, 'input_dir': '', 'pixfrac': 1.0, 'kernel': 'square', 'fillval': 'INDEF', 'weight_type': 'exptime', 'single': False, 'blendheaders': True}}}\n",
      "2020-09-17 16:08:14,239 - stpipe.Image2Pipeline - INFO - Prefetching reference files for dataset: 'jw01093001001_01101_00001_nis_rate.fits' reftypes = ['camera', 'collimator', 'dflat', 'disperser', 'distortion', 'fflat', 'filteroffset', 'fore', 'fpa', 'ifufore', 'ifupost', 'ifuslicer', 'msa', 'ote', 'regions', 'sflat', 'specwcs', 'wavelengthrange', 'wfssbkg']\n",
      "2020-09-17 16:08:14,270 - stpipe.Image2Pipeline - INFO - Prefetch for CAMERA reference file is 'N/A'.\n",
      "2020-09-17 16:08:14,271 - stpipe.Image2Pipeline - INFO - Prefetch for COLLIMATOR reference file is 'N/A'.\n",
      "2020-09-17 16:08:14,272 - stpipe.Image2Pipeline - INFO - Prefetch for DFLAT reference file is 'N/A'.\n",
      "2020-09-17 16:08:14,273 - stpipe.Image2Pipeline - INFO - Prefetch for DISPERSER reference file is 'N/A'.\n",
      "2020-09-17 16:08:14,273 - stpipe.Image2Pipeline - INFO - Prefetch for DISTORTION reference file is '/grp/crds/cache/references/jwst/jwst_niriss_distortion_0010.asdf'.\n",
      "2020-09-17 16:08:14,317 - stpipe.Image2Pipeline - INFO - Prefetch for FFLAT reference file is 'N/A'.\n",
      "2020-09-17 16:08:14,318 - stpipe.Image2Pipeline - INFO - Prefetch for FILTEROFFSET reference file is 'N/A'.\n",
      "2020-09-17 16:08:14,319 - stpipe.Image2Pipeline - INFO - Override for FLAT reference file is '/Users/thatte/niriss/dat_pyinthesky/jdat_notebooks/niriss_ami_binary/ref_files_non_default/jwst_niriss_flat_general.fits'.\n",
      "2020-09-17 16:08:14,321 - stpipe.Image2Pipeline - INFO - Prefetch for FORE reference file is 'N/A'.\n",
      "2020-09-17 16:08:14,321 - stpipe.Image2Pipeline - INFO - Prefetch for FPA reference file is 'N/A'.\n",
      "2020-09-17 16:08:14,322 - stpipe.Image2Pipeline - INFO - Prefetch for IFUFORE reference file is 'N/A'.\n",
      "2020-09-17 16:08:14,323 - stpipe.Image2Pipeline - INFO - Prefetch for IFUPOST reference file is 'N/A'.\n",
      "2020-09-17 16:08:14,323 - stpipe.Image2Pipeline - INFO - Prefetch for IFUSLICER reference file is 'N/A'.\n",
      "2020-09-17 16:08:14,325 - stpipe.Image2Pipeline - INFO - Prefetch for MSA reference file is 'N/A'.\n",
      "2020-09-17 16:08:14,326 - stpipe.Image2Pipeline - INFO - Prefetch for OTE reference file is 'N/A'.\n",
      "2020-09-17 16:08:14,327 - stpipe.Image2Pipeline - INFO - Prefetch for REGIONS reference file is 'N/A'.\n",
      "2020-09-17 16:08:14,328 - stpipe.Image2Pipeline - INFO - Prefetch for SFLAT reference file is 'N/A'.\n",
      "2020-09-17 16:08:14,328 - stpipe.Image2Pipeline - INFO - Prefetch for SPECWCS reference file is 'N/A'.\n",
      "2020-09-17 16:08:14,330 - stpipe.Image2Pipeline - INFO - Prefetch for WAVELENGTHRANGE reference file is 'N/A'.\n",
      "2020-09-17 16:08:14,331 - stpipe.Image2Pipeline - INFO - Prefetch for WFSSBKG reference file is 'N/A'.\n",
      "2020-09-17 16:08:14,332 - stpipe.Image2Pipeline - INFO - Starting calwebb_image2 ...\n",
      "2020-09-17 16:08:14,333 - stpipe.Image2Pipeline - INFO - Processing product ./pipeline_calibrated_data/jw01093001001_01101_00001_nis\n",
      "2020-09-17 16:08:14,333 - stpipe.Image2Pipeline - INFO - Working on input ./pipeline_calibrated_data/jw01093001001_01101_00001_nis_rate.fits ...\n",
      "2020-09-17 16:08:14,498 - stpipe.Image2Pipeline.assign_wcs - INFO - Step assign_wcs running with args (<ImageModel(80, 80) from jw01093001001_01101_00001_nis_rate.fits>,).\n",
      "2020-09-17 16:08:14,500 - stpipe.Image2Pipeline.assign_wcs - INFO - Step assign_wcs parameters are: {'pre_hooks': [], 'post_hooks': [], 'output_file': None, 'output_dir': None, 'output_ext': '.fits', 'output_use_model': False, 'output_use_index': True, 'save_results': False, 'skip': False, 'suffix': None, 'search_output_file': True, 'input_dir': './pipeline_calibrated_data', 'slit_y_low': -0.55, 'slit_y_high': 0.55}\n",
      "2020-09-17 16:08:15,265 - stpipe.Image2Pipeline.assign_wcs - WARNING - /Users/thatte/anaconda3/envs/mirage_08052020/lib/python3.6/site-packages/gwcs/wcs.py:131: VisibleDeprecationWarning: Creating an ndarray from ragged nested sequences (which is a list-or-tuple of lists-or-tuples-or ndarrays with different lengths or shapes) is deprecated. If you meant to do this, you must specify 'dtype=object' when creating the ndarray\n",
      "  transforms = np.array(self._pipeline[from_ind: to_ind])[:, 1].copy()\n",
      "\n",
      "2020-09-17 16:08:15,284 - stpipe.Image2Pipeline.assign_wcs - INFO - Update S_REGION to POLYGON ICRS  82.185115186 -65.448214929 82.188397071 -65.448686549 82.189508822 -65.447328050 82.186226935 -65.446856489\n",
      "2020-09-17 16:08:15,284 - stpipe.Image2Pipeline.assign_wcs - INFO - assign_wcs updated S_REGION to POLYGON ICRS  82.185115186 -65.448214929 82.188397071 -65.448686549 82.189508822 -65.447328050 82.186226935 -65.446856489\n",
      "2020-09-17 16:08:15,285 - stpipe.Image2Pipeline.assign_wcs - INFO - COMPLETED assign_wcs\n",
      "2020-09-17 16:08:15,290 - stpipe.Image2Pipeline.assign_wcs - INFO - Step assign_wcs done\n",
      "2020-09-17 16:08:15,430 - stpipe.Image2Pipeline.flat_field - INFO - Step flat_field running with args (<ImageModel(80, 80) from jw01093001001_01101_00001_nis_rate.fits>,).\n",
      "2020-09-17 16:08:15,433 - stpipe.Image2Pipeline.flat_field - INFO - Step flat_field parameters are: {'pre_hooks': [], 'post_hooks': [], 'output_file': None, 'output_dir': None, 'output_ext': '.fits', 'output_use_model': False, 'output_use_index': True, 'save_results': False, 'skip': False, 'suffix': None, 'search_output_file': True, 'input_dir': './pipeline_calibrated_data', 'save_interpolated_flat': False}\n",
      "2020-09-17 16:08:15,541 - stpipe.Image2Pipeline.flat_field - WARNING - Keyword CDP_INTERNAL_FLAT does not correspond to an existing DQ mnemonic, so will be ignored\n",
      "2020-09-17 16:08:15,642 - stpipe.Image2Pipeline.flat_field - INFO - Extracting matching subarray from flat\n",
      "2020-09-17 16:08:15,653 - stpipe.Image2Pipeline.flat_field - INFO - Step flat_field done\n",
      "2020-09-17 16:08:15,800 - stpipe.Image2Pipeline.photom - INFO - Step photom running with args (<ImageModel(80, 80) from jw01093001001_01101_00001_nis_rate.fits>,).\n",
      "2020-09-17 16:08:15,803 - stpipe.Image2Pipeline.photom - INFO - Step photom parameters are: {'pre_hooks': [], 'post_hooks': [], 'output_file': None, 'output_dir': None, 'output_ext': '.fits', 'output_use_model': False, 'output_use_index': True, 'save_results': False, 'skip': True, 'suffix': None, 'search_output_file': True, 'input_dir': './pipeline_calibrated_data'}\n"
     ]
    },
    {
     "name": "stderr",
     "output_type": "stream",
     "text": [
      "2020-09-17 16:08:15,804 - stpipe.Image2Pipeline.photom - INFO - Step skipped.\n",
      "2020-09-17 16:08:15,807 - stpipe.Image2Pipeline.photom - INFO - Step photom done\n",
      "2020-09-17 16:08:15,877 - stpipe.Image2Pipeline - INFO - Finished processing product ./pipeline_calibrated_data/jw01093001001_01101_00001_nis\n",
      "2020-09-17 16:08:15,879 - stpipe.Image2Pipeline - INFO - ... ending calwebb_image2\n",
      "2020-09-17 16:08:15,955 - stpipe.Image2Pipeline - WARNING - /Users/thatte/anaconda3/envs/mirage_08052020/lib/python3.6/site-packages/gwcs/wcs.py:131: VisibleDeprecationWarning: Creating an ndarray from ragged nested sequences (which is a list-or-tuple of lists-or-tuples-or ndarrays with different lengths or shapes) is deprecated. If you meant to do this, you must specify 'dtype=object' when creating the ndarray\n",
      "  transforms = np.array(self._pipeline[from_ind: to_ind])[:, 1].copy()\n",
      "\n",
      "2020-09-17 16:08:16,042 - stpipe.Image2Pipeline - INFO - Saved model in ./pipeline_calibrated_data/jw01093001001_01101_00001_nis_cal.fits\n",
      "2020-09-17 16:08:16,043 - stpipe.Image2Pipeline - INFO - Step Image2Pipeline done\n",
      "2020-09-17 16:08:16,115 - stpipe.Image2Pipeline - INFO - Image2Pipeline instance created.\n",
      "2020-09-17 16:08:16,118 - stpipe.Image2Pipeline.bkg_subtract - INFO - BackgroundStep instance created.\n",
      "2020-09-17 16:08:16,121 - stpipe.Image2Pipeline.assign_wcs - INFO - AssignWcsStep instance created.\n",
      "2020-09-17 16:08:16,124 - stpipe.Image2Pipeline.flat_field - INFO - FlatFieldStep instance created.\n",
      "2020-09-17 16:08:16,126 - stpipe.Image2Pipeline.photom - INFO - PhotomStep instance created.\n",
      "2020-09-17 16:08:16,129 - stpipe.Image2Pipeline.resample - INFO - ResampleStep instance created.\n",
      "2020-09-17 16:08:16,200 - stpipe.Image2Pipeline - INFO - Step Image2Pipeline running with args ('./pipeline_calibrated_data/jw01093001001_01101_00001_nis_rateints.fits',).\n",
      "2020-09-17 16:08:16,209 - stpipe.Image2Pipeline - INFO - Step Image2Pipeline parameters are: {'pre_hooks': [], 'post_hooks': [], 'output_file': None, 'output_dir': './pipeline_calibrated_data/', 'output_ext': '.fits', 'output_use_model': False, 'output_use_index': True, 'save_results': True, 'skip': False, 'suffix': None, 'search_output_file': True, 'input_dir': '', 'save_bsub': False, 'steps': {'bkg_subtract': {'pre_hooks': [], 'post_hooks': [], 'output_file': None, 'output_dir': None, 'output_ext': '.fits', 'output_use_model': False, 'output_use_index': True, 'save_results': False, 'skip': False, 'suffix': None, 'search_output_file': True, 'input_dir': '', 'sigma': 3.0, 'maxiters': None}, 'assign_wcs': {'pre_hooks': [], 'post_hooks': [], 'output_file': None, 'output_dir': None, 'output_ext': '.fits', 'output_use_model': False, 'output_use_index': True, 'save_results': False, 'skip': False, 'suffix': None, 'search_output_file': True, 'input_dir': '', 'slit_y_low': -0.55, 'slit_y_high': 0.55}, 'flat_field': {'pre_hooks': [], 'post_hooks': [], 'output_file': None, 'output_dir': None, 'output_ext': '.fits', 'output_use_model': False, 'output_use_index': True, 'save_results': False, 'skip': False, 'suffix': None, 'search_output_file': True, 'input_dir': '', 'save_interpolated_flat': False}, 'photom': {'pre_hooks': [], 'post_hooks': [], 'output_file': None, 'output_dir': None, 'output_ext': '.fits', 'output_use_model': False, 'output_use_index': True, 'save_results': False, 'skip': True, 'suffix': None, 'search_output_file': True, 'input_dir': ''}, 'resample': {'pre_hooks': [], 'post_hooks': [], 'output_file': None, 'output_dir': None, 'output_ext': '.fits', 'output_use_model': False, 'output_use_index': True, 'save_results': False, 'skip': True, 'suffix': None, 'search_output_file': True, 'input_dir': '', 'pixfrac': 1.0, 'kernel': 'square', 'fillval': 'INDEF', 'weight_type': 'exptime', 'single': False, 'blendheaders': True}}}\n",
      "2020-09-17 16:08:16,332 - stpipe.Image2Pipeline - INFO - Prefetching reference files for dataset: 'jw01093001001_01101_00001_nis_rateints.fits' reftypes = ['camera', 'collimator', 'dflat', 'disperser', 'distortion', 'fflat', 'filteroffset', 'fore', 'fpa', 'ifufore', 'ifupost', 'ifuslicer', 'msa', 'ote', 'regions', 'sflat', 'specwcs', 'wavelengthrange', 'wfssbkg']\n",
      "2020-09-17 16:08:16,355 - stpipe.Image2Pipeline - INFO - Prefetch for CAMERA reference file is 'N/A'.\n",
      "2020-09-17 16:08:16,356 - stpipe.Image2Pipeline - INFO - Prefetch for COLLIMATOR reference file is 'N/A'.\n",
      "2020-09-17 16:08:16,358 - stpipe.Image2Pipeline - INFO - Prefetch for DFLAT reference file is 'N/A'.\n",
      "2020-09-17 16:08:16,358 - stpipe.Image2Pipeline - INFO - Prefetch for DISPERSER reference file is 'N/A'.\n",
      "2020-09-17 16:08:16,359 - stpipe.Image2Pipeline - INFO - Prefetch for DISTORTION reference file is '/grp/crds/cache/references/jwst/jwst_niriss_distortion_0010.asdf'.\n",
      "2020-09-17 16:08:16,385 - stpipe.Image2Pipeline - INFO - Prefetch for FFLAT reference file is 'N/A'.\n",
      "2020-09-17 16:08:16,386 - stpipe.Image2Pipeline - INFO - Prefetch for FILTEROFFSET reference file is 'N/A'.\n",
      "2020-09-17 16:08:16,387 - stpipe.Image2Pipeline - INFO - Override for FLAT reference file is '/Users/thatte/niriss/dat_pyinthesky/jdat_notebooks/niriss_ami_binary/ref_files_non_default/jwst_niriss_flat_general.fits'.\n",
      "2020-09-17 16:08:16,389 - stpipe.Image2Pipeline - INFO - Prefetch for FORE reference file is 'N/A'.\n",
      "2020-09-17 16:08:16,390 - stpipe.Image2Pipeline - INFO - Prefetch for FPA reference file is 'N/A'.\n",
      "2020-09-17 16:08:16,391 - stpipe.Image2Pipeline - INFO - Prefetch for IFUFORE reference file is 'N/A'.\n",
      "2020-09-17 16:08:16,392 - stpipe.Image2Pipeline - INFO - Prefetch for IFUPOST reference file is 'N/A'.\n",
      "2020-09-17 16:08:16,393 - stpipe.Image2Pipeline - INFO - Prefetch for IFUSLICER reference file is 'N/A'.\n",
      "2020-09-17 16:08:16,393 - stpipe.Image2Pipeline - INFO - Prefetch for MSA reference file is 'N/A'.\n",
      "2020-09-17 16:08:16,394 - stpipe.Image2Pipeline - INFO - Prefetch for OTE reference file is 'N/A'.\n",
      "2020-09-17 16:08:16,394 - stpipe.Image2Pipeline - INFO - Prefetch for REGIONS reference file is 'N/A'.\n",
      "2020-09-17 16:08:16,395 - stpipe.Image2Pipeline - INFO - Prefetch for SFLAT reference file is 'N/A'.\n",
      "2020-09-17 16:08:16,397 - stpipe.Image2Pipeline - INFO - Prefetch for SPECWCS reference file is 'N/A'.\n",
      "2020-09-17 16:08:16,397 - stpipe.Image2Pipeline - INFO - Prefetch for WAVELENGTHRANGE reference file is 'N/A'.\n",
      "2020-09-17 16:08:16,398 - stpipe.Image2Pipeline - INFO - Prefetch for WFSSBKG reference file is 'N/A'.\n",
      "2020-09-17 16:08:16,400 - stpipe.Image2Pipeline - INFO - Starting calwebb_image2 ...\n",
      "2020-09-17 16:08:16,401 - stpipe.Image2Pipeline - INFO - Processing product ./pipeline_calibrated_data/jw01093001001_01101_00001_nis\n",
      "2020-09-17 16:08:16,402 - stpipe.Image2Pipeline - INFO - Working on input ./pipeline_calibrated_data/jw01093001001_01101_00001_nis_rateints.fits ...\n",
      "2020-09-17 16:08:16,585 - stpipe.Image2Pipeline.assign_wcs - INFO - Step assign_wcs running with args (<CubeModel(65, 80, 80) from jw01093001001_01101_00001_nis_rateints.fits>,).\n",
      "2020-09-17 16:08:16,587 - stpipe.Image2Pipeline.assign_wcs - INFO - Step assign_wcs parameters are: {'pre_hooks': [], 'post_hooks': [], 'output_file': None, 'output_dir': None, 'output_ext': '.fits', 'output_use_model': False, 'output_use_index': True, 'save_results': False, 'skip': False, 'suffix': None, 'search_output_file': True, 'input_dir': './pipeline_calibrated_data', 'slit_y_low': -0.55, 'slit_y_high': 0.55}\n",
      "2020-09-17 16:08:17,345 - stpipe.Image2Pipeline.assign_wcs - WARNING - /Users/thatte/anaconda3/envs/mirage_08052020/lib/python3.6/site-packages/gwcs/wcs.py:131: VisibleDeprecationWarning: Creating an ndarray from ragged nested sequences (which is a list-or-tuple of lists-or-tuples-or ndarrays with different lengths or shapes) is deprecated. If you meant to do this, you must specify 'dtype=object' when creating the ndarray\n",
      "  transforms = np.array(self._pipeline[from_ind: to_ind])[:, 1].copy()\n",
      "\n",
      "2020-09-17 16:08:17,363 - stpipe.Image2Pipeline.assign_wcs - INFO - Update S_REGION to POLYGON ICRS  82.185115186 -65.448214929 82.188397071 -65.448686549 82.189508822 -65.447328050 82.186226935 -65.446856489\n",
      "2020-09-17 16:08:17,364 - stpipe.Image2Pipeline.assign_wcs - INFO - assign_wcs updated S_REGION to POLYGON ICRS  82.185115186 -65.448214929 82.188397071 -65.448686549 82.189508822 -65.447328050 82.186226935 -65.446856489\n"
     ]
    },
    {
     "name": "stderr",
     "output_type": "stream",
     "text": [
      "2020-09-17 16:08:17,364 - stpipe.Image2Pipeline.assign_wcs - INFO - COMPLETED assign_wcs\n",
      "2020-09-17 16:08:17,369 - stpipe.Image2Pipeline.assign_wcs - INFO - Step assign_wcs done\n",
      "2020-09-17 16:08:17,510 - stpipe.Image2Pipeline.flat_field - INFO - Step flat_field running with args (<CubeModel(65, 80, 80) from jw01093001001_01101_00001_nis_rateints.fits>,).\n",
      "2020-09-17 16:08:17,513 - stpipe.Image2Pipeline.flat_field - INFO - Step flat_field parameters are: {'pre_hooks': [], 'post_hooks': [], 'output_file': None, 'output_dir': None, 'output_ext': '.fits', 'output_use_model': False, 'output_use_index': True, 'save_results': False, 'skip': False, 'suffix': None, 'search_output_file': True, 'input_dir': './pipeline_calibrated_data', 'save_interpolated_flat': False}\n",
      "2020-09-17 16:08:17,616 - stpipe.Image2Pipeline.flat_field - WARNING - Keyword CDP_INTERNAL_FLAT does not correspond to an existing DQ mnemonic, so will be ignored\n",
      "2020-09-17 16:08:17,718 - stpipe.Image2Pipeline.flat_field - INFO - Extracting matching subarray from flat\n",
      "2020-09-17 16:08:17,734 - stpipe.Image2Pipeline.flat_field - INFO - Step flat_field done\n",
      "2020-09-17 16:08:17,881 - stpipe.Image2Pipeline.photom - INFO - Step photom running with args (<CubeModel(65, 80, 80) from jw01093001001_01101_00001_nis_rateints.fits>,).\n",
      "2020-09-17 16:08:17,883 - stpipe.Image2Pipeline.photom - INFO - Step photom parameters are: {'pre_hooks': [], 'post_hooks': [], 'output_file': None, 'output_dir': None, 'output_ext': '.fits', 'output_use_model': False, 'output_use_index': True, 'save_results': False, 'skip': True, 'suffix': None, 'search_output_file': True, 'input_dir': './pipeline_calibrated_data'}\n",
      "2020-09-17 16:08:17,885 - stpipe.Image2Pipeline.photom - INFO - Step skipped.\n",
      "2020-09-17 16:08:17,887 - stpipe.Image2Pipeline.photom - INFO - Step photom done\n",
      "2020-09-17 16:08:17,959 - stpipe.Image2Pipeline - INFO - Finished processing product ./pipeline_calibrated_data/jw01093001001_01101_00001_nis\n",
      "2020-09-17 16:08:17,961 - stpipe.Image2Pipeline - INFO - ... ending calwebb_image2\n",
      "2020-09-17 16:08:18,042 - stpipe.Image2Pipeline - WARNING - /Users/thatte/anaconda3/envs/mirage_08052020/lib/python3.6/site-packages/gwcs/wcs.py:131: VisibleDeprecationWarning: Creating an ndarray from ragged nested sequences (which is a list-or-tuple of lists-or-tuples-or ndarrays with different lengths or shapes) is deprecated. If you meant to do this, you must specify 'dtype=object' when creating the ndarray\n",
      "  transforms = np.array(self._pipeline[from_ind: to_ind])[:, 1].copy()\n",
      "\n",
      "2020-09-17 16:08:18,174 - stpipe.Image2Pipeline - INFO - Saved model in ./pipeline_calibrated_data/jw01093001001_01101_00001_nis_calints.fits\n",
      "2020-09-17 16:08:18,175 - stpipe.Image2Pipeline - INFO - Step Image2Pipeline done\n",
      "2020-09-17 16:08:18,255 - stpipe.Detector1Pipeline - INFO - Detector1Pipeline instance created.\n",
      "2020-09-17 16:08:18,257 - stpipe.Detector1Pipeline.group_scale - INFO - GroupScaleStep instance created.\n",
      "2020-09-17 16:08:18,259 - stpipe.Detector1Pipeline.dq_init - INFO - DQInitStep instance created.\n",
      "2020-09-17 16:08:18,261 - stpipe.Detector1Pipeline.saturation - INFO - SaturationStep instance created.\n",
      "2020-09-17 16:08:18,263 - stpipe.Detector1Pipeline.ipc - INFO - IPCStep instance created.\n",
      "2020-09-17 16:08:18,266 - stpipe.Detector1Pipeline.superbias - INFO - SuperBiasStep instance created.\n",
      "2020-09-17 16:08:18,268 - stpipe.Detector1Pipeline.refpix - INFO - RefPixStep instance created.\n",
      "2020-09-17 16:08:18,271 - stpipe.Detector1Pipeline.rscd - INFO - RSCD_Step instance created.\n",
      "2020-09-17 16:08:18,273 - stpipe.Detector1Pipeline.firstframe - INFO - FirstFrameStep instance created.\n",
      "2020-09-17 16:08:18,275 - stpipe.Detector1Pipeline.lastframe - INFO - LastFrameStep instance created.\n",
      "2020-09-17 16:08:18,277 - stpipe.Detector1Pipeline.linearity - INFO - LinearityStep instance created.\n",
      "2020-09-17 16:08:18,279 - stpipe.Detector1Pipeline.dark_current - INFO - DarkCurrentStep instance created.\n",
      "2020-09-17 16:08:18,282 - stpipe.Detector1Pipeline.persistence - INFO - PersistenceStep instance created.\n",
      "2020-09-17 16:08:18,284 - stpipe.Detector1Pipeline.jump - INFO - JumpStep instance created.\n",
      "2020-09-17 16:08:18,286 - stpipe.Detector1Pipeline.ramp_fit - INFO - RampFitStep instance created.\n",
      "2020-09-17 16:08:18,288 - stpipe.Detector1Pipeline.gain_scale - INFO - GainScaleStep instance created.\n",
      "2020-09-17 16:08:18,365 - stpipe.Detector1Pipeline - INFO - Step Detector1Pipeline running with args ('/Users/thatte/niriss/dat_pyinthesky/jdat_notebooks/niriss_ami_binary/mirage_sim_data/jw01093002001_01101_00001_nis_uncal.fits',).\n",
      "2020-09-17 16:08:18,384 - stpipe.Detector1Pipeline - INFO - Step Detector1Pipeline parameters are: {'pre_hooks': [], 'post_hooks': [], 'output_file': None, 'output_dir': './pipeline_calibrated_data/', 'output_ext': '.fits', 'output_use_model': False, 'output_use_index': True, 'save_results': True, 'skip': False, 'suffix': None, 'search_output_file': True, 'input_dir': '', 'save_calibrated_ramp': False, 'steps': {'group_scale': {'pre_hooks': [], 'post_hooks': [], 'output_file': None, 'output_dir': None, 'output_ext': '.fits', 'output_use_model': False, 'output_use_index': True, 'save_results': False, 'skip': False, 'suffix': None, 'search_output_file': True, 'input_dir': ''}, 'dq_init': {'pre_hooks': [], 'post_hooks': [], 'output_file': None, 'output_dir': None, 'output_ext': '.fits', 'output_use_model': False, 'output_use_index': True, 'save_results': False, 'skip': False, 'suffix': None, 'search_output_file': True, 'input_dir': ''}, 'saturation': {'pre_hooks': [], 'post_hooks': [], 'output_file': None, 'output_dir': None, 'output_ext': '.fits', 'output_use_model': False, 'output_use_index': True, 'save_results': False, 'skip': False, 'suffix': None, 'search_output_file': True, 'input_dir': ''}, 'ipc': {'pre_hooks': [], 'post_hooks': [], 'output_file': None, 'output_dir': None, 'output_ext': '.fits', 'output_use_model': False, 'output_use_index': True, 'save_results': False, 'skip': True, 'suffix': None, 'search_output_file': True, 'input_dir': ''}, 'superbias': {'pre_hooks': [], 'post_hooks': [], 'output_file': None, 'output_dir': None, 'output_ext': '.fits', 'output_use_model': False, 'output_use_index': True, 'save_results': False, 'skip': False, 'suffix': None, 'search_output_file': True, 'input_dir': ''}, 'refpix': {'pre_hooks': [], 'post_hooks': [], 'output_file': None, 'output_dir': None, 'output_ext': '.fits', 'output_use_model': False, 'output_use_index': True, 'save_results': False, 'skip': False, 'suffix': None, 'search_output_file': True, 'input_dir': '', 'odd_even_columns': True, 'use_side_ref_pixels': True, 'side_smoothing_length': 11, 'side_gain': 1.0, 'odd_even_rows': True}, 'rscd': {'pre_hooks': [], 'post_hooks': [], 'output_file': None, 'output_dir': None, 'output_ext': '.fits', 'output_use_model': False, 'output_use_index': True, 'save_results': False, 'skip': False, 'suffix': None, 'search_output_file': True, 'input_dir': '', 'type': 'baseline'}, 'firstframe': {'pre_hooks': [], 'post_hooks': [], 'output_file': None, 'output_dir': None, 'output_ext': '.fits', 'output_use_model': False, 'output_use_index': True, 'save_results': False, 'skip': False, 'suffix': None, 'search_output_file': True, 'input_dir': ''}, 'lastframe': {'pre_hooks': [], 'post_hooks': [], 'output_file': None, 'output_dir': None, 'output_ext': '.fits', 'output_use_model': False, 'output_use_index': True, 'save_results': False, 'skip': False, 'suffix': None, 'search_output_file': True, 'input_dir': ''}, 'linearity': {'pre_hooks': [], 'post_hooks': [], 'output_file': None, 'output_dir': None, 'output_ext': '.fits', 'output_use_model': False, 'output_use_index': True, 'save_results': False, 'skip': False, 'suffix': None, 'search_output_file': True, 'input_dir': ''}, 'dark_current': {'pre_hooks': [], 'post_hooks': [], 'output_file': None, 'output_dir': None, 'output_ext': '.fits', 'output_use_model': False, 'output_use_index': True, 'save_results': False, 'skip': False, 'suffix': None, 'search_output_file': True, 'input_dir': '', 'dark_output': None}, 'persistence': {'pre_hooks': [], 'post_hooks': [], 'output_file': None, 'output_dir': None, 'output_ext': '.fits', 'output_use_model': False, 'output_use_index': True, 'save_results': False, 'skip': False, 'suffix': None, 'search_output_file': True, 'input_dir': '', 'input_trapsfilled': '', 'flag_pers_cutoff': 40.0, 'save_persistence': False, 'save_trapsfilled': True}, 'jump': {'pre_hooks': [], 'post_hooks': [], 'output_file': None, 'output_dir': None, 'output_ext': '.fits', 'output_use_model': False, 'output_use_index': True, 'save_results': False, 'skip': False, 'suffix': None, 'search_output_file': True, 'input_dir': '', 'rejection_threshold': 4.0, 'maximum_cores': None, 'flag_4_neighbors': True, 'max_jump_to_flag_neighbors': 200.0, 'min_jump_to_flag_neighbors': 10.0}, 'ramp_fit': {'pre_hooks': [], 'post_hooks': [], 'output_file': None, 'output_dir': None, 'output_ext': '.fits', 'output_use_model': False, 'output_use_index': True, 'save_results': False, 'skip': False, 'suffix': None, 'search_output_file': True, 'input_dir': '', 'int_name': '', 'save_opt': False, 'opt_name': ''}, 'gain_scale': {'pre_hooks': [], 'post_hooks': [], 'output_file': None, 'output_dir': None, 'output_ext': '.fits', 'output_use_model': False, 'output_use_index': True, 'save_results': False, 'skip': False, 'suffix': None, 'search_output_file': True, 'input_dir': ''}}}\n"
     ]
    },
    {
     "name": "stderr",
     "output_type": "stream",
     "text": [
      "2020-09-17 16:08:18,530 - stpipe.Detector1Pipeline - INFO - Prefetching reference files for dataset: 'jw01093002001_01101_00001_nis_uncal.fits' reftypes = ['gain', 'linearity', 'mask', 'persat', 'readnoise', 'refpix', 'rscd', 'saturation', 'trapdensity', 'trappars']\n",
      "2020-09-17 16:08:18,533 - stpipe.Detector1Pipeline - INFO - Override for DARK reference file is '/Users/thatte/niriss/dat_pyinthesky/jdat_notebooks/niriss_ami_binary/ref_files_non_default/jwst_niriss_dark_sub80_sim.fits'.\n",
      "2020-09-17 16:08:18,534 - stpipe.Detector1Pipeline - INFO - Prefetch for GAIN reference file is '/grp/crds/cache/references/jwst/jwst_niriss_gain_0005.fits'.\n",
      "2020-09-17 16:08:18,562 - stpipe.Detector1Pipeline - INFO - Prefetch for LINEARITY reference file is '/grp/crds/cache/references/jwst/jwst_niriss_linearity_0011.fits'.\n",
      "2020-09-17 16:08:18,590 - stpipe.Detector1Pipeline - INFO - Prefetch for MASK reference file is '/grp/crds/cache/references/jwst/jwst_niriss_mask_0013.fits'.\n",
      "2020-09-17 16:08:18,620 - stpipe.Detector1Pipeline - INFO - Prefetch for PERSAT reference file is '/grp/crds/cache/references/jwst/jwst_niriss_persat_0003.fits'.\n",
      "2020-09-17 16:08:18,649 - stpipe.Detector1Pipeline - INFO - Prefetch for READNOISE reference file is '/grp/crds/cache/references/jwst/jwst_niriss_readnoise_0004.fits'.\n",
      "2020-09-17 16:08:18,669 - stpipe.Detector1Pipeline - INFO - Prefetch for REFPIX reference file is 'N/A'.\n",
      "2020-09-17 16:08:18,670 - stpipe.Detector1Pipeline - INFO - Prefetch for RSCD reference file is 'N/A'.\n",
      "2020-09-17 16:08:18,672 - stpipe.Detector1Pipeline - INFO - Prefetch for SATURATION reference file is '/grp/crds/cache/references/jwst/jwst_niriss_saturation_0010.fits'.\n",
      "2020-09-17 16:08:18,699 - stpipe.Detector1Pipeline - INFO - Override for SUPERBIAS reference file is '/Users/thatte/niriss/dat_pyinthesky/jdat_notebooks/niriss_ami_binary/ref_files_non_default/jwst_niriss_superbias_sim.fits'.\n",
      "2020-09-17 16:08:18,700 - stpipe.Detector1Pipeline - INFO - Prefetch for TRAPDENSITY reference file is '/grp/crds/cache/references/jwst/jwst_niriss_trapdensity_0002.fits'.\n",
      "2020-09-17 16:08:18,728 - stpipe.Detector1Pipeline - INFO - Prefetch for TRAPPARS reference file is '/grp/crds/cache/references/jwst/jwst_niriss_trappars_0002.fits'.\n",
      "2020-09-17 16:08:18,748 - stpipe.Detector1Pipeline - INFO - Starting calwebb_detector1 ...\n",
      "2020-09-17 16:08:18,955 - stpipe.Detector1Pipeline.group_scale - INFO - Step group_scale running with args (<RampModel(60, 12, 80, 80) from jw01093002001_01101_00001_nis_uncal.fits>,).\n",
      "2020-09-17 16:08:18,958 - stpipe.Detector1Pipeline.group_scale - INFO - Step group_scale parameters are: {'pre_hooks': [], 'post_hooks': [], 'output_file': None, 'output_dir': None, 'output_ext': '.fits', 'output_use_model': False, 'output_use_index': True, 'save_results': False, 'skip': False, 'suffix': None, 'search_output_file': True, 'input_dir': '/Users/thatte/niriss/dat_pyinthesky/jdat_notebooks/niriss_ami_binary/mirage_sim_data'}\n",
      "2020-09-17 16:08:18,973 - stpipe.Detector1Pipeline.group_scale - INFO - NFRAMES=1 is a power of 2; correction not needed\n",
      "2020-09-17 16:08:18,974 - stpipe.Detector1Pipeline.group_scale - INFO - Step will be skipped\n",
      "2020-09-17 16:08:18,975 - stpipe.Detector1Pipeline.group_scale - INFO - Step group_scale done\n",
      "2020-09-17 16:08:19,113 - stpipe.Detector1Pipeline.dq_init - INFO - Step dq_init running with args (<RampModel(60, 12, 80, 80) from jw01093002001_01101_00001_nis_uncal.fits>,).\n",
      "2020-09-17 16:08:19,115 - stpipe.Detector1Pipeline.dq_init - INFO - Step dq_init parameters are: {'pre_hooks': [], 'post_hooks': [], 'output_file': None, 'output_dir': None, 'output_ext': '.fits', 'output_use_model': False, 'output_use_index': True, 'save_results': False, 'skip': False, 'suffix': None, 'search_output_file': True, 'input_dir': '/Users/thatte/niriss/dat_pyinthesky/jdat_notebooks/niriss_ami_binary/mirage_sim_data'}\n",
      "2020-09-17 16:08:19,162 - stpipe.Detector1Pipeline.dq_init - INFO - Using MASK reference file /grp/crds/cache/references/jwst/jwst_niriss_mask_0013.fits\n",
      "2020-09-17 16:08:19,426 - stpipe.Detector1Pipeline.dq_init - WARNING - Keyword CDP_WARM does not correspond to an existing DQ mnemonic, so will be ignored\n",
      "2020-09-17 16:08:19,426 - stpipe.Detector1Pipeline.dq_init - WARNING - Keyword CDP_NOISY does not correspond to an existing DQ mnemonic, so will be ignored\n",
      "2020-09-17 16:08:19,485 - stpipe.Detector1Pipeline.dq_init - INFO - Extracting mask subarray to match science data\n",
      "2020-09-17 16:08:19,492 - stpipe.Detector1Pipeline.dq_init - INFO - Step dq_init done\n",
      "2020-09-17 16:08:19,633 - stpipe.Detector1Pipeline.saturation - INFO - Step saturation running with args (<RampModel(60, 12, 80, 80) from jw01093002001_01101_00001_nis_uncal.fits>,).\n",
      "2020-09-17 16:08:19,635 - stpipe.Detector1Pipeline.saturation - INFO - Step saturation parameters are: {'pre_hooks': [], 'post_hooks': [], 'output_file': None, 'output_dir': None, 'output_ext': '.fits', 'output_use_model': False, 'output_use_index': True, 'save_results': False, 'skip': False, 'suffix': None, 'search_output_file': True, 'input_dir': '/Users/thatte/niriss/dat_pyinthesky/jdat_notebooks/niriss_ami_binary/mirage_sim_data'}\n",
      "2020-09-17 16:08:19,684 - stpipe.Detector1Pipeline.saturation - INFO - Using SATURATION reference file /grp/crds/cache/references/jwst/jwst_niriss_saturation_0010.fits\n",
      "2020-09-17 16:08:19,896 - stpipe.Detector1Pipeline.saturation - INFO - Extracting reference file subarray to match science data\n",
      "2020-09-17 16:08:19,932 - stpipe.Detector1Pipeline.saturation - INFO - Step saturation done\n",
      "2020-09-17 16:08:20,083 - stpipe.Detector1Pipeline.ipc - INFO - Step ipc running with args (<RampModel(60, 12, 80, 80) from jw01093002001_01101_00001_nis_uncal.fits>,).\n",
      "2020-09-17 16:08:20,086 - stpipe.Detector1Pipeline.ipc - INFO - Step ipc parameters are: {'pre_hooks': [], 'post_hooks': [], 'output_file': None, 'output_dir': None, 'output_ext': '.fits', 'output_use_model': False, 'output_use_index': True, 'save_results': False, 'skip': True, 'suffix': None, 'search_output_file': True, 'input_dir': '/Users/thatte/niriss/dat_pyinthesky/jdat_notebooks/niriss_ami_binary/mirage_sim_data'}\n",
      "2020-09-17 16:08:20,087 - stpipe.Detector1Pipeline.ipc - INFO - Step skipped.\n",
      "2020-09-17 16:08:20,090 - stpipe.Detector1Pipeline.ipc - INFO - Step ipc done\n",
      "2020-09-17 16:08:20,241 - stpipe.Detector1Pipeline.superbias - INFO - Step superbias running with args (<RampModel(60, 12, 80, 80) from jw01093002001_01101_00001_nis_uncal.fits>,).\n",
      "2020-09-17 16:08:20,243 - stpipe.Detector1Pipeline.superbias - INFO - Step superbias parameters are: {'pre_hooks': [], 'post_hooks': [], 'output_file': None, 'output_dir': None, 'output_ext': '.fits', 'output_use_model': False, 'output_use_index': True, 'save_results': False, 'skip': False, 'suffix': None, 'search_output_file': True, 'input_dir': '/Users/thatte/niriss/dat_pyinthesky/jdat_notebooks/niriss_ami_binary/mirage_sim_data'}\n",
      "2020-09-17 16:08:20,261 - stpipe.Detector1Pipeline.superbias - INFO - Using SUPERBIAS reference file /Users/thatte/niriss/dat_pyinthesky/jdat_notebooks/niriss_ami_binary/ref_files_non_default/jwst_niriss_superbias_sim.fits\n",
      "2020-09-17 16:08:20,413 - stpipe.Detector1Pipeline.superbias - INFO - Step superbias done\n",
      "2020-09-17 16:08:20,564 - stpipe.Detector1Pipeline.refpix - INFO - Step refpix running with args (<RampModel(60, 12, 80, 80) from jw01093002001_01101_00001_nis_uncal.fits>,).\n",
      "2020-09-17 16:08:20,567 - stpipe.Detector1Pipeline.refpix - INFO - Step refpix parameters are: {'pre_hooks': [], 'post_hooks': [], 'output_file': None, 'output_dir': None, 'output_ext': '.fits', 'output_use_model': False, 'output_use_index': True, 'save_results': False, 'skip': False, 'suffix': None, 'search_output_file': True, 'input_dir': '/Users/thatte/niriss/dat_pyinthesky/jdat_notebooks/niriss_ami_binary/mirage_sim_data', 'odd_even_columns': True, 'use_side_ref_pixels': True, 'side_smoothing_length': 11, 'side_gain': 1.0, 'odd_even_rows': True}\n",
      "2020-09-17 16:08:20,579 - stpipe.Detector1Pipeline.refpix - INFO - use_side_ref_pixels = True\n",
      "2020-09-17 16:08:20,580 - stpipe.Detector1Pipeline.refpix - INFO - odd_even_columns = True\n",
      "2020-09-17 16:08:20,580 - stpipe.Detector1Pipeline.refpix - INFO - side_smoothing_length = 11\n"
     ]
    },
    {
     "name": "stderr",
     "output_type": "stream",
     "text": [
      "2020-09-17 16:08:20,582 - stpipe.Detector1Pipeline.refpix - INFO - side_gain = 1.000000\n",
      "2020-09-17 16:08:20,582 - stpipe.Detector1Pipeline.refpix - INFO - odd_even_rows = True\n",
      "2020-09-17 16:08:23,001 - stpipe.Detector1Pipeline.refpix - INFO - Step refpix done\n",
      "2020-09-17 16:08:23,146 - stpipe.Detector1Pipeline.linearity - INFO - Step linearity running with args (<RampModel(60, 12, 80, 80) from jw01093002001_01101_00001_nis_uncal.fits>,).\n",
      "2020-09-17 16:08:23,149 - stpipe.Detector1Pipeline.linearity - INFO - Step linearity parameters are: {'pre_hooks': [], 'post_hooks': [], 'output_file': None, 'output_dir': None, 'output_ext': '.fits', 'output_use_model': False, 'output_use_index': True, 'save_results': False, 'skip': False, 'suffix': None, 'search_output_file': True, 'input_dir': '/Users/thatte/niriss/dat_pyinthesky/jdat_notebooks/niriss_ami_binary/mirage_sim_data'}\n",
      "2020-09-17 16:08:23,189 - stpipe.Detector1Pipeline.linearity - INFO - Using Linearity reference file /grp/crds/cache/references/jwst/jwst_niriss_linearity_0011.fits\n",
      "2020-09-17 16:08:23,448 - stpipe.Detector1Pipeline.linearity - WARNING - Keyword CDP_AVERAGED_COEFFICIENTS does not correspond to an existing DQ mnemonic, so will be ignored\n",
      "2020-09-17 16:08:23,487 - stpipe.Detector1Pipeline.linearity - INFO - Extracting linearity subarray to match science data\n",
      "2020-09-17 16:08:23,556 - stpipe.Detector1Pipeline.linearity - INFO - Step linearity done\n",
      "2020-09-17 16:08:23,704 - stpipe.Detector1Pipeline.persistence - INFO - Step persistence running with args (<RampModel(60, 12, 80, 80) from jw01093002001_01101_00001_nis_uncal.fits>,).\n",
      "2020-09-17 16:08:23,707 - stpipe.Detector1Pipeline.persistence - INFO - Step persistence parameters are: {'pre_hooks': [], 'post_hooks': [], 'output_file': None, 'output_dir': None, 'output_ext': '.fits', 'output_use_model': False, 'output_use_index': True, 'save_results': False, 'skip': False, 'suffix': None, 'search_output_file': True, 'input_dir': '/Users/thatte/niriss/dat_pyinthesky/jdat_notebooks/niriss_ami_binary/mirage_sim_data', 'input_trapsfilled': '', 'flag_pers_cutoff': 40.0, 'save_persistence': False, 'save_trapsfilled': True}\n",
      "2020-09-17 16:08:51,115 - stpipe.Detector1Pipeline.persistence - INFO - Saved model in ./pipeline_calibrated_data/jw01093002001_01101_00001_nis_trapsfilled.fits\n",
      "2020-09-17 16:08:51,117 - stpipe.Detector1Pipeline.persistence - INFO - Step persistence done\n",
      "2020-09-17 16:08:51,261 - stpipe.Detector1Pipeline.dark_current - INFO - Step dark_current running with args (<RampModel(60, 12, 80, 80) from jw01093002001_01101_00001_nis_uncal.fits>,).\n",
      "2020-09-17 16:08:51,263 - stpipe.Detector1Pipeline.dark_current - INFO - Step dark_current parameters are: {'pre_hooks': [], 'post_hooks': [], 'output_file': None, 'output_dir': './pipeline_calibrated_data/', 'output_ext': '.fits', 'output_use_model': False, 'output_use_index': True, 'save_results': False, 'skip': False, 'suffix': None, 'search_output_file': True, 'input_dir': '/Users/thatte/niriss/dat_pyinthesky/jdat_notebooks/niriss_ami_binary/mirage_sim_data', 'dark_output': None}\n",
      "2020-09-17 16:08:51,273 - stpipe.Detector1Pipeline.dark_current - INFO - Using DARK reference file /Users/thatte/niriss/dat_pyinthesky/jdat_notebooks/niriss_ami_binary/ref_files_non_default/jwst_niriss_dark_sub80_sim.fits\n",
      "2020-09-17 16:08:51,353 - stpipe.Detector1Pipeline.dark_current - INFO - Science data nints=60, ngroups=12, nframes=1, groupgap=0\n",
      "2020-09-17 16:08:51,354 - stpipe.Detector1Pipeline.dark_current - INFO - Dark data nints=1, ngroups=800, nframes=1, groupgap=0\n",
      "2020-09-17 16:08:51,408 - stpipe.Detector1Pipeline.dark_current - INFO - Step dark_current done\n",
      "2020-09-17 16:08:51,532 - stpipe.Detector1Pipeline.jump - INFO - Step jump running with args (<RampModel(60, 12, 80, 80) from jw01093002001_01101_00001_nis_uncal.fits>,).\n",
      "2020-09-17 16:08:51,533 - stpipe.Detector1Pipeline.jump - INFO - Step jump parameters are: {'pre_hooks': [], 'post_hooks': [], 'output_file': None, 'output_dir': None, 'output_ext': '.fits', 'output_use_model': False, 'output_use_index': True, 'save_results': False, 'skip': False, 'suffix': None, 'search_output_file': True, 'input_dir': '/Users/thatte/niriss/dat_pyinthesky/jdat_notebooks/niriss_ami_binary/mirage_sim_data', 'rejection_threshold': 4.0, 'maximum_cores': None, 'flag_4_neighbors': True, 'max_jump_to_flag_neighbors': 200.0, 'min_jump_to_flag_neighbors': 10.0}\n",
      "2020-09-17 16:08:51,544 - stpipe.Detector1Pipeline.jump - INFO - CR rejection threshold = 4 sigma\n",
      "2020-09-17 16:08:51,761 - stpipe.Detector1Pipeline.jump - INFO - Using GAIN reference file: /grp/crds/cache/references/jwst/jwst_niriss_gain_0005.fits\n",
      "2020-09-17 16:08:55,021 - stpipe.Detector1Pipeline.jump - INFO - Using READNOISE reference file: /grp/crds/cache/references/jwst/jwst_niriss_readnoise_0004.fits\n",
      "2020-09-17 16:08:55,131 - stpipe.Detector1Pipeline.jump - INFO - Extracting gain subarray to match science data\n",
      "2020-09-17 16:08:55,133 - stpipe.Detector1Pipeline.jump - INFO - Extracting readnoise subarray to match science data\n",
      "2020-09-17 16:08:55,140 - stpipe.Detector1Pipeline.jump - INFO - Executing two-point difference method\n",
      "2020-09-17 16:08:55,199 - stpipe.Detector1Pipeline.jump - INFO -  working on integration 1\n",
      "2020-09-17 16:08:55,204 - stpipe.Detector1Pipeline.jump - INFO - From highest outlier Two point found 341 pixels with at least one CR\n",
      "2020-09-17 16:08:55,223 - stpipe.Detector1Pipeline.jump - INFO -  working on integration 2\n",
      "2020-09-17 16:08:55,227 - stpipe.Detector1Pipeline.jump - INFO - From highest outlier Two point found 344 pixels with at least one CR\n",
      "2020-09-17 16:08:55,246 - stpipe.Detector1Pipeline.jump - INFO -  working on integration 3\n",
      "2020-09-17 16:08:55,250 - stpipe.Detector1Pipeline.jump - INFO - From highest outlier Two point found 336 pixels with at least one CR\n",
      "2020-09-17 16:08:55,270 - stpipe.Detector1Pipeline.jump - INFO -  working on integration 4\n",
      "2020-09-17 16:08:55,274 - stpipe.Detector1Pipeline.jump - INFO - From highest outlier Two point found 341 pixels with at least one CR\n",
      "2020-09-17 16:08:55,291 - stpipe.Detector1Pipeline.jump - INFO -  working on integration 5\n",
      "2020-09-17 16:08:55,295 - stpipe.Detector1Pipeline.jump - INFO - From highest outlier Two point found 353 pixels with at least one CR\n",
      "2020-09-17 16:08:55,308 - stpipe.Detector1Pipeline.jump - INFO -  working on integration 6\n",
      "2020-09-17 16:08:55,312 - stpipe.Detector1Pipeline.jump - INFO - From highest outlier Two point found 348 pixels with at least one CR\n",
      "2020-09-17 16:08:55,325 - stpipe.Detector1Pipeline.jump - INFO -  working on integration 7\n",
      "2020-09-17 16:08:55,329 - stpipe.Detector1Pipeline.jump - INFO - From highest outlier Two point found 338 pixels with at least one CR\n",
      "2020-09-17 16:08:55,343 - stpipe.Detector1Pipeline.jump - INFO -  working on integration 8\n",
      "2020-09-17 16:08:55,347 - stpipe.Detector1Pipeline.jump - INFO - From highest outlier Two point found 353 pixels with at least one CR\n",
      "2020-09-17 16:08:55,362 - stpipe.Detector1Pipeline.jump - INFO -  working on integration 9\n",
      "2020-09-17 16:08:55,366 - stpipe.Detector1Pipeline.jump - INFO - From highest outlier Two point found 350 pixels with at least one CR\n",
      "2020-09-17 16:08:55,385 - stpipe.Detector1Pipeline.jump - INFO -  working on integration 10\n",
      "2020-09-17 16:08:55,389 - stpipe.Detector1Pipeline.jump - INFO - From highest outlier Two point found 350 pixels with at least one CR\n",
      "2020-09-17 16:08:55,405 - stpipe.Detector1Pipeline.jump - INFO -  working on integration 11\n",
      "2020-09-17 16:08:55,409 - stpipe.Detector1Pipeline.jump - INFO - From highest outlier Two point found 340 pixels with at least one CR\n",
      "2020-09-17 16:08:55,422 - stpipe.Detector1Pipeline.jump - INFO -  working on integration 12\n",
      "2020-09-17 16:08:55,426 - stpipe.Detector1Pipeline.jump - INFO - From highest outlier Two point found 360 pixels with at least one CR\n",
      "2020-09-17 16:08:55,446 - stpipe.Detector1Pipeline.jump - INFO -  working on integration 13\n",
      "2020-09-17 16:08:55,450 - stpipe.Detector1Pipeline.jump - INFO - From highest outlier Two point found 370 pixels with at least one CR\n",
      "2020-09-17 16:08:55,464 - stpipe.Detector1Pipeline.jump - INFO -  working on integration 14\n",
      "2020-09-17 16:08:55,467 - stpipe.Detector1Pipeline.jump - INFO - From highest outlier Two point found 335 pixels with at least one CR\n"
     ]
    },
    {
     "name": "stderr",
     "output_type": "stream",
     "text": [
      "2020-09-17 16:08:55,486 - stpipe.Detector1Pipeline.jump - INFO -  working on integration 15\n",
      "2020-09-17 16:08:55,490 - stpipe.Detector1Pipeline.jump - INFO - From highest outlier Two point found 340 pixels with at least one CR\n",
      "2020-09-17 16:08:55,509 - stpipe.Detector1Pipeline.jump - INFO -  working on integration 16\n",
      "2020-09-17 16:08:55,513 - stpipe.Detector1Pipeline.jump - INFO - From highest outlier Two point found 338 pixels with at least one CR\n",
      "2020-09-17 16:08:55,532 - stpipe.Detector1Pipeline.jump - INFO -  working on integration 17\n",
      "2020-09-17 16:08:55,535 - stpipe.Detector1Pipeline.jump - INFO - From highest outlier Two point found 342 pixels with at least one CR\n",
      "2020-09-17 16:08:55,550 - stpipe.Detector1Pipeline.jump - INFO -  working on integration 18\n",
      "2020-09-17 16:08:55,554 - stpipe.Detector1Pipeline.jump - INFO - From highest outlier Two point found 356 pixels with at least one CR\n",
      "2020-09-17 16:08:55,573 - stpipe.Detector1Pipeline.jump - INFO -  working on integration 19\n",
      "2020-09-17 16:08:55,578 - stpipe.Detector1Pipeline.jump - INFO - From highest outlier Two point found 335 pixels with at least one CR\n",
      "2020-09-17 16:08:55,596 - stpipe.Detector1Pipeline.jump - INFO -  working on integration 20\n",
      "2020-09-17 16:08:55,601 - stpipe.Detector1Pipeline.jump - INFO - From highest outlier Two point found 332 pixels with at least one CR\n",
      "2020-09-17 16:08:55,619 - stpipe.Detector1Pipeline.jump - INFO -  working on integration 21\n",
      "2020-09-17 16:08:55,623 - stpipe.Detector1Pipeline.jump - INFO - From highest outlier Two point found 335 pixels with at least one CR\n",
      "2020-09-17 16:08:55,642 - stpipe.Detector1Pipeline.jump - INFO -  working on integration 22\n",
      "2020-09-17 16:08:55,645 - stpipe.Detector1Pipeline.jump - INFO - From highest outlier Two point found 352 pixels with at least one CR\n",
      "2020-09-17 16:08:55,660 - stpipe.Detector1Pipeline.jump - INFO -  working on integration 23\n",
      "2020-09-17 16:08:55,664 - stpipe.Detector1Pipeline.jump - INFO - From highest outlier Two point found 355 pixels with at least one CR\n",
      "2020-09-17 16:08:55,679 - stpipe.Detector1Pipeline.jump - INFO -  working on integration 24\n",
      "2020-09-17 16:08:55,683 - stpipe.Detector1Pipeline.jump - INFO - From highest outlier Two point found 369 pixels with at least one CR\n",
      "2020-09-17 16:08:55,703 - stpipe.Detector1Pipeline.jump - INFO -  working on integration 25\n",
      "2020-09-17 16:08:55,707 - stpipe.Detector1Pipeline.jump - INFO - From highest outlier Two point found 358 pixels with at least one CR\n",
      "2020-09-17 16:08:55,728 - stpipe.Detector1Pipeline.jump - INFO -  working on integration 26\n",
      "2020-09-17 16:08:55,732 - stpipe.Detector1Pipeline.jump - INFO - From highest outlier Two point found 330 pixels with at least one CR\n",
      "2020-09-17 16:08:55,749 - stpipe.Detector1Pipeline.jump - INFO -  working on integration 27\n",
      "2020-09-17 16:08:55,752 - stpipe.Detector1Pipeline.jump - INFO - From highest outlier Two point found 333 pixels with at least one CR\n",
      "2020-09-17 16:08:55,768 - stpipe.Detector1Pipeline.jump - INFO -  working on integration 28\n",
      "2020-09-17 16:08:55,772 - stpipe.Detector1Pipeline.jump - INFO - From highest outlier Two point found 362 pixels with at least one CR\n",
      "2020-09-17 16:08:55,793 - stpipe.Detector1Pipeline.jump - INFO -  working on integration 29\n",
      "2020-09-17 16:08:55,797 - stpipe.Detector1Pipeline.jump - INFO - From highest outlier Two point found 350 pixels with at least one CR\n",
      "2020-09-17 16:08:55,811 - stpipe.Detector1Pipeline.jump - INFO -  working on integration 30\n",
      "2020-09-17 16:08:55,815 - stpipe.Detector1Pipeline.jump - INFO - From highest outlier Two point found 338 pixels with at least one CR\n",
      "2020-09-17 16:08:55,834 - stpipe.Detector1Pipeline.jump - INFO -  working on integration 31\n",
      "2020-09-17 16:08:55,838 - stpipe.Detector1Pipeline.jump - INFO - From highest outlier Two point found 357 pixels with at least one CR\n",
      "2020-09-17 16:08:55,858 - stpipe.Detector1Pipeline.jump - INFO -  working on integration 32\n",
      "2020-09-17 16:08:55,862 - stpipe.Detector1Pipeline.jump - INFO - From highest outlier Two point found 348 pixels with at least one CR\n",
      "2020-09-17 16:08:55,882 - stpipe.Detector1Pipeline.jump - INFO -  working on integration 33\n",
      "2020-09-17 16:08:55,886 - stpipe.Detector1Pipeline.jump - INFO - From highest outlier Two point found 337 pixels with at least one CR\n",
      "2020-09-17 16:08:55,899 - stpipe.Detector1Pipeline.jump - INFO -  working on integration 34\n",
      "2020-09-17 16:08:55,903 - stpipe.Detector1Pipeline.jump - INFO - From highest outlier Two point found 351 pixels with at least one CR\n",
      "2020-09-17 16:08:55,922 - stpipe.Detector1Pipeline.jump - INFO -  working on integration 35\n",
      "2020-09-17 16:08:55,926 - stpipe.Detector1Pipeline.jump - INFO - From highest outlier Two point found 328 pixels with at least one CR\n",
      "2020-09-17 16:08:55,940 - stpipe.Detector1Pipeline.jump - INFO -  working on integration 36\n",
      "2020-09-17 16:08:55,944 - stpipe.Detector1Pipeline.jump - INFO - From highest outlier Two point found 346 pixels with at least one CR\n",
      "2020-09-17 16:08:55,960 - stpipe.Detector1Pipeline.jump - INFO -  working on integration 37\n",
      "2020-09-17 16:08:55,964 - stpipe.Detector1Pipeline.jump - INFO - From highest outlier Two point found 343 pixels with at least one CR\n",
      "2020-09-17 16:08:55,977 - stpipe.Detector1Pipeline.jump - INFO -  working on integration 38\n",
      "2020-09-17 16:08:55,981 - stpipe.Detector1Pipeline.jump - INFO - From highest outlier Two point found 334 pixels with at least one CR\n",
      "2020-09-17 16:08:55,999 - stpipe.Detector1Pipeline.jump - INFO -  working on integration 39\n",
      "2020-09-17 16:08:56,003 - stpipe.Detector1Pipeline.jump - INFO - From highest outlier Two point found 341 pixels with at least one CR\n",
      "2020-09-17 16:08:56,022 - stpipe.Detector1Pipeline.jump - INFO -  working on integration 40\n",
      "2020-09-17 16:08:56,026 - stpipe.Detector1Pipeline.jump - INFO - From highest outlier Two point found 339 pixels with at least one CR\n",
      "2020-09-17 16:08:56,040 - stpipe.Detector1Pipeline.jump - INFO -  working on integration 41\n",
      "2020-09-17 16:08:56,044 - stpipe.Detector1Pipeline.jump - INFO - From highest outlier Two point found 340 pixels with at least one CR\n",
      "2020-09-17 16:08:56,056 - stpipe.Detector1Pipeline.jump - INFO -  working on integration 42\n",
      "2020-09-17 16:08:56,060 - stpipe.Detector1Pipeline.jump - INFO - From highest outlier Two point found 370 pixels with at least one CR\n",
      "2020-09-17 16:08:56,075 - stpipe.Detector1Pipeline.jump - INFO -  working on integration 43\n",
      "2020-09-17 16:08:56,078 - stpipe.Detector1Pipeline.jump - INFO - From highest outlier Two point found 359 pixels with at least one CR\n",
      "2020-09-17 16:08:56,098 - stpipe.Detector1Pipeline.jump - INFO -  working on integration 44\n",
      "2020-09-17 16:08:56,102 - stpipe.Detector1Pipeline.jump - INFO - From highest outlier Two point found 351 pixels with at least one CR\n",
      "2020-09-17 16:08:56,122 - stpipe.Detector1Pipeline.jump - INFO -  working on integration 45\n",
      "2020-09-17 16:08:56,125 - stpipe.Detector1Pipeline.jump - INFO - From highest outlier Two point found 338 pixels with at least one CR\n",
      "2020-09-17 16:08:56,144 - stpipe.Detector1Pipeline.jump - INFO -  working on integration 46\n",
      "2020-09-17 16:08:56,148 - stpipe.Detector1Pipeline.jump - INFO - From highest outlier Two point found 346 pixels with at least one CR\n",
      "2020-09-17 16:08:56,168 - stpipe.Detector1Pipeline.jump - INFO -  working on integration 47\n",
      "2020-09-17 16:08:56,173 - stpipe.Detector1Pipeline.jump - INFO - From highest outlier Two point found 348 pixels with at least one CR\n",
      "2020-09-17 16:08:56,189 - stpipe.Detector1Pipeline.jump - INFO -  working on integration 48\n",
      "2020-09-17 16:08:56,193 - stpipe.Detector1Pipeline.jump - INFO - From highest outlier Two point found 339 pixels with at least one CR\n",
      "2020-09-17 16:08:56,209 - stpipe.Detector1Pipeline.jump - INFO -  working on integration 49\n",
      "2020-09-17 16:08:56,214 - stpipe.Detector1Pipeline.jump - INFO - From highest outlier Two point found 336 pixels with at least one CR\n",
      "2020-09-17 16:08:56,227 - stpipe.Detector1Pipeline.jump - INFO -  working on integration 50\n",
      "2020-09-17 16:08:56,231 - stpipe.Detector1Pipeline.jump - INFO - From highest outlier Two point found 329 pixels with at least one CR\n"
     ]
    },
    {
     "name": "stderr",
     "output_type": "stream",
     "text": [
      "2020-09-17 16:08:56,250 - stpipe.Detector1Pipeline.jump - INFO -  working on integration 51\n",
      "2020-09-17 16:08:56,254 - stpipe.Detector1Pipeline.jump - INFO - From highest outlier Two point found 341 pixels with at least one CR\n",
      "2020-09-17 16:08:56,273 - stpipe.Detector1Pipeline.jump - INFO -  working on integration 52\n",
      "2020-09-17 16:08:56,277 - stpipe.Detector1Pipeline.jump - INFO - From highest outlier Two point found 349 pixels with at least one CR\n",
      "2020-09-17 16:08:56,290 - stpipe.Detector1Pipeline.jump - INFO -  working on integration 53\n",
      "2020-09-17 16:08:56,294 - stpipe.Detector1Pipeline.jump - INFO - From highest outlier Two point found 337 pixels with at least one CR\n",
      "2020-09-17 16:08:56,313 - stpipe.Detector1Pipeline.jump - INFO -  working on integration 54\n",
      "2020-09-17 16:08:56,317 - stpipe.Detector1Pipeline.jump - INFO - From highest outlier Two point found 372 pixels with at least one CR\n",
      "2020-09-17 16:08:56,337 - stpipe.Detector1Pipeline.jump - INFO -  working on integration 55\n",
      "2020-09-17 16:08:56,342 - stpipe.Detector1Pipeline.jump - INFO - From highest outlier Two point found 343 pixels with at least one CR\n",
      "2020-09-17 16:08:56,357 - stpipe.Detector1Pipeline.jump - INFO -  working on integration 56\n",
      "2020-09-17 16:08:56,361 - stpipe.Detector1Pipeline.jump - INFO - From highest outlier Two point found 355 pixels with at least one CR\n",
      "2020-09-17 16:08:56,376 - stpipe.Detector1Pipeline.jump - INFO -  working on integration 57\n",
      "2020-09-17 16:08:56,379 - stpipe.Detector1Pipeline.jump - INFO - From highest outlier Two point found 363 pixels with at least one CR\n",
      "2020-09-17 16:08:56,394 - stpipe.Detector1Pipeline.jump - INFO -  working on integration 58\n",
      "2020-09-17 16:08:56,398 - stpipe.Detector1Pipeline.jump - INFO - From highest outlier Two point found 341 pixels with at least one CR\n",
      "2020-09-17 16:08:56,417 - stpipe.Detector1Pipeline.jump - INFO -  working on integration 59\n",
      "2020-09-17 16:08:56,421 - stpipe.Detector1Pipeline.jump - INFO - From highest outlier Two point found 342 pixels with at least one CR\n",
      "2020-09-17 16:08:56,440 - stpipe.Detector1Pipeline.jump - INFO -  working on integration 60\n",
      "2020-09-17 16:08:56,443 - stpipe.Detector1Pipeline.jump - INFO - From highest outlier Two point found 362 pixels with at least one CR\n",
      "2020-09-17 16:08:56,595 - stpipe.Detector1Pipeline.jump - INFO - Total elapsed time = 1.45465 sec\n",
      "2020-09-17 16:08:56,597 - stpipe.Detector1Pipeline.jump - INFO - The execution time in seconds: 5.052528\n",
      "2020-09-17 16:08:56,599 - stpipe.Detector1Pipeline.jump - INFO - Step jump done\n",
      "2020-09-17 16:08:56,750 - stpipe.Detector1Pipeline.ramp_fit - INFO - Step ramp_fit running with args (<RampModel(60, 12, 80, 80) from jw01093002001_01101_00001_nis_uncal.fits>,).\n",
      "2020-09-17 16:08:56,753 - stpipe.Detector1Pipeline.ramp_fit - INFO - Step ramp_fit parameters are: {'pre_hooks': [], 'post_hooks': [], 'output_file': None, 'output_dir': './pipeline_calibrated_data/', 'output_ext': '.fits', 'output_use_model': False, 'output_use_index': True, 'save_results': False, 'skip': False, 'suffix': None, 'search_output_file': True, 'input_dir': '/Users/thatte/niriss/dat_pyinthesky/jdat_notebooks/niriss_ami_binary/mirage_sim_data', 'int_name': '', 'save_opt': False, 'opt_name': ''}\n",
      "2020-09-17 16:08:56,842 - stpipe.Detector1Pipeline.ramp_fit - INFO - Using READNOISE reference file: /grp/crds/cache/references/jwst/jwst_niriss_readnoise_0004.fits\n",
      "2020-09-17 16:08:56,911 - stpipe.Detector1Pipeline.ramp_fit - INFO - Using GAIN reference file: /grp/crds/cache/references/jwst/jwst_niriss_gain_0005.fits\n",
      "2020-09-17 16:08:56,980 - stpipe.Detector1Pipeline.ramp_fit - INFO - Using algorithm = ols\n",
      "2020-09-17 16:08:56,980 - stpipe.Detector1Pipeline.ramp_fit - INFO - Using weighting = optimal\n",
      "2020-09-17 16:08:56,981 - stpipe.Detector1Pipeline.ramp_fit - INFO - Effective integration time per group: 0.07544000000000001\n",
      "2020-09-17 16:08:56,990 - stpipe.Detector1Pipeline.ramp_fit - INFO - Extracting gain subarray to match science data\n",
      "2020-09-17 16:08:56,992 - stpipe.Detector1Pipeline.ramp_fit - INFO - Extracting readnoise subarray to match science data\n",
      "2020-09-17 16:08:59,215 - stpipe.Detector1Pipeline.ramp_fit - INFO - Number of groups per integration: 12\n",
      "2020-09-17 16:08:59,215 - stpipe.Detector1Pipeline.ramp_fit - INFO - Number of integrations: 60\n",
      "2020-09-17 16:08:59,237 - stpipe.Detector1Pipeline.ramp_fit - INFO - Step ramp_fit done\n",
      "2020-09-17 16:08:59,383 - stpipe.Detector1Pipeline.gain_scale - INFO - Step gain_scale running with args (<ImageModel(80, 80) from jw01093002001_01101_00001_nis_uncal.fits>,).\n",
      "2020-09-17 16:08:59,386 - stpipe.Detector1Pipeline.gain_scale - INFO - Step gain_scale parameters are: {'pre_hooks': [], 'post_hooks': [], 'output_file': None, 'output_dir': None, 'output_ext': '.fits', 'output_use_model': False, 'output_use_index': True, 'save_results': False, 'skip': False, 'suffix': 'gain_scale', 'search_output_file': True, 'input_dir': '/Users/thatte/niriss/dat_pyinthesky/jdat_notebooks/niriss_ami_binary/mirage_sim_data'}\n",
      "2020-09-17 16:08:59,501 - stpipe.Detector1Pipeline.gain_scale - INFO - GAINFACT not found in gain reference file\n",
      "2020-09-17 16:08:59,502 - stpipe.Detector1Pipeline.gain_scale - INFO - Step will be skipped\n",
      "2020-09-17 16:08:59,504 - stpipe.Detector1Pipeline.gain_scale - INFO - Step gain_scale done\n",
      "2020-09-17 16:08:59,647 - stpipe.Detector1Pipeline.gain_scale - INFO - Step gain_scale running with args (<CubeModel(60, 80, 80) from jw01093002001_01101_00001_nis_uncal.fits>,).\n",
      "2020-09-17 16:08:59,650 - stpipe.Detector1Pipeline.gain_scale - INFO - Step gain_scale parameters are: {'pre_hooks': [], 'post_hooks': [], 'output_file': None, 'output_dir': None, 'output_ext': '.fits', 'output_use_model': False, 'output_use_index': True, 'save_results': False, 'skip': False, 'suffix': 'gain_scaleints', 'search_output_file': True, 'input_dir': '/Users/thatte/niriss/dat_pyinthesky/jdat_notebooks/niriss_ami_binary/mirage_sim_data'}\n",
      "2020-09-17 16:08:59,776 - stpipe.Detector1Pipeline.gain_scale - INFO - GAINFACT not found in gain reference file\n",
      "2020-09-17 16:08:59,777 - stpipe.Detector1Pipeline.gain_scale - INFO - Step will be skipped\n",
      "2020-09-17 16:08:59,779 - stpipe.Detector1Pipeline.gain_scale - INFO - Step gain_scale done\n",
      "2020-09-17 16:08:59,969 - stpipe.Detector1Pipeline - INFO - Saved model in ./pipeline_calibrated_data/jw01093002001_01101_00001_nis_rateints.fits\n",
      "2020-09-17 16:08:59,970 - stpipe.Detector1Pipeline - INFO - ... ending calwebb_detector1\n",
      "2020-09-17 16:09:00,037 - stpipe.Detector1Pipeline - INFO - Saved model in ./pipeline_calibrated_data/jw01093002001_01101_00001_nis_rate.fits\n",
      "2020-09-17 16:09:00,038 - stpipe.Detector1Pipeline - INFO - Step Detector1Pipeline done\n",
      "2020-09-17 16:09:00,125 - stpipe.Image2Pipeline - INFO - Image2Pipeline instance created.\n",
      "2020-09-17 16:09:00,127 - stpipe.Image2Pipeline.bkg_subtract - INFO - BackgroundStep instance created.\n",
      "2020-09-17 16:09:00,129 - stpipe.Image2Pipeline.assign_wcs - INFO - AssignWcsStep instance created.\n",
      "2020-09-17 16:09:00,132 - stpipe.Image2Pipeline.flat_field - INFO - FlatFieldStep instance created.\n",
      "2020-09-17 16:09:00,134 - stpipe.Image2Pipeline.photom - INFO - PhotomStep instance created.\n",
      "2020-09-17 16:09:00,136 - stpipe.Image2Pipeline.resample - INFO - ResampleStep instance created.\n",
      "2020-09-17 16:09:00,205 - stpipe.Image2Pipeline - INFO - Step Image2Pipeline running with args ('./pipeline_calibrated_data/jw01093002001_01101_00001_nis_rate.fits',).\n",
      "2020-09-17 16:09:00,216 - stpipe.Image2Pipeline - INFO - Step Image2Pipeline parameters are: {'pre_hooks': [], 'post_hooks': [], 'output_file': None, 'output_dir': './pipeline_calibrated_data/', 'output_ext': '.fits', 'output_use_model': False, 'output_use_index': True, 'save_results': True, 'skip': False, 'suffix': None, 'search_output_file': True, 'input_dir': '', 'save_bsub': False, 'steps': {'bkg_subtract': {'pre_hooks': [], 'post_hooks': [], 'output_file': None, 'output_dir': None, 'output_ext': '.fits', 'output_use_model': False, 'output_use_index': True, 'save_results': False, 'skip': False, 'suffix': None, 'search_output_file': True, 'input_dir': '', 'sigma': 3.0, 'maxiters': None}, 'assign_wcs': {'pre_hooks': [], 'post_hooks': [], 'output_file': None, 'output_dir': None, 'output_ext': '.fits', 'output_use_model': False, 'output_use_index': True, 'save_results': False, 'skip': False, 'suffix': None, 'search_output_file': True, 'input_dir': '', 'slit_y_low': -0.55, 'slit_y_high': 0.55}, 'flat_field': {'pre_hooks': [], 'post_hooks': [], 'output_file': None, 'output_dir': None, 'output_ext': '.fits', 'output_use_model': False, 'output_use_index': True, 'save_results': False, 'skip': False, 'suffix': None, 'search_output_file': True, 'input_dir': '', 'save_interpolated_flat': False}, 'photom': {'pre_hooks': [], 'post_hooks': [], 'output_file': None, 'output_dir': None, 'output_ext': '.fits', 'output_use_model': False, 'output_use_index': True, 'save_results': False, 'skip': True, 'suffix': None, 'search_output_file': True, 'input_dir': ''}, 'resample': {'pre_hooks': [], 'post_hooks': [], 'output_file': None, 'output_dir': None, 'output_ext': '.fits', 'output_use_model': False, 'output_use_index': True, 'save_results': False, 'skip': True, 'suffix': None, 'search_output_file': True, 'input_dir': '', 'pixfrac': 1.0, 'kernel': 'square', 'fillval': 'INDEF', 'weight_type': 'exptime', 'single': False, 'blendheaders': True}}}\n"
     ]
    },
    {
     "name": "stderr",
     "output_type": "stream",
     "text": [
      "2020-09-17 16:09:00,321 - stpipe.Image2Pipeline - INFO - Prefetching reference files for dataset: 'jw01093002001_01101_00001_nis_rate.fits' reftypes = ['camera', 'collimator', 'dflat', 'disperser', 'distortion', 'fflat', 'filteroffset', 'fore', 'fpa', 'ifufore', 'ifupost', 'ifuslicer', 'msa', 'ote', 'regions', 'sflat', 'specwcs', 'wavelengthrange', 'wfssbkg']\n",
      "2020-09-17 16:09:00,348 - stpipe.Image2Pipeline - INFO - Prefetch for CAMERA reference file is 'N/A'.\n",
      "2020-09-17 16:09:00,349 - stpipe.Image2Pipeline - INFO - Prefetch for COLLIMATOR reference file is 'N/A'.\n",
      "2020-09-17 16:09:00,350 - stpipe.Image2Pipeline - INFO - Prefetch for DFLAT reference file is 'N/A'.\n",
      "2020-09-17 16:09:00,351 - stpipe.Image2Pipeline - INFO - Prefetch for DISPERSER reference file is 'N/A'.\n",
      "2020-09-17 16:09:00,351 - stpipe.Image2Pipeline - INFO - Prefetch for DISTORTION reference file is '/grp/crds/cache/references/jwst/jwst_niriss_distortion_0010.asdf'.\n",
      "2020-09-17 16:09:00,377 - stpipe.Image2Pipeline - INFO - Prefetch for FFLAT reference file is 'N/A'.\n",
      "2020-09-17 16:09:00,378 - stpipe.Image2Pipeline - INFO - Prefetch for FILTEROFFSET reference file is 'N/A'.\n",
      "2020-09-17 16:09:00,380 - stpipe.Image2Pipeline - INFO - Override for FLAT reference file is '/Users/thatte/niriss/dat_pyinthesky/jdat_notebooks/niriss_ami_binary/ref_files_non_default/jwst_niriss_flat_general.fits'.\n",
      "2020-09-17 16:09:00,382 - stpipe.Image2Pipeline - INFO - Prefetch for FORE reference file is 'N/A'.\n",
      "2020-09-17 16:09:00,383 - stpipe.Image2Pipeline - INFO - Prefetch for FPA reference file is 'N/A'.\n",
      "2020-09-17 16:09:00,384 - stpipe.Image2Pipeline - INFO - Prefetch for IFUFORE reference file is 'N/A'.\n",
      "2020-09-17 16:09:00,385 - stpipe.Image2Pipeline - INFO - Prefetch for IFUPOST reference file is 'N/A'.\n",
      "2020-09-17 16:09:00,385 - stpipe.Image2Pipeline - INFO - Prefetch for IFUSLICER reference file is 'N/A'.\n",
      "2020-09-17 16:09:00,386 - stpipe.Image2Pipeline - INFO - Prefetch for MSA reference file is 'N/A'.\n",
      "2020-09-17 16:09:00,387 - stpipe.Image2Pipeline - INFO - Prefetch for OTE reference file is 'N/A'.\n",
      "2020-09-17 16:09:00,387 - stpipe.Image2Pipeline - INFO - Prefetch for REGIONS reference file is 'N/A'.\n",
      "2020-09-17 16:09:00,388 - stpipe.Image2Pipeline - INFO - Prefetch for SFLAT reference file is 'N/A'.\n",
      "2020-09-17 16:09:00,389 - stpipe.Image2Pipeline - INFO - Prefetch for SPECWCS reference file is 'N/A'.\n",
      "2020-09-17 16:09:00,389 - stpipe.Image2Pipeline - INFO - Prefetch for WAVELENGTHRANGE reference file is 'N/A'.\n",
      "2020-09-17 16:09:00,390 - stpipe.Image2Pipeline - INFO - Prefetch for WFSSBKG reference file is 'N/A'.\n",
      "2020-09-17 16:09:00,391 - stpipe.Image2Pipeline - INFO - Starting calwebb_image2 ...\n",
      "2020-09-17 16:09:00,392 - stpipe.Image2Pipeline - INFO - Processing product ./pipeline_calibrated_data/jw01093002001_01101_00001_nis\n",
      "2020-09-17 16:09:00,393 - stpipe.Image2Pipeline - INFO - Working on input ./pipeline_calibrated_data/jw01093002001_01101_00001_nis_rate.fits ...\n",
      "2020-09-17 16:09:00,550 - stpipe.Image2Pipeline.assign_wcs - INFO - Step assign_wcs running with args (<ImageModel(80, 80) from jw01093002001_01101_00001_nis_rate.fits>,).\n",
      "2020-09-17 16:09:00,553 - stpipe.Image2Pipeline.assign_wcs - INFO - Step assign_wcs parameters are: {'pre_hooks': [], 'post_hooks': [], 'output_file': None, 'output_dir': None, 'output_ext': '.fits', 'output_use_model': False, 'output_use_index': True, 'save_results': False, 'skip': False, 'suffix': None, 'search_output_file': True, 'input_dir': './pipeline_calibrated_data', 'slit_y_low': -0.55, 'slit_y_high': 0.55}\n",
      "2020-09-17 16:09:01,327 - stpipe.Image2Pipeline.assign_wcs - WARNING - /Users/thatte/anaconda3/envs/mirage_08052020/lib/python3.6/site-packages/gwcs/wcs.py:131: VisibleDeprecationWarning: Creating an ndarray from ragged nested sequences (which is a list-or-tuple of lists-or-tuples-or ndarrays with different lengths or shapes) is deprecated. If you meant to do this, you must specify 'dtype=object' when creating the ndarray\n",
      "  transforms = np.array(self._pipeline[from_ind: to_ind])[:, 1].copy()\n",
      "\n",
      "2020-09-17 16:09:01,344 - stpipe.Image2Pipeline.assign_wcs - INFO - Update S_REGION to POLYGON ICRS  82.782245485 -65.128874321 82.785498777 -65.129332450 82.786565190 -65.127969454 82.783311897 -65.127511385\n",
      "2020-09-17 16:09:01,345 - stpipe.Image2Pipeline.assign_wcs - INFO - assign_wcs updated S_REGION to POLYGON ICRS  82.782245485 -65.128874321 82.785498777 -65.129332450 82.786565190 -65.127969454 82.783311897 -65.127511385\n",
      "2020-09-17 16:09:01,346 - stpipe.Image2Pipeline.assign_wcs - INFO - COMPLETED assign_wcs\n",
      "2020-09-17 16:09:01,351 - stpipe.Image2Pipeline.assign_wcs - INFO - Step assign_wcs done\n",
      "2020-09-17 16:09:01,492 - stpipe.Image2Pipeline.flat_field - INFO - Step flat_field running with args (<ImageModel(80, 80) from jw01093002001_01101_00001_nis_rate.fits>,).\n",
      "2020-09-17 16:09:01,494 - stpipe.Image2Pipeline.flat_field - INFO - Step flat_field parameters are: {'pre_hooks': [], 'post_hooks': [], 'output_file': None, 'output_dir': None, 'output_ext': '.fits', 'output_use_model': False, 'output_use_index': True, 'save_results': False, 'skip': False, 'suffix': None, 'search_output_file': True, 'input_dir': './pipeline_calibrated_data', 'save_interpolated_flat': False}\n",
      "2020-09-17 16:09:01,620 - stpipe.Image2Pipeline.flat_field - WARNING - Keyword CDP_INTERNAL_FLAT does not correspond to an existing DQ mnemonic, so will be ignored\n",
      "2020-09-17 16:09:01,715 - stpipe.Image2Pipeline.flat_field - INFO - Extracting matching subarray from flat\n",
      "2020-09-17 16:09:01,727 - stpipe.Image2Pipeline.flat_field - INFO - Step flat_field done\n",
      "2020-09-17 16:09:01,845 - stpipe.Image2Pipeline.photom - INFO - Step photom running with args (<ImageModel(80, 80) from jw01093002001_01101_00001_nis_rate.fits>,).\n",
      "2020-09-17 16:09:01,847 - stpipe.Image2Pipeline.photom - INFO - Step photom parameters are: {'pre_hooks': [], 'post_hooks': [], 'output_file': None, 'output_dir': None, 'output_ext': '.fits', 'output_use_model': False, 'output_use_index': True, 'save_results': False, 'skip': True, 'suffix': None, 'search_output_file': True, 'input_dir': './pipeline_calibrated_data'}\n",
      "2020-09-17 16:09:01,848 - stpipe.Image2Pipeline.photom - INFO - Step skipped.\n",
      "2020-09-17 16:09:01,849 - stpipe.Image2Pipeline.photom - INFO - Step photom done\n",
      "2020-09-17 16:09:01,909 - stpipe.Image2Pipeline - INFO - Finished processing product ./pipeline_calibrated_data/jw01093002001_01101_00001_nis\n",
      "2020-09-17 16:09:01,910 - stpipe.Image2Pipeline - INFO - ... ending calwebb_image2\n",
      "2020-09-17 16:09:01,973 - stpipe.Image2Pipeline - WARNING - /Users/thatte/anaconda3/envs/mirage_08052020/lib/python3.6/site-packages/gwcs/wcs.py:131: VisibleDeprecationWarning: Creating an ndarray from ragged nested sequences (which is a list-or-tuple of lists-or-tuples-or ndarrays with different lengths or shapes) is deprecated. If you meant to do this, you must specify 'dtype=object' when creating the ndarray\n",
      "  transforms = np.array(self._pipeline[from_ind: to_ind])[:, 1].copy()\n",
      "\n",
      "2020-09-17 16:09:02,061 - stpipe.Image2Pipeline - INFO - Saved model in ./pipeline_calibrated_data/jw01093002001_01101_00001_nis_cal.fits\n",
      "2020-09-17 16:09:02,062 - stpipe.Image2Pipeline - INFO - Step Image2Pipeline done\n",
      "2020-09-17 16:09:02,124 - stpipe.Image2Pipeline - INFO - Image2Pipeline instance created.\n",
      "2020-09-17 16:09:02,125 - stpipe.Image2Pipeline.bkg_subtract - INFO - BackgroundStep instance created.\n",
      "2020-09-17 16:09:02,127 - stpipe.Image2Pipeline.assign_wcs - INFO - AssignWcsStep instance created.\n",
      "2020-09-17 16:09:02,129 - stpipe.Image2Pipeline.flat_field - INFO - FlatFieldStep instance created.\n",
      "2020-09-17 16:09:02,131 - stpipe.Image2Pipeline.photom - INFO - PhotomStep instance created.\n",
      "2020-09-17 16:09:02,132 - stpipe.Image2Pipeline.resample - INFO - ResampleStep instance created.\n",
      "2020-09-17 16:09:02,190 - stpipe.Image2Pipeline - INFO - Step Image2Pipeline running with args ('./pipeline_calibrated_data/jw01093002001_01101_00001_nis_rateints.fits',).\n",
      "2020-09-17 16:09:02,195 - stpipe.Image2Pipeline - INFO - Step Image2Pipeline parameters are: {'pre_hooks': [], 'post_hooks': [], 'output_file': None, 'output_dir': './pipeline_calibrated_data/', 'output_ext': '.fits', 'output_use_model': False, 'output_use_index': True, 'save_results': True, 'skip': False, 'suffix': None, 'search_output_file': True, 'input_dir': '', 'save_bsub': False, 'steps': {'bkg_subtract': {'pre_hooks': [], 'post_hooks': [], 'output_file': None, 'output_dir': None, 'output_ext': '.fits', 'output_use_model': False, 'output_use_index': True, 'save_results': False, 'skip': False, 'suffix': None, 'search_output_file': True, 'input_dir': '', 'sigma': 3.0, 'maxiters': None}, 'assign_wcs': {'pre_hooks': [], 'post_hooks': [], 'output_file': None, 'output_dir': None, 'output_ext': '.fits', 'output_use_model': False, 'output_use_index': True, 'save_results': False, 'skip': False, 'suffix': None, 'search_output_file': True, 'input_dir': '', 'slit_y_low': -0.55, 'slit_y_high': 0.55}, 'flat_field': {'pre_hooks': [], 'post_hooks': [], 'output_file': None, 'output_dir': None, 'output_ext': '.fits', 'output_use_model': False, 'output_use_index': True, 'save_results': False, 'skip': False, 'suffix': None, 'search_output_file': True, 'input_dir': '', 'save_interpolated_flat': False}, 'photom': {'pre_hooks': [], 'post_hooks': [], 'output_file': None, 'output_dir': None, 'output_ext': '.fits', 'output_use_model': False, 'output_use_index': True, 'save_results': False, 'skip': True, 'suffix': None, 'search_output_file': True, 'input_dir': ''}, 'resample': {'pre_hooks': [], 'post_hooks': [], 'output_file': None, 'output_dir': None, 'output_ext': '.fits', 'output_use_model': False, 'output_use_index': True, 'save_results': False, 'skip': True, 'suffix': None, 'search_output_file': True, 'input_dir': '', 'pixfrac': 1.0, 'kernel': 'square', 'fillval': 'INDEF', 'weight_type': 'exptime', 'single': False, 'blendheaders': True}}}\n"
     ]
    },
    {
     "name": "stderr",
     "output_type": "stream",
     "text": [
      "2020-09-17 16:09:02,310 - stpipe.Image2Pipeline - INFO - Prefetching reference files for dataset: 'jw01093002001_01101_00001_nis_rateints.fits' reftypes = ['camera', 'collimator', 'dflat', 'disperser', 'distortion', 'fflat', 'filteroffset', 'fore', 'fpa', 'ifufore', 'ifupost', 'ifuslicer', 'msa', 'ote', 'regions', 'sflat', 'specwcs', 'wavelengthrange', 'wfssbkg']\n",
      "2020-09-17 16:09:02,338 - stpipe.Image2Pipeline - INFO - Prefetch for CAMERA reference file is 'N/A'.\n",
      "2020-09-17 16:09:02,339 - stpipe.Image2Pipeline - INFO - Prefetch for COLLIMATOR reference file is 'N/A'.\n",
      "2020-09-17 16:09:02,340 - stpipe.Image2Pipeline - INFO - Prefetch for DFLAT reference file is 'N/A'.\n",
      "2020-09-17 16:09:02,341 - stpipe.Image2Pipeline - INFO - Prefetch for DISPERSER reference file is 'N/A'.\n",
      "2020-09-17 16:09:02,342 - stpipe.Image2Pipeline - INFO - Prefetch for DISTORTION reference file is '/grp/crds/cache/references/jwst/jwst_niriss_distortion_0010.asdf'.\n",
      "2020-09-17 16:09:02,366 - stpipe.Image2Pipeline - INFO - Prefetch for FFLAT reference file is 'N/A'.\n",
      "2020-09-17 16:09:02,367 - stpipe.Image2Pipeline - INFO - Prefetch for FILTEROFFSET reference file is 'N/A'.\n",
      "2020-09-17 16:09:02,367 - stpipe.Image2Pipeline - INFO - Override for FLAT reference file is '/Users/thatte/niriss/dat_pyinthesky/jdat_notebooks/niriss_ami_binary/ref_files_non_default/jwst_niriss_flat_general.fits'.\n",
      "2020-09-17 16:09:02,368 - stpipe.Image2Pipeline - INFO - Prefetch for FORE reference file is 'N/A'.\n",
      "2020-09-17 16:09:02,369 - stpipe.Image2Pipeline - INFO - Prefetch for FPA reference file is 'N/A'.\n",
      "2020-09-17 16:09:02,369 - stpipe.Image2Pipeline - INFO - Prefetch for IFUFORE reference file is 'N/A'.\n",
      "2020-09-17 16:09:02,370 - stpipe.Image2Pipeline - INFO - Prefetch for IFUPOST reference file is 'N/A'.\n",
      "2020-09-17 16:09:02,371 - stpipe.Image2Pipeline - INFO - Prefetch for IFUSLICER reference file is 'N/A'.\n",
      "2020-09-17 16:09:02,372 - stpipe.Image2Pipeline - INFO - Prefetch for MSA reference file is 'N/A'.\n",
      "2020-09-17 16:09:02,373 - stpipe.Image2Pipeline - INFO - Prefetch for OTE reference file is 'N/A'.\n",
      "2020-09-17 16:09:02,374 - stpipe.Image2Pipeline - INFO - Prefetch for REGIONS reference file is 'N/A'.\n",
      "2020-09-17 16:09:02,374 - stpipe.Image2Pipeline - INFO - Prefetch for SFLAT reference file is 'N/A'.\n",
      "2020-09-17 16:09:02,375 - stpipe.Image2Pipeline - INFO - Prefetch for SPECWCS reference file is 'N/A'.\n",
      "2020-09-17 16:09:02,376 - stpipe.Image2Pipeline - INFO - Prefetch for WAVELENGTHRANGE reference file is 'N/A'.\n",
      "2020-09-17 16:09:02,376 - stpipe.Image2Pipeline - INFO - Prefetch for WFSSBKG reference file is 'N/A'.\n",
      "2020-09-17 16:09:02,378 - stpipe.Image2Pipeline - INFO - Starting calwebb_image2 ...\n",
      "2020-09-17 16:09:02,378 - stpipe.Image2Pipeline - INFO - Processing product ./pipeline_calibrated_data/jw01093002001_01101_00001_nis\n",
      "2020-09-17 16:09:02,379 - stpipe.Image2Pipeline - INFO - Working on input ./pipeline_calibrated_data/jw01093002001_01101_00001_nis_rateints.fits ...\n",
      "2020-09-17 16:09:02,545 - stpipe.Image2Pipeline.assign_wcs - INFO - Step assign_wcs running with args (<CubeModel(60, 80, 80) from jw01093002001_01101_00001_nis_rateints.fits>,).\n",
      "2020-09-17 16:09:02,547 - stpipe.Image2Pipeline.assign_wcs - INFO - Step assign_wcs parameters are: {'pre_hooks': [], 'post_hooks': [], 'output_file': None, 'output_dir': None, 'output_ext': '.fits', 'output_use_model': False, 'output_use_index': True, 'save_results': False, 'skip': False, 'suffix': None, 'search_output_file': True, 'input_dir': './pipeline_calibrated_data', 'slit_y_low': -0.55, 'slit_y_high': 0.55}\n",
      "2020-09-17 16:09:03,317 - stpipe.Image2Pipeline.assign_wcs - WARNING - /Users/thatte/anaconda3/envs/mirage_08052020/lib/python3.6/site-packages/gwcs/wcs.py:131: VisibleDeprecationWarning: Creating an ndarray from ragged nested sequences (which is a list-or-tuple of lists-or-tuples-or ndarrays with different lengths or shapes) is deprecated. If you meant to do this, you must specify 'dtype=object' when creating the ndarray\n",
      "  transforms = np.array(self._pipeline[from_ind: to_ind])[:, 1].copy()\n",
      "\n",
      "2020-09-17 16:09:03,334 - stpipe.Image2Pipeline.assign_wcs - INFO - Update S_REGION to POLYGON ICRS  82.782245485 -65.128874321 82.785498777 -65.129332450 82.786565190 -65.127969454 82.783311897 -65.127511385\n",
      "2020-09-17 16:09:03,335 - stpipe.Image2Pipeline.assign_wcs - INFO - assign_wcs updated S_REGION to POLYGON ICRS  82.782245485 -65.128874321 82.785498777 -65.129332450 82.786565190 -65.127969454 82.783311897 -65.127511385\n",
      "2020-09-17 16:09:03,336 - stpipe.Image2Pipeline.assign_wcs - INFO - COMPLETED assign_wcs\n",
      "2020-09-17 16:09:03,340 - stpipe.Image2Pipeline.assign_wcs - INFO - Step assign_wcs done\n",
      "2020-09-17 16:09:03,473 - stpipe.Image2Pipeline.flat_field - INFO - Step flat_field running with args (<CubeModel(60, 80, 80) from jw01093002001_01101_00001_nis_rateints.fits>,).\n",
      "2020-09-17 16:09:03,475 - stpipe.Image2Pipeline.flat_field - INFO - Step flat_field parameters are: {'pre_hooks': [], 'post_hooks': [], 'output_file': None, 'output_dir': None, 'output_ext': '.fits', 'output_use_model': False, 'output_use_index': True, 'save_results': False, 'skip': False, 'suffix': None, 'search_output_file': True, 'input_dir': './pipeline_calibrated_data', 'save_interpolated_flat': False}\n",
      "2020-09-17 16:09:03,574 - stpipe.Image2Pipeline.flat_field - WARNING - Keyword CDP_INTERNAL_FLAT does not correspond to an existing DQ mnemonic, so will be ignored\n",
      "2020-09-17 16:09:03,672 - stpipe.Image2Pipeline.flat_field - INFO - Extracting matching subarray from flat\n",
      "2020-09-17 16:09:03,688 - stpipe.Image2Pipeline.flat_field - INFO - Step flat_field done\n",
      "2020-09-17 16:09:03,837 - stpipe.Image2Pipeline.photom - INFO - Step photom running with args (<CubeModel(60, 80, 80) from jw01093002001_01101_00001_nis_rateints.fits>,).\n",
      "2020-09-17 16:09:03,839 - stpipe.Image2Pipeline.photom - INFO - Step photom parameters are: {'pre_hooks': [], 'post_hooks': [], 'output_file': None, 'output_dir': None, 'output_ext': '.fits', 'output_use_model': False, 'output_use_index': True, 'save_results': False, 'skip': True, 'suffix': None, 'search_output_file': True, 'input_dir': './pipeline_calibrated_data'}\n",
      "2020-09-17 16:09:03,840 - stpipe.Image2Pipeline.photom - INFO - Step skipped.\n",
      "2020-09-17 16:09:03,842 - stpipe.Image2Pipeline.photom - INFO - Step photom done\n",
      "2020-09-17 16:09:03,914 - stpipe.Image2Pipeline - INFO - Finished processing product ./pipeline_calibrated_data/jw01093002001_01101_00001_nis\n",
      "2020-09-17 16:09:03,918 - stpipe.Image2Pipeline - INFO - ... ending calwebb_image2\n",
      "2020-09-17 16:09:03,998 - stpipe.Image2Pipeline - WARNING - /Users/thatte/anaconda3/envs/mirage_08052020/lib/python3.6/site-packages/gwcs/wcs.py:131: VisibleDeprecationWarning: Creating an ndarray from ragged nested sequences (which is a list-or-tuple of lists-or-tuples-or ndarrays with different lengths or shapes) is deprecated. If you meant to do this, you must specify 'dtype=object' when creating the ndarray\n",
      "  transforms = np.array(self._pipeline[from_ind: to_ind])[:, 1].copy()\n",
      "\n",
      "2020-09-17 16:09:04,132 - stpipe.Image2Pipeline - INFO - Saved model in ./pipeline_calibrated_data/jw01093002001_01101_00001_nis_calints.fits\n",
      "2020-09-17 16:09:04,133 - stpipe.Image2Pipeline - INFO - Step Image2Pipeline done\n"
     ]
    }
   ],
   "source": [
    "datafiles = sorted(glob.glob(mirage_sim_dir + 'jw*uncal.fits'))\n",
    "print(datafiles)\n",
    "for df in datafiles:\n",
    "#Run Detector1, Image 2 pipelines\n",
    "    result1 = Detector1Pipeline()\n",
    "    superbiasfile = refdir + 'jwst_niriss_superbias_sim.fits'\n",
    "    darkfile = refdir + 'jwst_niriss_dark_sub80_sim.fits'\n",
    "    result1.superbias.override_superbias = superbiasfile\n",
    "    result1.dark_current.override_dark = darkfile\n",
    "    result1.ipc.skip = True\n",
    "    result1.save_results = True\n",
    "    result1.output_dir = odir\n",
    "    result1.run(df)\n",
    "                \n",
    "    df_rate = odir + os.path.basename(df.replace('uncal','rate'))\n",
    "    flatfieldfile = refdir + \"jwst_niriss_flat_general.fits\"\n",
    "    result2 = Image2Pipeline()        \n",
    "    result2.flat_field.override_flat = flatfieldfile\n",
    "    result2.photom.skip = True\n",
    "    result2.resample.skip = True\n",
    "    result2.save_results = True\n",
    "    result2.output_dir = odir\n",
    "    result2.run(df_rate)\n",
    "\n",
    "    df_rateints = odir + os.path.basename(df.replace('uncal','rateints'))\n",
    "    result3 = Image2Pipeline()\n",
    "    result3.flat_field.override_flat = flatfieldfile\n",
    "    result3.photom.skip = True\n",
    "    result3.resample.skip = True\n",
    "    result3.save_results = True\n",
    "    result3.output_dir = odir\n",
    "    result3.run(df_rateints)   \n",
    "        "
   ]
  },
  {
   "cell_type": "markdown",
   "metadata": {},
   "source": [
    "## Examine the output files"
   ]
  },
  {
   "cell_type": "code",
   "execution_count": 40,
   "metadata": {},
   "outputs": [
    {
     "name": "stdout",
     "output_type": "stream",
     "text": [
      "['./pipeline_calibrated_data/jw01093001001_01101_00001_nis_rate.fits', './pipeline_calibrated_data/jw01093002001_01101_00001_nis_rate.fits']\n",
      "['./pipeline_calibrated_data/jw01093001001_01101_00001_nis_rateints.fits', './pipeline_calibrated_data/jw01093002001_01101_00001_nis_rateints.fits']\n",
      "['./pipeline_calibrated_data/jw01093001001_01101_00001_nis_cal.fits', './pipeline_calibrated_data/jw01093002001_01101_00001_nis_cal.fits']\n",
      "['./pipeline_calibrated_data/jw01093001001_01101_00001_nis_calints.fits', './pipeline_calibrated_data/jw01093002001_01101_00001_nis_calints.fits']\n"
     ]
    }
   ],
   "source": [
    "ratefiles = sorted(glob.glob(odir + 'jw*rate.fits'))\n",
    "print(ratefiles)\n",
    "rateintsfiles = sorted(glob.glob(odir + 'jw*rateints.fits'))\n",
    "print(rateintsfiles)\n",
    "calfiles = sorted(glob.glob(odir + 'jw*cal.fits'))\n",
    "print(calfiles)\n",
    "calintsfiles = sorted(glob.glob(odir + 'jw*calints.fits'))\n",
    "print(calintsfiles)"
   ]
  },
  {
   "cell_type": "markdown",
   "metadata": {},
   "source": [
    "### rate and rateints files"
   ]
  },
  {
   "cell_type": "code",
   "execution_count": 43,
   "metadata": {},
   "outputs": [
    {
     "name": "stderr",
     "output_type": "stream",
     "text": [
      "2020-09-17 16:16:14,837 - stpipe - WARNING - /Users/thatte/anaconda3/envs/mirage_08052020/lib/python3.6/site-packages/ipykernel_launcher.py:2: ResourceWarning: unclosed file <_io.FileIO name='./pipeline_calibrated_data/jw01093002001_01101_00001_nis_rateints.fits' mode='rb' closefd=True>\n",
      "  \n",
      "\n"
     ]
    },
    {
     "name": "stdout",
     "output_type": "stream",
     "text": [
      "Filename: ./pipeline_calibrated_data/jw01093001001_01101_00001_nis_rateints.fits\n",
      "No.    Name      Ver    Type      Cards   Dimensions   Format\n",
      "  0  PRIMARY       1 PrimaryHDU     165   ()      \n",
      "  1  SCI           1 ImageHDU        48   (80, 80, 65)   float32   \n",
      "  2  ERR           1 ImageHDU        11   (80, 80, 65)   float32   \n",
      "  3  DQ            1 ImageHDU        12   (80, 80, 65)   int32 (rescales to uint32)   \n",
      "  4  INT_TIMES     1 BinTableHDU     24   0R x 7C   [J, D, D, D, D, D, D]   \n",
      "  5  VAR_POISSON    1 ImageHDU        10   (80, 80, 65)   float32   \n",
      "  6  VAR_RNOISE    1 ImageHDU        10   (80, 80, 65)   float32   \n",
      "  7  ASDF          1 BinTableHDU     11   1R x 1C   [5620B]   \n"
     ]
    },
    {
     "name": "stderr",
     "output_type": "stream",
     "text": [
      "2020-09-17 16:16:14,849 - stpipe - WARNING - /Users/thatte/anaconda3/envs/mirage_08052020/lib/python3.6/site-packages/ipykernel_launcher.py:2: ResourceWarning: unclosed file <_io.FileIO name='./pipeline_calibrated_data/jw01093001001_01101_00001_nis_rateints.fits' mode='rb' closefd=True>\n",
      "  \n",
      "\n"
     ]
    },
    {
     "name": "stdout",
     "output_type": "stream",
     "text": [
      "Filename: ./pipeline_calibrated_data/jw01093002001_01101_00001_nis_rateints.fits\n",
      "No.    Name      Ver    Type      Cards   Dimensions   Format\n",
      "  0  PRIMARY       1 PrimaryHDU     165   ()      \n",
      "  1  SCI           1 ImageHDU        48   (80, 80, 60)   float32   \n",
      "  2  ERR           1 ImageHDU        11   (80, 80, 60)   float32   \n",
      "  3  DQ            1 ImageHDU        12   (80, 80, 60)   int32 (rescales to uint32)   \n",
      "  4  INT_TIMES     1 BinTableHDU     24   0R x 7C   [J, D, D, D, D, D, D]   \n",
      "  5  VAR_POISSON    1 ImageHDU        10   (80, 80, 60)   float32   \n",
      "  6  VAR_RNOISE    1 ImageHDU        10   (80, 80, 60)   float32   \n",
      "  7  ASDF          1 BinTableHDU     11   1R x 1C   [5669B]   \n"
     ]
    },
    {
     "name": "stderr",
     "output_type": "stream",
     "text": [
      "2020-09-17 16:16:14,861 - stpipe - WARNING - /Users/thatte/anaconda3/envs/mirage_08052020/lib/python3.6/site-packages/ipykernel_launcher.py:5: ResourceWarning: unclosed file <_io.FileIO name='./pipeline_calibrated_data/jw01093002001_01101_00001_nis_rateints.fits' mode='rb' closefd=True>\n",
      "  \"\"\"\n",
      "\n"
     ]
    },
    {
     "name": "stdout",
     "output_type": "stream",
     "text": [
      "Filename: ./pipeline_calibrated_data/jw01093001001_01101_00001_nis_rate.fits\n",
      "No.    Name      Ver    Type      Cards   Dimensions   Format\n",
      "  0  PRIMARY       1 PrimaryHDU     165   ()      \n",
      "  1  SCI           1 ImageHDU        47   (80, 80)   float32   \n",
      "  2  ERR           1 ImageHDU        10   (80, 80)   float32   \n",
      "  3  DQ            1 ImageHDU        11   (80, 80)   int32 (rescales to uint32)   \n",
      "  4  VAR_POISSON    1 ImageHDU         9   (80, 80)   float32   \n",
      "  5  VAR_RNOISE    1 ImageHDU         9   (80, 80)   float32   \n",
      "  6  ASDF          1 BinTableHDU     11   1R x 1C   [5030B]   \n"
     ]
    },
    {
     "name": "stderr",
     "output_type": "stream",
     "text": [
      "2020-09-17 16:16:14,871 - stpipe - WARNING - /Users/thatte/anaconda3/envs/mirage_08052020/lib/python3.6/site-packages/ipykernel_launcher.py:5: ResourceWarning: unclosed file <_io.FileIO name='./pipeline_calibrated_data/jw01093001001_01101_00001_nis_rate.fits' mode='rb' closefd=True>\n",
      "  \"\"\"\n",
      "\n"
     ]
    },
    {
     "name": "stdout",
     "output_type": "stream",
     "text": [
      "Filename: ./pipeline_calibrated_data/jw01093002001_01101_00001_nis_rate.fits\n",
      "No.    Name      Ver    Type      Cards   Dimensions   Format\n",
      "  0  PRIMARY       1 PrimaryHDU     165   ()      \n",
      "  1  SCI           1 ImageHDU        47   (80, 80)   float32   \n",
      "  2  ERR           1 ImageHDU        10   (80, 80)   float32   \n",
      "  3  DQ            1 ImageHDU        11   (80, 80)   int32 (rescales to uint32)   \n",
      "  4  VAR_POISSON    1 ImageHDU         9   (80, 80)   float32   \n",
      "  5  VAR_RNOISE    1 ImageHDU         9   (80, 80)   float32   \n",
      "  6  ASDF          1 BinTableHDU     11   1R x 1C   [5079B]   \n"
     ]
    }
   ],
   "source": [
    "for i, rateintf in enumerate(rateintsfiles):\n",
    "    file = fits.open(rateintf)\n",
    "    file.info()\n",
    "for i, ratef in enumerate(ratefiles):\n",
    "    file = fits.open(ratef)\n",
    "    file.info()"
   ]
  },
  {
   "cell_type": "markdown",
   "metadata": {},
   "source": [
    "### cal and calints files "
   ]
  },
  {
   "cell_type": "code",
   "execution_count": 44,
   "metadata": {},
   "outputs": [
    {
     "name": "stderr",
     "output_type": "stream",
     "text": [
      "2020-09-17 16:17:52,365 - stpipe - WARNING - /Users/thatte/anaconda3/envs/mirage_08052020/lib/python3.6/site-packages/ipykernel_launcher.py:2: ResourceWarning: unclosed file <_io.FileIO name='./pipeline_calibrated_data/jw01093002001_01101_00001_nis_rate.fits' mode='rb' closefd=True>\n",
      "  \n",
      "\n"
     ]
    },
    {
     "name": "stdout",
     "output_type": "stream",
     "text": [
      "Filename: ./pipeline_calibrated_data/jw01093001001_01101_00001_nis_calints.fits\n",
      "No.    Name      Ver    Type      Cards   Dimensions   Format\n",
      "  0  PRIMARY       1 PrimaryHDU     248   ()      \n",
      "  1  SCI           1 ImageHDU        49   (80, 80, 65)   float32   \n",
      "  2  ERR           1 ImageHDU        11   (80, 80, 65)   float32   \n",
      "  3  DQ            1 ImageHDU        12   (80, 80, 65)   int32 (rescales to uint32)   \n",
      "  4  INT_TIMES     1 BinTableHDU     24   0R x 7C   [J, D, D, D, D, D, D]   \n",
      "  5  VAR_POISSON    1 ImageHDU        10   (80, 80, 65)   float32   \n",
      "  6  VAR_RNOISE    1 ImageHDU        10   (80, 80, 65)   float32   \n",
      "  7  VAR_FLAT      1 ImageHDU        10   (80, 80, 65)   float32   \n",
      "  8  ASDF          1 BinTableHDU     11   1R x 1C   [14976B]   \n"
     ]
    },
    {
     "name": "stderr",
     "output_type": "stream",
     "text": [
      "2020-09-17 16:17:52,382 - stpipe - WARNING - /Users/thatte/anaconda3/envs/mirage_08052020/lib/python3.6/site-packages/ipykernel_launcher.py:2: ResourceWarning: unclosed file <_io.FileIO name='./pipeline_calibrated_data/jw01093001001_01101_00001_nis_calints.fits' mode='rb' closefd=True>\n",
      "  \n",
      "\n"
     ]
    },
    {
     "name": "stdout",
     "output_type": "stream",
     "text": [
      "Filename: ./pipeline_calibrated_data/jw01093002001_01101_00001_nis_calints.fits\n",
      "No.    Name      Ver    Type      Cards   Dimensions   Format\n",
      "  0  PRIMARY       1 PrimaryHDU     248   ()      \n",
      "  1  SCI           1 ImageHDU        49   (80, 80, 60)   float32   \n",
      "  2  ERR           1 ImageHDU        11   (80, 80, 60)   float32   \n",
      "  3  DQ            1 ImageHDU        12   (80, 80, 60)   int32 (rescales to uint32)   \n",
      "  4  INT_TIMES     1 BinTableHDU     24   0R x 7C   [J, D, D, D, D, D, D]   \n",
      "  5  VAR_POISSON    1 ImageHDU        10   (80, 80, 60)   float32   \n",
      "  6  VAR_RNOISE    1 ImageHDU        10   (80, 80, 60)   float32   \n",
      "  7  VAR_FLAT      1 ImageHDU        10   (80, 80, 60)   float32   \n",
      "  8  ASDF          1 BinTableHDU     11   1R x 1C   [15025B]   \n"
     ]
    },
    {
     "name": "stderr",
     "output_type": "stream",
     "text": [
      "2020-09-17 16:17:52,397 - stpipe - WARNING - /Users/thatte/anaconda3/envs/mirage_08052020/lib/python3.6/site-packages/ipykernel_launcher.py:5: ResourceWarning: unclosed file <_io.FileIO name='./pipeline_calibrated_data/jw01093002001_01101_00001_nis_calints.fits' mode='rb' closefd=True>\n",
      "  \"\"\"\n",
      "\n"
     ]
    },
    {
     "name": "stdout",
     "output_type": "stream",
     "text": [
      "Filename: ./pipeline_calibrated_data/jw01093001001_01101_00001_nis_cal.fits\n",
      "No.    Name      Ver    Type      Cards   Dimensions   Format\n",
      "  0  PRIMARY       1 PrimaryHDU     248   ()      \n",
      "  1  SCI           1 ImageHDU        48   (80, 80)   float32   \n",
      "  2  ERR           1 ImageHDU        10   (80, 80)   float32   \n",
      "  3  DQ            1 ImageHDU        11   (80, 80)   int32 (rescales to uint32)   \n",
      "  4  VAR_POISSON    1 ImageHDU         9   (80, 80)   float32   \n",
      "  5  VAR_RNOISE    1 ImageHDU         9   (80, 80)   float32   \n",
      "  6  VAR_FLAT      1 ImageHDU         9   (80, 80)   float32   \n",
      "  7  ASDF          1 BinTableHDU     11   1R x 1C   [14403B]   \n"
     ]
    },
    {
     "name": "stderr",
     "output_type": "stream",
     "text": [
      "2020-09-17 16:17:52,411 - stpipe - WARNING - /Users/thatte/anaconda3/envs/mirage_08052020/lib/python3.6/site-packages/ipykernel_launcher.py:5: ResourceWarning: unclosed file <_io.FileIO name='./pipeline_calibrated_data/jw01093001001_01101_00001_nis_cal.fits' mode='rb' closefd=True>\n",
      "  \"\"\"\n",
      "\n"
     ]
    },
    {
     "name": "stdout",
     "output_type": "stream",
     "text": [
      "Filename: ./pipeline_calibrated_data/jw01093002001_01101_00001_nis_cal.fits\n",
      "No.    Name      Ver    Type      Cards   Dimensions   Format\n",
      "  0  PRIMARY       1 PrimaryHDU     248   ()      \n",
      "  1  SCI           1 ImageHDU        48   (80, 80)   float32   \n",
      "  2  ERR           1 ImageHDU        10   (80, 80)   float32   \n",
      "  3  DQ            1 ImageHDU        11   (80, 80)   int32 (rescales to uint32)   \n",
      "  4  VAR_POISSON    1 ImageHDU         9   (80, 80)   float32   \n",
      "  5  VAR_RNOISE    1 ImageHDU         9   (80, 80)   float32   \n",
      "  6  VAR_FLAT      1 ImageHDU         9   (80, 80)   float32   \n",
      "  7  ASDF          1 BinTableHDU     11   1R x 1C   [14452B]   \n"
     ]
    }
   ],
   "source": [
    "for i, calintf in enumerate(calintsfiles):\n",
    "    file = fits.open(calintf)\n",
    "    file.info()\n",
    "for i, calf in enumerate(calfiles):\n",
    "    file = fits.open(calf)\n",
    "    file.info()"
   ]
  },
  {
   "cell_type": "markdown",
   "metadata": {},
   "source": [
    "## Display calibrated data"
   ]
  },
  {
   "cell_type": "code",
   "execution_count": 47,
   "metadata": {},
   "outputs": [
    {
     "name": "stderr",
     "output_type": "stream",
     "text": [
      "2020-09-17 16:30:10,105 - stpipe - WARNING - /Users/thatte/anaconda3/envs/mirage_08052020/lib/python3.6/site-packages/ipykernel_launcher.py:3: ResourceWarning: unclosed file <_io.FileIO name='./pipeline_calibrated_data/jw01093002001_01101_00001_nis_cal.fits' mode='rb' closefd=True>\n",
      "  This is separate from the ipykernel package so we can avoid doing imports until\n",
      "\n",
      "2020-09-17 16:30:10,114 - stpipe - WARNING - /Users/thatte/anaconda3/envs/mirage_08052020/lib/python3.6/site-packages/ipykernel_launcher.py:3: ResourceWarning: unclosed file <_io.FileIO name='./pipeline_calibrated_data/jw01093001001_01101_00001_nis_cal.fits' mode='rb' closefd=True>\n",
      "  This is separate from the ipykernel package so we can avoid doing imports until\n",
      "\n"
     ]
    },
    {
     "name": "stdout",
     "output_type": "stream",
     "text": [
      "(80, 80)\n",
      "(80, 80)\n"
     ]
    },
    {
     "data": {
      "text/plain": [
       "<matplotlib.image.AxesImage at 0x10e60ad68>"
      ]
     },
     "execution_count": 47,
     "metadata": {},
     "output_type": "execute_result"
    },
    {
     "data": {
      "image/png": "[encoded data removed]",
      "text/plain": [
       "<Figure size 864x432 with 2 Axes>"
      ]
     },
     "metadata": {
      "needs_background": "light"
     },
     "output_type": "display_data"
    }
   ],
   "source": [
    "data = []\n",
    "for df in calfiles:\n",
    "    file = fits.open(df)\n",
    "    im = file[1].data    \n",
    "    print(im.shape)\n",
    "    data.append(im)\n",
    "#print(data[0].shape, data[1].shape)\n",
    "f = plt.figure(figsize = (12, 6))\n",
    "plt.subplot(1, 2, 1)\n",
    "plt.title(\"AB-Dor 2D calibrated file\")\n",
    "plt.imshow(data[0], origin='lower')\n",
    "plt.subplot(1, 2, 2)\n",
    "plt.title(\"HD37093 2D calibrated file\")\n",
    "plt.imshow(data[1], origin='lower')"
   ]
  },
  {
   "cell_type": "markdown",
   "metadata": {},
   "source": [
    "## File information\n",
    "\n",
    "Explain pertinent details about the file you've just downloaded. For example, if working with Kepler lightcurves, explain what's in the different file extensions:\n",
    "\n",
    "```\n",
    "- No. 0 (Primary): This HDU contains meta-data related to the entire file.\n",
    "- No. 1 (Light curve): This HDU contains a binary table that holds data like flux measurements and times. We will extract information from here when we define the parameters for the light curve plot.\n",
    "- No. 2 (Aperture): This HDU contains the image extension with data collected from the aperture. We will also use this to display a bitmask plot that visually represents the optimal aperture used to create the SAP_FLUX column in HDU1.\n",
    "```"
   ]
  },
  {
   "cell_type": "code",
   "execution_count": null,
   "metadata": {},
   "outputs": [],
   "source": []
  },
  {
   "cell_type": "markdown",
   "metadata": {},
   "source": [
    "## Aditional Resources\n",
    "Placeholder\n",
    "\n",
    "- [MAST API](https://mast.stsci.edu/api/v0/index.html)\n",
    "- [Kepler Archive Page (MAST)](https://archive.stsci.edu/kepler/)\n",
    "- [Kepler Archive Manual](https://archive.stsci.edu/kepler/manuals/archive_manual.pdf)\n",
    "- [Exo.MAST website](https://exo.mast.stsci.edu/exo/ExoMast/html/exomast.html)"
   ]
  },
  {
   "cell_type": "markdown",
   "metadata": {
    "slideshow": {
     "slide_type": "slide"
    }
   },
   "source": [
    "## About this notebook\n",
    "\n",
    "**Author:** Deepashri Thatte, Staff Scientist II, Rachel Cooper,\n",
    "**Updated On:** 2020-09-17"
   ]
  },
  {
   "cell_type": "markdown",
   "metadata": {},
   "source": [
    "***"
   ]
  },
  {
   "cell_type": "markdown",
   "metadata": {},
   "source": [
    "[Top of Page](#top)\n",
    "<img style=\"float: right;\" src=\"https://raw.githubusercontent.com/spacetelescope/notebooks/master/assets/stsci_pri_combo_mark_horizonal_white_bkgd.png\" alt=\"Space Telescope Logo\" width=\"200px\"/> "
   ]
  }
 ],
 "metadata": {
  "kernelspec": {
   "display_name": "Python 3",
   "language": "python",
   "name": "python3"
  },
  "language_info": {
   "codemirror_mode": {
    "name": "ipython",
    "version": 3
   },
   "file_extension": ".py",
   "mimetype": "text/x-python",
   "name": "python",
   "nbconvert_exporter": "python",
   "pygments_lexer": "ipython3",
   "version": "3.6.10"
  }
 },
 "nbformat": 4,
 "nbformat_minor": 2
}
